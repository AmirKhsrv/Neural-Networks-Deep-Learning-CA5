{
  "cells": [
    {
      "cell_type": "markdown",
      "metadata": {
        "id": "6c55df42-6b09-4aa0-8368-a74423cefea5"
      },
      "source": [
        "# PQuAD: A Persian question answering dataset"
      ],
      "id": "6c55df42-6b09-4aa0-8368-a74423cefea5"
    },
    {
      "cell_type": "code",
      "execution_count": null,
      "metadata": {
        "colab": {
          "base_uri": "https://localhost:8080/",
          "height": 634
        },
        "id": "P7V6irhYNhq0",
        "outputId": "35368e2c-b29d-421e-bbb0-c6da208d6e72"
      },
      "outputs": [
        {
          "output_type": "stream",
          "name": "stdout",
          "text": [
            "Looking in indexes: https://pypi.org/simple, https://us-python.pkg.dev/colab-wheels/public/simple/\n",
            "Collecting hazm\n",
            "  Downloading hazm-0.9.0-py3-none-any.whl (477 kB)\n",
            "\u001b[2K     \u001b[90m━━━━━━━━━━━━━━━━━━━━━━━━━━━━━━━━━━━━━━━\u001b[0m \u001b[32m477.8/477.8 kB\u001b[0m \u001b[31m5.1 MB/s\u001b[0m eta \u001b[36m0:00:00\u001b[0m\n",
            "\u001b[?25hRequirement already satisfied: gensim<5.0.0,>=4.3.1 in /usr/local/lib/python3.10/dist-packages (from hazm) (4.3.1)\n",
            "Requirement already satisfied: nltk<4.0.0,>=3.8.1 in /usr/local/lib/python3.10/dist-packages (from hazm) (3.8.1)\n",
            "Collecting numpy<2.0.0,>=1.24.3 (from hazm)\n",
            "  Downloading numpy-1.24.3-cp310-cp310-manylinux_2_17_x86_64.manylinux2014_x86_64.whl (17.3 MB)\n",
            "\u001b[2K     \u001b[90m━━━━━━━━━━━━━━━━━━━━━━━━━━━━━━━━━━━━━━━━\u001b[0m \u001b[32m17.3/17.3 MB\u001b[0m \u001b[31m48.0 MB/s\u001b[0m eta \u001b[36m0:00:00\u001b[0m\n",
            "\u001b[?25hCollecting python-crfsuite<0.10.0,>=0.9.9 (from hazm)\n",
            "  Downloading python_crfsuite-0.9.9-cp310-cp310-manylinux_2_17_x86_64.manylinux2014_x86_64.whl (993 kB)\n",
            "\u001b[2K     \u001b[90m━━━━━━━━━━━━━━━━━━━━━━━━━━━━━━━━━━━━━━\u001b[0m \u001b[32m993.5/993.5 kB\u001b[0m \u001b[31m34.3 MB/s\u001b[0m eta \u001b[36m0:00:00\u001b[0m\n",
            "\u001b[?25hRequirement already satisfied: scikit-learn<2.0.0,>=1.2.2 in /usr/local/lib/python3.10/dist-packages (from hazm) (1.2.2)\n",
            "Requirement already satisfied: scipy>=1.7.0 in /usr/local/lib/python3.10/dist-packages (from gensim<5.0.0,>=4.3.1->hazm) (1.10.1)\n",
            "Requirement already satisfied: smart-open>=1.8.1 in /usr/local/lib/python3.10/dist-packages (from gensim<5.0.0,>=4.3.1->hazm) (6.3.0)\n",
            "Requirement already satisfied: click in /usr/local/lib/python3.10/dist-packages (from nltk<4.0.0,>=3.8.1->hazm) (8.1.3)\n",
            "Requirement already satisfied: joblib in /usr/local/lib/python3.10/dist-packages (from nltk<4.0.0,>=3.8.1->hazm) (1.2.0)\n",
            "Requirement already satisfied: regex>=2021.8.3 in /usr/local/lib/python3.10/dist-packages (from nltk<4.0.0,>=3.8.1->hazm) (2022.10.31)\n",
            "Requirement already satisfied: tqdm in /usr/local/lib/python3.10/dist-packages (from nltk<4.0.0,>=3.8.1->hazm) (4.65.0)\n",
            "Requirement already satisfied: threadpoolctl>=2.0.0 in /usr/local/lib/python3.10/dist-packages (from scikit-learn<2.0.0,>=1.2.2->hazm) (3.1.0)\n",
            "Installing collected packages: python-crfsuite, numpy, hazm\n",
            "  Attempting uninstall: numpy\n",
            "    Found existing installation: numpy 1.22.4\n",
            "    Uninstalling numpy-1.22.4:\n",
            "      Successfully uninstalled numpy-1.22.4\n",
            "\u001b[31mERROR: pip's dependency resolver does not currently take into account all the packages that are installed. This behaviour is the source of the following dependency conflicts.\n",
            "numba 0.56.4 requires numpy<1.24,>=1.18, but you have numpy 1.24.3 which is incompatible.\n",
            "tensorflow 2.12.0 requires numpy<1.24,>=1.22, but you have numpy 1.24.3 which is incompatible.\u001b[0m\u001b[31m\n",
            "\u001b[0mSuccessfully installed hazm-0.9.0 numpy-1.24.3 python-crfsuite-0.9.9\n"
          ]
        },
        {
          "output_type": "display_data",
          "data": {
            "application/vnd.colab-display-data+json": {
              "pip_warning": {
                "packages": [
                  "numpy"
                ]
              }
            }
          },
          "metadata": {}
        }
      ],
      "source": [
        "!pip install hazm"
      ],
      "id": "P7V6irhYNhq0"
    },
    {
      "cell_type": "code",
      "execution_count": null,
      "metadata": {
        "colab": {
          "base_uri": "https://localhost:8080/"
        },
        "id": "dEMtQLOgOI8T",
        "outputId": "618746ac-2912-41c1-e355-7c9dfe74d639"
      },
      "outputs": [
        {
          "output_type": "stream",
          "name": "stdout",
          "text": [
            "Looking in indexes: https://pypi.org/simple, https://us-python.pkg.dev/colab-wheels/public/simple/\n",
            "Collecting transformers\n",
            "  Downloading transformers-4.29.2-py3-none-any.whl (7.1 MB)\n",
            "\u001b[2K     \u001b[90m━━━━━━━━━━━━━━━━━━━━━━━━━━━━━━━━━━━━━━━━\u001b[0m \u001b[32m7.1/7.1 MB\u001b[0m \u001b[31m28.7 MB/s\u001b[0m eta \u001b[36m0:00:00\u001b[0m\n",
            "\u001b[?25hRequirement already satisfied: filelock in /usr/local/lib/python3.10/dist-packages (from transformers) (3.12.0)\n",
            "Collecting huggingface-hub<1.0,>=0.14.1 (from transformers)\n",
            "  Downloading huggingface_hub-0.15.1-py3-none-any.whl (236 kB)\n",
            "\u001b[2K     \u001b[90m━━━━━━━━━━━━━━━━━━━━━━━━━━━━━━━━━━━━━━\u001b[0m \u001b[32m236.8/236.8 kB\u001b[0m \u001b[31m26.1 MB/s\u001b[0m eta \u001b[36m0:00:00\u001b[0m\n",
            "\u001b[?25hRequirement already satisfied: numpy>=1.17 in /usr/local/lib/python3.10/dist-packages (from transformers) (1.24.3)\n",
            "Requirement already satisfied: packaging>=20.0 in /usr/local/lib/python3.10/dist-packages (from transformers) (23.1)\n",
            "Requirement already satisfied: pyyaml>=5.1 in /usr/local/lib/python3.10/dist-packages (from transformers) (6.0)\n",
            "Requirement already satisfied: regex!=2019.12.17 in /usr/local/lib/python3.10/dist-packages (from transformers) (2022.10.31)\n",
            "Requirement already satisfied: requests in /usr/local/lib/python3.10/dist-packages (from transformers) (2.27.1)\n",
            "Collecting tokenizers!=0.11.3,<0.14,>=0.11.1 (from transformers)\n",
            "  Downloading tokenizers-0.13.3-cp310-cp310-manylinux_2_17_x86_64.manylinux2014_x86_64.whl (7.8 MB)\n",
            "\u001b[2K     \u001b[90m━━━━━━━━━━━━━━━━━━━━━━━━━━━━━━━━━━━━━━━━\u001b[0m \u001b[32m7.8/7.8 MB\u001b[0m \u001b[31m78.0 MB/s\u001b[0m eta \u001b[36m0:00:00\u001b[0m\n",
            "\u001b[?25hRequirement already satisfied: tqdm>=4.27 in /usr/local/lib/python3.10/dist-packages (from transformers) (4.65.0)\n",
            "Requirement already satisfied: fsspec in /usr/local/lib/python3.10/dist-packages (from huggingface-hub<1.0,>=0.14.1->transformers) (2023.4.0)\n",
            "Requirement already satisfied: typing-extensions>=3.7.4.3 in /usr/local/lib/python3.10/dist-packages (from huggingface-hub<1.0,>=0.14.1->transformers) (4.5.0)\n",
            "Requirement already satisfied: urllib3<1.27,>=1.21.1 in /usr/local/lib/python3.10/dist-packages (from requests->transformers) (1.26.15)\n",
            "Requirement already satisfied: certifi>=2017.4.17 in /usr/local/lib/python3.10/dist-packages (from requests->transformers) (2022.12.7)\n",
            "Requirement already satisfied: charset-normalizer~=2.0.0 in /usr/local/lib/python3.10/dist-packages (from requests->transformers) (2.0.12)\n",
            "Requirement already satisfied: idna<4,>=2.5 in /usr/local/lib/python3.10/dist-packages (from requests->transformers) (3.4)\n",
            "Installing collected packages: tokenizers, huggingface-hub, transformers\n",
            "Successfully installed huggingface-hub-0.15.1 tokenizers-0.13.3 transformers-4.29.2\n"
          ]
        }
      ],
      "source": [
        "!pip install transformers"
      ],
      "id": "dEMtQLOgOI8T"
    },
    {
      "cell_type": "code",
      "execution_count": null,
      "metadata": {
        "colab": {
          "base_uri": "https://localhost:8080/"
        },
        "id": "NXF1hPWFOZxR",
        "outputId": "f8af6fe1-e033-42f2-9119-76acdddb9a9e"
      },
      "outputs": [
        {
          "output_type": "stream",
          "name": "stdout",
          "text": [
            "Looking in indexes: https://pypi.org/simple, https://us-python.pkg.dev/colab-wheels/public/simple/\n",
            "Collecting datasets\n",
            "  Downloading datasets-2.12.0-py3-none-any.whl (474 kB)\n",
            "\u001b[2K     \u001b[90m━━━━━━━━━━━━━━━━━━━━━━━━━━━━━━━━━━━━━━━\u001b[0m \u001b[32m474.6/474.6 kB\u001b[0m \u001b[31m5.1 MB/s\u001b[0m eta \u001b[36m0:00:00\u001b[0m\n",
            "\u001b[?25hRequirement already satisfied: numpy>=1.17 in /usr/local/lib/python3.10/dist-packages (from datasets) (1.24.3)\n",
            "Requirement already satisfied: pyarrow>=8.0.0 in /usr/local/lib/python3.10/dist-packages (from datasets) (9.0.0)\n",
            "Collecting dill<0.3.7,>=0.3.0 (from datasets)\n",
            "  Downloading dill-0.3.6-py3-none-any.whl (110 kB)\n",
            "\u001b[2K     \u001b[90m━━━━━━━━━━━━━━━━━━━━━━━━━━━━━━━━━━━━━━\u001b[0m \u001b[32m110.5/110.5 kB\u001b[0m \u001b[31m10.8 MB/s\u001b[0m eta \u001b[36m0:00:00\u001b[0m\n",
            "\u001b[?25hRequirement already satisfied: pandas in /usr/local/lib/python3.10/dist-packages (from datasets) (1.5.3)\n",
            "Requirement already satisfied: requests>=2.19.0 in /usr/local/lib/python3.10/dist-packages (from datasets) (2.27.1)\n",
            "Requirement already satisfied: tqdm>=4.62.1 in /usr/local/lib/python3.10/dist-packages (from datasets) (4.65.0)\n",
            "Collecting xxhash (from datasets)\n",
            "  Downloading xxhash-3.2.0-cp310-cp310-manylinux_2_17_x86_64.manylinux2014_x86_64.whl (212 kB)\n",
            "\u001b[2K     \u001b[90m━━━━━━━━━━━━━━━━━━━━━━━━━━━━━━━━━━━━━━\u001b[0m \u001b[32m212.5/212.5 kB\u001b[0m \u001b[31m24.0 MB/s\u001b[0m eta \u001b[36m0:00:00\u001b[0m\n",
            "\u001b[?25hCollecting multiprocess (from datasets)\n",
            "  Downloading multiprocess-0.70.14-py310-none-any.whl (134 kB)\n",
            "\u001b[2K     \u001b[90m━━━━━━━━━━━━━━━━━━━━━━━━━━━━━━━━━━━━━━\u001b[0m \u001b[32m134.3/134.3 kB\u001b[0m \u001b[31m14.6 MB/s\u001b[0m eta \u001b[36m0:00:00\u001b[0m\n",
            "\u001b[?25hRequirement already satisfied: fsspec[http]>=2021.11.1 in /usr/local/lib/python3.10/dist-packages (from datasets) (2023.4.0)\n",
            "Collecting aiohttp (from datasets)\n",
            "  Downloading aiohttp-3.8.4-cp310-cp310-manylinux_2_17_x86_64.manylinux2014_x86_64.whl (1.0 MB)\n",
            "\u001b[2K     \u001b[90m━━━━━━━━━━━━━━━━━━━━━━━━━━━━━━━━━━━━━━━━\u001b[0m \u001b[32m1.0/1.0 MB\u001b[0m \u001b[31m23.8 MB/s\u001b[0m eta \u001b[36m0:00:00\u001b[0m\n",
            "\u001b[?25hRequirement already satisfied: huggingface-hub<1.0.0,>=0.11.0 in /usr/local/lib/python3.10/dist-packages (from datasets) (0.15.1)\n",
            "Requirement already satisfied: packaging in /usr/local/lib/python3.10/dist-packages (from datasets) (23.1)\n",
            "Collecting responses<0.19 (from datasets)\n",
            "  Downloading responses-0.18.0-py3-none-any.whl (38 kB)\n",
            "Requirement already satisfied: pyyaml>=5.1 in /usr/local/lib/python3.10/dist-packages (from datasets) (6.0)\n",
            "Requirement already satisfied: attrs>=17.3.0 in /usr/local/lib/python3.10/dist-packages (from aiohttp->datasets) (23.1.0)\n",
            "Requirement already satisfied: charset-normalizer<4.0,>=2.0 in /usr/local/lib/python3.10/dist-packages (from aiohttp->datasets) (2.0.12)\n",
            "Collecting multidict<7.0,>=4.5 (from aiohttp->datasets)\n",
            "  Downloading multidict-6.0.4-cp310-cp310-manylinux_2_17_x86_64.manylinux2014_x86_64.whl (114 kB)\n",
            "\u001b[2K     \u001b[90m━━━━━━━━━━━━━━━━━━━━━━━━━━━━━━━━━━━━━━\u001b[0m \u001b[32m114.5/114.5 kB\u001b[0m \u001b[31m14.8 MB/s\u001b[0m eta \u001b[36m0:00:00\u001b[0m\n",
            "\u001b[?25hCollecting async-timeout<5.0,>=4.0.0a3 (from aiohttp->datasets)\n",
            "  Downloading async_timeout-4.0.2-py3-none-any.whl (5.8 kB)\n",
            "Collecting yarl<2.0,>=1.0 (from aiohttp->datasets)\n",
            "  Downloading yarl-1.9.2-cp310-cp310-manylinux_2_17_x86_64.manylinux2014_x86_64.whl (268 kB)\n",
            "\u001b[2K     \u001b[90m━━━━━━━━━━━━━━━━━━━━━━━━━━━━━━━━━━━━━━\u001b[0m \u001b[32m268.8/268.8 kB\u001b[0m \u001b[31m30.1 MB/s\u001b[0m eta \u001b[36m0:00:00\u001b[0m\n",
            "\u001b[?25hCollecting frozenlist>=1.1.1 (from aiohttp->datasets)\n",
            "  Downloading frozenlist-1.3.3-cp310-cp310-manylinux_2_5_x86_64.manylinux1_x86_64.manylinux_2_17_x86_64.manylinux2014_x86_64.whl (149 kB)\n",
            "\u001b[2K     \u001b[90m━━━━━━━━━━━━━━━━━━━━━━━━━━━━━━━━━━━━━━\u001b[0m \u001b[32m149.6/149.6 kB\u001b[0m \u001b[31m18.5 MB/s\u001b[0m eta \u001b[36m0:00:00\u001b[0m\n",
            "\u001b[?25hCollecting aiosignal>=1.1.2 (from aiohttp->datasets)\n",
            "  Downloading aiosignal-1.3.1-py3-none-any.whl (7.6 kB)\n",
            "Requirement already satisfied: filelock in /usr/local/lib/python3.10/dist-packages (from huggingface-hub<1.0.0,>=0.11.0->datasets) (3.12.0)\n",
            "Requirement already satisfied: typing-extensions>=3.7.4.3 in /usr/local/lib/python3.10/dist-packages (from huggingface-hub<1.0.0,>=0.11.0->datasets) (4.5.0)\n",
            "Requirement already satisfied: urllib3<1.27,>=1.21.1 in /usr/local/lib/python3.10/dist-packages (from requests>=2.19.0->datasets) (1.26.15)\n",
            "Requirement already satisfied: certifi>=2017.4.17 in /usr/local/lib/python3.10/dist-packages (from requests>=2.19.0->datasets) (2022.12.7)\n",
            "Requirement already satisfied: idna<4,>=2.5 in /usr/local/lib/python3.10/dist-packages (from requests>=2.19.0->datasets) (3.4)\n",
            "Requirement already satisfied: python-dateutil>=2.8.1 in /usr/local/lib/python3.10/dist-packages (from pandas->datasets) (2.8.2)\n",
            "Requirement already satisfied: pytz>=2020.1 in /usr/local/lib/python3.10/dist-packages (from pandas->datasets) (2022.7.1)\n",
            "Requirement already satisfied: six>=1.5 in /usr/local/lib/python3.10/dist-packages (from python-dateutil>=2.8.1->pandas->datasets) (1.16.0)\n",
            "Installing collected packages: xxhash, multidict, frozenlist, dill, async-timeout, yarl, responses, multiprocess, aiosignal, aiohttp, datasets\n",
            "Successfully installed aiohttp-3.8.4 aiosignal-1.3.1 async-timeout-4.0.2 datasets-2.12.0 dill-0.3.6 frozenlist-1.3.3 multidict-6.0.4 multiprocess-0.70.14 responses-0.18.0 xxhash-3.2.0 yarl-1.9.2\n"
          ]
        }
      ],
      "source": [
        "!pip install datasets"
      ],
      "id": "NXF1hPWFOZxR"
    },
    {
      "cell_type": "code",
      "execution_count": null,
      "metadata": {
        "id": "49f5d278-7529-4c54-8ff0-091ac4c68a2c"
      },
      "outputs": [],
      "source": [
        "from datasets import Dataset as dtdt\n",
        "from datasets import DatasetDict\n",
        "from datasets import ClassLabel, Sequence\n",
        "from datasets import load_dataset, load_metric\n",
        "from torch.utils.data import DataLoader, Dataset\n",
        "from transformers import get_linear_schedule_with_warmup, AdamW\n",
        "from transformers import AutoTokenizer, AutoModel, AutoModelForMaskedLM , XLMRobertaForSequenceClassification , AutoModelForQuestionAnswering\n",
        "\n",
        "import collections\n",
        "import numpy as np\n",
        "import transformers\n",
        "import pandas as pd\n",
        "from tqdm import tqdm\n",
        "from torch import nn, optim\n",
        "\n",
        "import hazm\n",
        "import json\n",
        "import time\n",
        "import torch\n",
        "import random\n",
        "import warnings\n",
        "\n",
        "import matplotlib.pyplot as plt\n",
        "import torch.nn.functional as F\n",
        "from datasets import load_dataset\n",
        "from tqdm.notebook import tqdm_notebook"
      ],
      "id": "49f5d278-7529-4c54-8ff0-091ac4c68a2c"
    },
    {
      "cell_type": "code",
      "execution_count": null,
      "metadata": {
        "colab": {
          "base_uri": "https://localhost:8080/"
        },
        "id": "217566b9-c1e5-47b4-9806-bde32d99ec08",
        "outputId": "4b46f8ff-3599-4b36-edc6-1ad19b9f181a"
      },
      "outputs": [
        {
          "output_type": "stream",
          "name": "stdout",
          "text": [
            "fatal: destination path 'PQuAD' already exists and is not an empty directory.\n"
          ]
        }
      ],
      "source": [
        "!git clone https://github.com/AUT-NLP/PQuAD"
      ],
      "id": "217566b9-c1e5-47b4-9806-bde32d99ec08"
    },
    {
      "cell_type": "code",
      "execution_count": null,
      "metadata": {
        "id": "d1c67f43-0d04-4883-94bc-db925b218ea5"
      },
      "outputs": [],
      "source": [
        "hazm_normalizer = hazm.Normalizer(\n",
        "    persian_numbers=True, \n",
        "    persian_style=True, \n",
        "    remove_diacritics=True\n",
        ")"
      ],
      "id": "d1c67f43-0d04-4883-94bc-db925b218ea5"
    },
    {
      "cell_type": "code",
      "execution_count": null,
      "metadata": {
        "id": "VwbIJ9nOrged"
      },
      "outputs": [],
      "source": [
        "BEGIN_ANS_POS = \"BEGIN_ANS_POS\"\n",
        "END_ANS_POS = \"END_ANS_POS\"\n",
        "INPUT_IDS = \"INPUT_IDS\"\n",
        "ATTENTION_MASK = \"ATTENTION_MASK\"\n",
        "SAMPLE_ID = \"SAMPLE_ID\"\n",
        "OFFSET_MAPPING = \"OFFSET_MAPPING\"\n",
        "TOKEN_TYPE_IDS = \"TOKEN_TYPE_IDS\""
      ],
      "id": "VwbIJ9nOrged"
    },
    {
      "cell_type": "code",
      "execution_count": null,
      "metadata": {
        "id": "eM36VbS_s8Hq"
      },
      "outputs": [],
      "source": [
        "class DFCreatorFromJson(object):\n",
        "  def __init__(self):\n",
        "    self.json_path = None\n",
        "    self.data = None\n",
        "    self.df_data = None\n",
        "\n",
        "  def load_json(self, json_path):\n",
        "    with open(json_path, encoding='utf-8') as f:\n",
        "        self.data = json.load(f)\n",
        "\n",
        "  def create_df_data(self):\n",
        "    df_data = pd.DataFrame(columns=[\"id\", \"title\", \"context\", \"question\", \"answers\"])\n",
        "\n",
        "    for obj in tqdm(df_data[\"data\"], total=len(df_data[\"data\"])):\n",
        "        title = obj[\"title\"]\n",
        "        paragraphs = obj[\"paragraphs\"]\n",
        "\n",
        "        for paragraph in paragraphs:\n",
        "            context = paragraph[\"context\"]\n",
        "            qas = paragraph[\"qas\"]\n",
        "\n",
        "            for qas_obj in qas:\n",
        "                question = qas_obj[\"question\"]\n",
        "                id = qas_obj[\"id\"]\n",
        "                answers = qas_obj[\"answers\"]\n",
        "                answer_list = []\n",
        "                answer_text_list = []\n",
        "\n",
        "                for answer in answers:\n",
        "                    answer_list.append(answer[\"answer_start\"])\n",
        "                    answer_text_list.append(answer[\"text\"])\n",
        "\n",
        "                df_data = df_data.append(\n",
        "                  {\n",
        "                      \"id\": id, \n",
        "                      \"title\": title, \n",
        "                      \"context\": context, \n",
        "                      \"question\": question, \n",
        "                      \"answers\": {\n",
        "                          'text': answer_text_list, \n",
        "                          'answer_start': answer_list\n",
        "                        }\n",
        "                  }, \n",
        "                  ignore_index=True\n",
        "                )\n",
        "\n",
        "    return df_data\n",
        "\n",
        "  def get_df(self, json_path):\n",
        "      self.load_json(json_path)\n",
        "      return self.create_df_data()\n"
      ],
      "id": "eM36VbS_s8Hq"
    },
    {
      "cell_type": "code",
      "execution_count": null,
      "metadata": {
        "colab": {
          "base_uri": "https://localhost:8080/"
        },
        "id": "c0dc010d-a685-45d4-8101-af7073f0e6a2",
        "outputId": "b24cd79c-6795-411d-fc11-e9ade56725c2"
      },
      "outputs": [
        {
          "output_type": "stream",
          "name": "stderr",
          "text": [
            "100%|██████████| 891/891 [03:37<00:00,  4.10it/s]\n",
            "100%|██████████| 120/120 [00:12<00:00,  9.94it/s]\n",
            "100%|██████████| 114/114 [00:11<00:00, 10.03it/s]\n"
          ]
        }
      ],
      "source": [
        "warnings.filterwarnings(\"ignore\", category=FutureWarning)\n",
        "df_creator = DFCreatorFromJson()\n",
        "\n",
        "train_df = df_creator.get_df(\"./PQuAD/Dataset/Train.json\")\n",
        "valid_df = df_creator.get_df(\"./PQuAD/Dataset/Validation.json\")\n",
        "test_df = df_creator.get_df(\"./PQuAD/Dataset/Test.json\")"
      ],
      "id": "c0dc010d-a685-45d4-8101-af7073f0e6a2"
    },
    {
      "cell_type": "code",
      "execution_count": null,
      "metadata": {
        "colab": {
          "base_uri": "https://localhost:8080/",
          "height": 641
        },
        "id": "l4rvM5AWrOJm",
        "outputId": "d34a4dca-dca1-4351-d11a-23f73a2bedcb"
      },
      "outputs": [
        {
          "output_type": "execute_result",
          "data": {
            "text/plain": [
              "            id             title  \\\n",
              "0       101001            آرسنال   \n",
              "1       101002            آرسنال   \n",
              "2       101003            آرسنال   \n",
              "3       101004            آرسنال   \n",
              "4       101005            آرسنال   \n",
              "...        ...               ...   \n",
              "63989  1503901  ناصرالدین الطوسی   \n",
              "63990  1503902  ناصرالدین الطوسی   \n",
              "63991  1503903  ناصرالدین الطوسی   \n",
              "63992  1503904  ناصرالدین الطوسی   \n",
              "63993  1503905  ناصرالدین الطوسی   \n",
              "\n",
              "                                                 context  \\\n",
              "0      باشگاه فوتبال آرسنال (به انگلیسی: Arsenal Foo...   \n",
              "1      باشگاه فوتبال آرسنال (به انگلیسی: Arsenal Foo...   \n",
              "2      باشگاه فوتبال آرسنال (به انگلیسی: Arsenal Foo...   \n",
              "3      باشگاه فوتبال آرسنال (به انگلیسی: Arsenal Foo...   \n",
              "4      باشگاه فوتبال آرسنال (به انگلیسی: Arsenal Foo...   \n",
              "...                                                  ...   \n",
              "63989  دو قرن پیش از خواجه، تحولات کلامی بنوعی با ابو...   \n",
              "63990  دو قرن پیش از خواجه، تحولات کلامی بنوعی با ابو...   \n",
              "63991  دو قرن پیش از خواجه، تحولات کلامی بنوعی با ابو...   \n",
              "63992  دو قرن پیش از خواجه، تحولات کلامی بنوعی با ابو...   \n",
              "63993  دو قرن پیش از خواجه، تحولات کلامی بنوعی با ابو...   \n",
              "\n",
              "                                                question  \\\n",
              "0          موقعیت جغرافی باشگاه فوتبال آرسنال را بگویید؟   \n",
              "1      لیگ برتر انگلستان موفق به کسب چند عنوان قهرمان...   \n",
              "2      بیشترین بازی بدون باخت پیاپی متعلق به کدام باش...   \n",
              "3      باشگاه فوتبال آرسنال موفق به کسب چند عنوان قهر...   \n",
              "4      باشگاه فوتبال آرسنال چند عنوان قهرمانی در جام ...   \n",
              "...                                                  ...   \n",
              "63989                      ملاحمی از شاگردان چه کسی بود؟   \n",
              "63990  اندیشه‌های چه کسانی تأثیر بسزایی در فلسفی شدن...   \n",
              "63991                               ابوالحسین بصری کیست؟   \n",
              "63992                                        غزالی کیست؟   \n",
              "63993                           آثار غزالی را نام ببرید؟   \n",
              "\n",
              "                                                 answers  \n",
              "0      {'text': ['شمال شهر لندن'], 'answer_start': [86]}  \n",
              "1                {'text': ['۱۴'], 'answer_start': [173]}  \n",
              "2      {'text': ['باشگاه فوتبال انگلیسی'], 'answer_st...  \n",
              "3                {'text': ['۱۳'], 'answer_start': [119]}  \n",
              "4                {'text': ['۱۶'], 'answer_start': [214]}  \n",
              "...                                                  ...  \n",
              "63989  {'text': ['ابوالحسین بصری'], 'answer_start': [...  \n",
              "63990  {'text': ['فخر رازی و ملاحمی و بصری'], 'answer...  \n",
              "63991                   {'text': [], 'answer_start': []}  \n",
              "63992                   {'text': [], 'answer_start': []}  \n",
              "63993                   {'text': [], 'answer_start': []}  \n",
              "\n",
              "[63994 rows x 5 columns]"
            ],
            "text/html": [
              "\n",
              "  <div id=\"df-c9cb030e-db3a-4247-9bdf-034ccadc5110\">\n",
              "    <div class=\"colab-df-container\">\n",
              "      <div>\n",
              "<style scoped>\n",
              "    .dataframe tbody tr th:only-of-type {\n",
              "        vertical-align: middle;\n",
              "    }\n",
              "\n",
              "    .dataframe tbody tr th {\n",
              "        vertical-align: top;\n",
              "    }\n",
              "\n",
              "    .dataframe thead th {\n",
              "        text-align: right;\n",
              "    }\n",
              "</style>\n",
              "<table border=\"1\" class=\"dataframe\">\n",
              "  <thead>\n",
              "    <tr style=\"text-align: right;\">\n",
              "      <th></th>\n",
              "      <th>id</th>\n",
              "      <th>title</th>\n",
              "      <th>context</th>\n",
              "      <th>question</th>\n",
              "      <th>answers</th>\n",
              "    </tr>\n",
              "  </thead>\n",
              "  <tbody>\n",
              "    <tr>\n",
              "      <th>0</th>\n",
              "      <td>101001</td>\n",
              "      <td>آرسنال</td>\n",
              "      <td>باشگاه فوتبال آرسنال (به انگلیسی: Arsenal Foo...</td>\n",
              "      <td>موقعیت جغرافی باشگاه فوتبال آرسنال را بگویید؟</td>\n",
              "      <td>{'text': ['شمال شهر لندن'], 'answer_start': [86]}</td>\n",
              "    </tr>\n",
              "    <tr>\n",
              "      <th>1</th>\n",
              "      <td>101002</td>\n",
              "      <td>آرسنال</td>\n",
              "      <td>باشگاه فوتبال آرسنال (به انگلیسی: Arsenal Foo...</td>\n",
              "      <td>لیگ برتر انگلستان موفق به کسب چند عنوان قهرمان...</td>\n",
              "      <td>{'text': ['۱۴'], 'answer_start': [173]}</td>\n",
              "    </tr>\n",
              "    <tr>\n",
              "      <th>2</th>\n",
              "      <td>101003</td>\n",
              "      <td>آرسنال</td>\n",
              "      <td>باشگاه فوتبال آرسنال (به انگلیسی: Arsenal Foo...</td>\n",
              "      <td>بیشترین بازی بدون باخت پیاپی متعلق به کدام باش...</td>\n",
              "      <td>{'text': ['باشگاه فوتبال انگلیسی'], 'answer_st...</td>\n",
              "    </tr>\n",
              "    <tr>\n",
              "      <th>3</th>\n",
              "      <td>101004</td>\n",
              "      <td>آرسنال</td>\n",
              "      <td>باشگاه فوتبال آرسنال (به انگلیسی: Arsenal Foo...</td>\n",
              "      <td>باشگاه فوتبال آرسنال موفق به کسب چند عنوان قهر...</td>\n",
              "      <td>{'text': ['۱۳'], 'answer_start': [119]}</td>\n",
              "    </tr>\n",
              "    <tr>\n",
              "      <th>4</th>\n",
              "      <td>101005</td>\n",
              "      <td>آرسنال</td>\n",
              "      <td>باشگاه فوتبال آرسنال (به انگلیسی: Arsenal Foo...</td>\n",
              "      <td>باشگاه فوتبال آرسنال چند عنوان قهرمانی در جام ...</td>\n",
              "      <td>{'text': ['۱۶'], 'answer_start': [214]}</td>\n",
              "    </tr>\n",
              "    <tr>\n",
              "      <th>...</th>\n",
              "      <td>...</td>\n",
              "      <td>...</td>\n",
              "      <td>...</td>\n",
              "      <td>...</td>\n",
              "      <td>...</td>\n",
              "    </tr>\n",
              "    <tr>\n",
              "      <th>63989</th>\n",
              "      <td>1503901</td>\n",
              "      <td>ناصرالدین الطوسی</td>\n",
              "      <td>دو قرن پیش از خواجه، تحولات کلامی بنوعی با ابو...</td>\n",
              "      <td>ملاحمی از شاگردان چه کسی بود؟</td>\n",
              "      <td>{'text': ['ابوالحسین بصری'], 'answer_start': [...</td>\n",
              "    </tr>\n",
              "    <tr>\n",
              "      <th>63990</th>\n",
              "      <td>1503902</td>\n",
              "      <td>ناصرالدین الطوسی</td>\n",
              "      <td>دو قرن پیش از خواجه، تحولات کلامی بنوعی با ابو...</td>\n",
              "      <td>اندیشه‌های چه کسانی تأثیر بسزایی در فلسفی شدن...</td>\n",
              "      <td>{'text': ['فخر رازی و ملاحمی و بصری'], 'answer...</td>\n",
              "    </tr>\n",
              "    <tr>\n",
              "      <th>63991</th>\n",
              "      <td>1503903</td>\n",
              "      <td>ناصرالدین الطوسی</td>\n",
              "      <td>دو قرن پیش از خواجه، تحولات کلامی بنوعی با ابو...</td>\n",
              "      <td>ابوالحسین بصری کیست؟</td>\n",
              "      <td>{'text': [], 'answer_start': []}</td>\n",
              "    </tr>\n",
              "    <tr>\n",
              "      <th>63992</th>\n",
              "      <td>1503904</td>\n",
              "      <td>ناصرالدین الطوسی</td>\n",
              "      <td>دو قرن پیش از خواجه، تحولات کلامی بنوعی با ابو...</td>\n",
              "      <td>غزالی کیست؟</td>\n",
              "      <td>{'text': [], 'answer_start': []}</td>\n",
              "    </tr>\n",
              "    <tr>\n",
              "      <th>63993</th>\n",
              "      <td>1503905</td>\n",
              "      <td>ناصرالدین الطوسی</td>\n",
              "      <td>دو قرن پیش از خواجه، تحولات کلامی بنوعی با ابو...</td>\n",
              "      <td>آثار غزالی را نام ببرید؟</td>\n",
              "      <td>{'text': [], 'answer_start': []}</td>\n",
              "    </tr>\n",
              "  </tbody>\n",
              "</table>\n",
              "<p>63994 rows × 5 columns</p>\n",
              "</div>\n",
              "      <button class=\"colab-df-convert\" onclick=\"convertToInteractive('df-c9cb030e-db3a-4247-9bdf-034ccadc5110')\"\n",
              "              title=\"Convert this dataframe to an interactive table.\"\n",
              "              style=\"display:none;\">\n",
              "        \n",
              "  <svg xmlns=\"http://www.w3.org/2000/svg\" height=\"24px\"viewBox=\"0 0 24 24\"\n",
              "       width=\"24px\">\n",
              "    <path d=\"M0 0h24v24H0V0z\" fill=\"none\"/>\n",
              "    <path d=\"M18.56 5.44l.94 2.06.94-2.06 2.06-.94-2.06-.94-.94-2.06-.94 2.06-2.06.94zm-11 1L8.5 8.5l.94-2.06 2.06-.94-2.06-.94L8.5 2.5l-.94 2.06-2.06.94zm10 10l.94 2.06.94-2.06 2.06-.94-2.06-.94-.94-2.06-.94 2.06-2.06.94z\"/><path d=\"M17.41 7.96l-1.37-1.37c-.4-.4-.92-.59-1.43-.59-.52 0-1.04.2-1.43.59L10.3 9.45l-7.72 7.72c-.78.78-.78 2.05 0 2.83L4 21.41c.39.39.9.59 1.41.59.51 0 1.02-.2 1.41-.59l7.78-7.78 2.81-2.81c.8-.78.8-2.07 0-2.86zM5.41 20L4 18.59l7.72-7.72 1.47 1.35L5.41 20z\"/>\n",
              "  </svg>\n",
              "      </button>\n",
              "      \n",
              "  <style>\n",
              "    .colab-df-container {\n",
              "      display:flex;\n",
              "      flex-wrap:wrap;\n",
              "      gap: 12px;\n",
              "    }\n",
              "\n",
              "    .colab-df-convert {\n",
              "      background-color: #E8F0FE;\n",
              "      border: none;\n",
              "      border-radius: 50%;\n",
              "      cursor: pointer;\n",
              "      display: none;\n",
              "      fill: #1967D2;\n",
              "      height: 32px;\n",
              "      padding: 0 0 0 0;\n",
              "      width: 32px;\n",
              "    }\n",
              "\n",
              "    .colab-df-convert:hover {\n",
              "      background-color: #E2EBFA;\n",
              "      box-shadow: 0px 1px 2px rgba(60, 64, 67, 0.3), 0px 1px 3px 1px rgba(60, 64, 67, 0.15);\n",
              "      fill: #174EA6;\n",
              "    }\n",
              "\n",
              "    [theme=dark] .colab-df-convert {\n",
              "      background-color: #3B4455;\n",
              "      fill: #D2E3FC;\n",
              "    }\n",
              "\n",
              "    [theme=dark] .colab-df-convert:hover {\n",
              "      background-color: #434B5C;\n",
              "      box-shadow: 0px 1px 3px 1px rgba(0, 0, 0, 0.15);\n",
              "      filter: drop-shadow(0px 1px 2px rgba(0, 0, 0, 0.3));\n",
              "      fill: #FFFFFF;\n",
              "    }\n",
              "  </style>\n",
              "\n",
              "      <script>\n",
              "        const buttonEl =\n",
              "          document.querySelector('#df-c9cb030e-db3a-4247-9bdf-034ccadc5110 button.colab-df-convert');\n",
              "        buttonEl.style.display =\n",
              "          google.colab.kernel.accessAllowed ? 'block' : 'none';\n",
              "\n",
              "        async function convertToInteractive(key) {\n",
              "          const element = document.querySelector('#df-c9cb030e-db3a-4247-9bdf-034ccadc5110');\n",
              "          const dataTable =\n",
              "            await google.colab.kernel.invokeFunction('convertToInteractive',\n",
              "                                                     [key], {});\n",
              "          if (!dataTable) return;\n",
              "\n",
              "          const docLinkHtml = 'Like what you see? Visit the ' +\n",
              "            '<a target=\"_blank\" href=https://colab.research.google.com/notebooks/data_table.ipynb>data table notebook</a>'\n",
              "            + ' to learn more about interactive tables.';\n",
              "          element.innerHTML = '';\n",
              "          dataTable['output_type'] = 'display_data';\n",
              "          await google.colab.output.renderOutput(dataTable, element);\n",
              "          const docLink = document.createElement('div');\n",
              "          docLink.innerHTML = docLinkHtml;\n",
              "          element.appendChild(docLink);\n",
              "        }\n",
              "      </script>\n",
              "    </div>\n",
              "  </div>\n",
              "  "
            ]
          },
          "metadata": {},
          "execution_count": 25
        }
      ],
      "source": [
        "train_df"
      ],
      "id": "l4rvM5AWrOJm"
    },
    {
      "cell_type": "code",
      "execution_count": null,
      "metadata": {
        "colab": {
          "base_uri": "https://localhost:8080/"
        },
        "id": "Myg8hYVYR7gQ",
        "outputId": "f176ea78-41b0-466d-8a54-520a72744c2d"
      },
      "outputs": [
        {
          "name": "stdout",
          "output_type": "stream",
          "text": [
            "<class 'pandas.core.frame.DataFrame'>\n",
            "RangeIndex: 63994 entries, 0 to 63993\n",
            "Data columns (total 5 columns):\n",
            " #   Column    Non-Null Count  Dtype \n",
            "---  ------    --------------  ----- \n",
            " 0   id        63994 non-null  object\n",
            " 1   title     63994 non-null  object\n",
            " 2   context   63994 non-null  object\n",
            " 3   question  63994 non-null  object\n",
            " 4   answers   63994 non-null  object\n",
            "dtypes: object(5)\n",
            "memory usage: 2.4+ MB\n"
          ]
        }
      ],
      "source": [
        "train_df.info()"
      ],
      "id": "Myg8hYVYR7gQ"
    },
    {
      "cell_type": "code",
      "execution_count": null,
      "metadata": {
        "colab": {
          "base_uri": "https://localhost:8080/"
        },
        "id": "F2LBhyvqrI1u",
        "outputId": "9b257556-74bc-4e20-a614-538e9ec54982"
      },
      "outputs": [
        {
          "name": "stdout",
          "output_type": "stream",
          "text": [
            "<class 'pandas.core.frame.DataFrame'>\n",
            "RangeIndex: 7976 entries, 0 to 7975\n",
            "Data columns (total 5 columns):\n",
            " #   Column    Non-Null Count  Dtype \n",
            "---  ------    --------------  ----- \n",
            " 0   id        7976 non-null   object\n",
            " 1   title     7976 non-null   object\n",
            " 2   context   7976 non-null   object\n",
            " 3   question  7976 non-null   object\n",
            " 4   answers   7976 non-null   object\n",
            "dtypes: object(5)\n",
            "memory usage: 311.7+ KB\n"
          ]
        }
      ],
      "source": [
        "valid_df.info()"
      ],
      "id": "F2LBhyvqrI1u"
    },
    {
      "cell_type": "code",
      "execution_count": null,
      "metadata": {
        "colab": {
          "base_uri": "https://localhost:8080/"
        },
        "id": "OjLy_H3WrK9h",
        "outputId": "637e3ae0-6c33-4b2c-f21d-998db66e63fd"
      },
      "outputs": [
        {
          "name": "stdout",
          "output_type": "stream",
          "text": [
            "<class 'pandas.core.frame.DataFrame'>\n",
            "RangeIndex: 8002 entries, 0 to 8001\n",
            "Data columns (total 5 columns):\n",
            " #   Column    Non-Null Count  Dtype \n",
            "---  ------    --------------  ----- \n",
            " 0   id        8002 non-null   object\n",
            " 1   title     8002 non-null   object\n",
            " 2   context   8002 non-null   object\n",
            " 3   question  8002 non-null   object\n",
            " 4   answers   8002 non-null   object\n",
            "dtypes: object(5)\n",
            "memory usage: 312.7+ KB\n"
          ]
        }
      ],
      "source": [
        "test_df.info()"
      ],
      "id": "OjLy_H3WrK9h"
    },
    {
      "cell_type": "code",
      "execution_count": null,
      "metadata": {
        "colab": {
          "base_uri": "https://localhost:8080/",
          "height": 472
        },
        "id": "V4VGpTX_i7u3",
        "outputId": "3eb7fca5-7e82-4cbc-8216-31a864ec31d2"
      },
      "outputs": [
        {
          "data": {
            "image/png": "[encoded data removed]",
            "text/plain": [
              "<Figure size 640x480 with 1 Axes>"
            ]
          },
          "metadata": {},
          "output_type": "display_data"
        }
      ],
      "source": [
        "plt.bar(['train', 'validation', 'test'], [len(train_df), len(valid_df), len(test_df)])\n",
        "plt.xlabel('Dataset')\n",
        "plt.ylabel('number of entities')\n",
        "plt.title('dataset overview')\n",
        "plt.show()"
      ],
      "id": "V4VGpTX_i7u3"
    },
    {
      "cell_type": "code",
      "execution_count": null,
      "metadata": {
        "colab": {
          "base_uri": "https://localhost:8080/"
        },
        "id": "xVq-bb1lkh9w",
        "outputId": "c4a3fd47-fde4-4557-b77c-988886dc47fe"
      },
      "outputs": [
        {
          "name": "stdout",
          "output_type": "stream",
          "text": [
            "id\n",
            "title\n",
            "context\n",
            "question\n",
            "answers\n"
          ]
        },
        {
          "data": {
            "text/plain": [
              "[None, None, None, None, None]"
            ]
          },
          "execution_count": 14,
          "metadata": {},
          "output_type": "execute_result"
        }
      ],
      "source": [
        "[print(example) for example in train_df]"
      ],
      "id": "xVq-bb1lkh9w"
    },
    {
      "cell_type": "code",
      "execution_count": null,
      "metadata": {
        "id": "Oq6gLNOLlV-X"
      },
      "outputs": [],
      "source": [
        "# answer_lengths.value_counts()"
      ],
      "id": "Oq6gLNOLlV-X"
    },
    {
      "cell_type": "code",
      "execution_count": null,
      "metadata": {
        "colab": {
          "base_uri": "https://localhost:8080/",
          "height": 301
        },
        "id": "-UNuDZBdj5cp",
        "outputId": "13da3299-010a-49d9-d5f6-56524e1a7c0c"
      },
      "outputs": [
        {
          "data": {
            "image/png": "[encoded data removed]",
            "text/plain": [
              "<Figure size 1800x500 with 3 Axes>"
            ]
          },
          "metadata": {},
          "output_type": "display_data"
        }
      ],
      "source": [
        "plt.figure(figsize=(18, 5))\n",
        "colors = ['red', 'green', 'blue']\n",
        "answer_lengths = pd.Series([len(row['answers']['text']) for i, row in train_df.iterrows()])\n",
        "plt.subplot(1, 3, 1)\n",
        "\n",
        "plt.bar(np.arange(len(answer_lengths.value_counts())), answer_lengths.value_counts(), color=colors)\n",
        "plt.xlabel('# of answers')\n",
        "plt.ylabel('count')\n",
        "plt.title('answer distribution on train questions')\n",
        "\n",
        "answer_lengths = pd.Series([len(row['answers']['text']) for i, row in valid_df.iterrows()])\n",
        "plt.subplot(1, 3, 2)\n",
        "plt.bar(np.arange(len(answer_lengths.value_counts())), answer_lengths.value_counts(), color=colors)\n",
        "plt.xlabel('# of answers')\n",
        "plt.ylabel('count')\n",
        "plt.title('answer distribution on validation questions')\n",
        "\n",
        "answer_lengths = pd.Series([len(row['answers']['text']) for i, row in test_df.iterrows()])\n",
        "plt.subplot(1, 3, 3)\n",
        "plt.bar(np.arange(len(answer_lengths.value_counts())), answer_lengths.value_counts(), color=colors)\n",
        "plt.xlabel('# of answers')\n",
        "plt.ylabel('count')\n",
        "plt.title('answer distribution on test questions')\n",
        "\n",
        "plt.show()"
      ],
      "id": "-UNuDZBdj5cp"
    },
    {
      "cell_type": "code",
      "execution_count": null,
      "metadata": {
        "id": "fc2c1450-8855-4d8b-acde-a1225e0a7c35"
      },
      "outputs": [],
      "source": [
        "ds = DatasetDict()\n",
        "ds['train'] = dtdt.from_pandas(train_df)\n",
        "ds['validation'] = dtdt.from_pandas(valid_df)\n",
        "ds[\"test\"] = dtdt.from_pandas(test_df)"
      ],
      "id": "fc2c1450-8855-4d8b-acde-a1225e0a7c35"
    },
    {
      "cell_type": "code",
      "execution_count": null,
      "metadata": {
        "colab": {
          "base_uri": "https://localhost:8080/"
        },
        "id": "Rv1I-5R0g7cI",
        "outputId": "72110a0a-068e-4161-b846-a39f76f47895"
      },
      "outputs": [
        {
          "data": {
            "text/plain": [
              "Dataset({\n",
              "    features: ['id', 'title', 'context', 'question', 'answers'],\n",
              "    num_rows: 63994\n",
              "})"
            ]
          },
          "execution_count": 18,
          "metadata": {},
          "output_type": "execute_result"
        }
      ],
      "source": [
        "ds['train']"
      ],
      "id": "Rv1I-5R0g7cI"
    },
    {
      "cell_type": "code",
      "execution_count": null,
      "metadata": {
        "colab": {
          "base_uri": "https://localhost:8080/"
        },
        "id": "5G67kH44m4b5",
        "outputId": "a062b923-d7ef-40b7-a9e7-fd6c3a21a846"
      },
      "outputs": [
        {
          "data": {
            "text/plain": [
              "Dataset({\n",
              "    features: ['id', 'title', 'context', 'question', 'answers'],\n",
              "    num_rows: 7976\n",
              "})"
            ]
          },
          "execution_count": 19,
          "metadata": {},
          "output_type": "execute_result"
        }
      ],
      "source": [
        "ds['validation']"
      ],
      "id": "5G67kH44m4b5"
    },
    {
      "cell_type": "code",
      "execution_count": null,
      "metadata": {
        "colab": {
          "base_uri": "https://localhost:8080/"
        },
        "id": "nCld8V1Xm5_M",
        "outputId": "4e86c602-d415-416a-889e-d1c77367728f"
      },
      "outputs": [
        {
          "data": {
            "text/plain": [
              "Dataset({\n",
              "    features: ['id', 'title', 'context', 'question', 'answers'],\n",
              "    num_rows: 8002\n",
              "})"
            ]
          },
          "execution_count": 20,
          "metadata": {},
          "output_type": "execute_result"
        }
      ],
      "source": [
        "ds['test']"
      ],
      "id": "nCld8V1Xm5_M"
    },
    {
      "cell_type": "code",
      "source": [
        "def tokenize(tokenizer, max_len, dataset, lbs = LOADING_BATCH_SIZE , stride = STRIDE) :\n",
        "    for i in tqdm ( range ( 0 , dataset.shape[0] , lbs) ):\n",
        "        mini_data = dataset[i : i + lbs]\n",
        "        tokenized_mini_data = batch_tokenizer ( mini_data  , tokenizer  , max_len , stride )\n",
        "\n",
        "        if i == 0 : encoded_inputs = tokenized_mini_data\n",
        "        else :\n",
        "            for key in encoded_inputs :\n",
        "                encoded_inputs[key] += tokenized_mini_data[key]\n",
        "    return encoded_inputs"
      ],
      "metadata": {
        "id": "oROTIXqPkWFS"
      },
      "id": "oROTIXqPkWFS",
      "execution_count": null,
      "outputs": []
    },
    {
      "cell_type": "code",
      "source": [
        "def batch_tokenizer_util(answers, encoded_inputs):\n",
        "    if len(answers[\"answer_start\"]) == 0:\n",
        "        encoded_inputs[BEGIN_ANSWER_POS].append(cls_index)\n",
        "        encoded_inputs[END_ANSWER_POS].append(cls_index)\n",
        "    else:\n",
        "        start_char = answers[\"answer_start\"][0]\n",
        "        end_char = start_char + len(answers[\"text\"][0])\n",
        "\n",
        "        context_first_token_idx = 0\n",
        "        while sequence_ids[context_first_token_idx] != 1 :\n",
        "            context_first_token_idx += 1\n",
        "\n",
        "        context_last_token_idx = len(input_ids) - 1\n",
        "        while sequence_ids[context_last_token_idx] != 1:\n",
        "            context_last_token_idx -= 1\n",
        "\n",
        "        if (offsets[context_first_token_idx][0] <= start_char and offsets[context_last_token_idx][1] >= end_char):\n",
        "            answer_start_index = context_first_token_idx\n",
        "            while answer_start_index < len(offsets) and offsets[answer_start_index][0] <= start_char:\n",
        "                answer_start_index += 1\n",
        "            encoded_inputs[BEGIN_ANSWER_POS].append(answer_start_index - 1)\n",
        "\n",
        "            answer_end_index = context_last_token_idx\n",
        "            while offsets[answer_end_index][1] >= end_char:\n",
        "                answer_end_index -= 1\n",
        "            encoded_inputs[END_ANSWER_POS].append(answer_end_index + 1)\n",
        "\n",
        "        else:\n",
        "            encoded_inputs[BEGIN_ANSWER_POS].append(cls_index)\n",
        "            encoded_inputs[END_ANSWER_POS].append(cls_index)\n",
        "\n",
        "        encoded_inputs[\"offset_mapping\"][i] = [\n",
        "              (offset if sequence_ids[j] == context_id else (0,0))\n",
        "              for j, offset in enumerate(encoded_inputs[\"offset_mapping\"][i])]\n"
      ],
      "metadata": {
        "id": "wYsn4wKHkXQp"
      },
      "id": "wYsn4wKHkXQp",
      "execution_count": null,
      "outputs": []
    },
    {
      "cell_type": "code",
      "source": [
        "def batch_tokenizer(self, inputs, tokenizer, max_len, stride):\n",
        "    question = inputs['question']  # Extract the 'question' from the inputs dictionary\n",
        "    context = inputs['context']  # Extract the 'context' from the inputs dictionary\n",
        "\n",
        "    encoded_inputs = tokenizer(question, context, truncation='only_second', max_length=max_len,\n",
        "        padding=\"max_length\", stride=stride, return_overflowing_tokens=True, return_offsets_mapping=True,\n",
        "    )\n",
        "\n",
        "    encoded_inputs[BEGIN_ANSWER_POS] = []  # Initialize an empty list for the beginning positions of answers\n",
        "    encoded_inputs[END_ANSWER_POS] = []  # Initialize an empty list for the ending positions of answers\n",
        "    encoded_inputs[SAMPLE_ID] = []  # Initialize an empty list for sample IDs\n",
        "    offset_mapping = encoded_inputs[\"offset_mapping\"]  # Get the offset mapping for tokenized inputs\n",
        "    sample_mapping = encoded_inputs.pop(\"overflow_to_sample_mapping\")  # Remove the 'overflow_to_sample_mapping' key from encoded_inputs and assign it to sample_mapping\n",
        "\n",
        "    for i, offsets in enumerate(offset_mapping):\n",
        "        input_ids = encoded_inputs[\"input_ids\"][i]  # Get the input_ids for the current offset mapping\n",
        "        cls_index = input_ids.index(tokenizer.cls_token_id)  # Find the index of the [CLS] token in input_ids\n",
        "        sequence_ids = encoded_inputs.sequence_ids(i)  # Get the sequence IDs for the current offset mapping\n",
        "        context_id = 1  # Assign the value 1 to the context ID (assuming it represents the second sequence)\n",
        "\n",
        "        sample_index = sample_mapping[i]  # Get the sample index for the current offset mapping\n",
        "        encoded_inputs[\"sample_id\"].append(inputs[\"id\"][sample_index])  # Append the sample ID to the 'sample_id' list in encoded_inputs\n",
        "        answers = inputs[\"answers\"][sample_index]  # Get the answers for the current sample index\n",
        "\n",
        "        batch_tokenizer_util(answers, encoded_inputs) \n",
        "\n",
        "    return encoded_inputs"
      ],
      "metadata": {
        "id": "djflkLs1kYTl"
      },
      "id": "djflkLs1kYTl",
      "execution_count": null,
      "outputs": []
    },
    {
      "cell_type": "code",
      "execution_count": null,
      "metadata": {
        "id": "02b060b5-0daa-4309-b551-82d1fec15acf"
      },
      "outputs": [],
      "source": [
        "class CustomDataset(dtdt):\n",
        "    \n",
        "    def __init__(self, dataset , tokenizer , max_len ):\n",
        "        self.dataset=dataset\n",
        "        self.encoded_inputs = tokenize(\n",
        "            tokenizer, \n",
        "            max_len, \n",
        "            dataset \n",
        "        )\n",
        "\n",
        "    def __len__(self):\n",
        "        return len( self.encoded_inputs[INPUT_IDS] )\n",
        "    \n",
        "    def __getitem__(self,item):\n",
        "        input_ids = []\n",
        "        attention_mask = []\n",
        "        token_type_ids = []\n",
        "        ans_start_pos = []\n",
        "        ans_end_pos = []\n",
        "        sample_id = []\n",
        "        offset_mapping= []\n",
        "\n",
        "        for i in item:\n",
        "          input_ids.append( \n",
        "              torch.tensor(\n",
        "                  self.encoded_inputs[INPUT_IDS][i] \n",
        "                  )\n",
        "              )\n",
        "          attention_mask.append(\n",
        "              torch.tensor(\n",
        "                  self.encoded_inputs[ATTENTION_MASK][i] \n",
        "              )\n",
        "          )\n",
        "          ans_start_pos.append(\n",
        "              self.encoded_inputs[BEGIN_ANS_POS][i]\n",
        "          )\n",
        "          ans_end_pos.append(\n",
        "              self.encoded_inputs[END_ANS_POS][i]\n",
        "          )\n",
        "          sample_id.append(\n",
        "              self.encoded_inputs[SAMPLE_ID][i]\n",
        "          )\n",
        "          offset_mapping.append(\n",
        "              self.encoded_inputs[OFFSET_MAPPING][i]\n",
        "          )\n",
        "          token_type_ids.append(\n",
        "              torch.tensor(\n",
        "                   self.encoded_inputs[TOKEN_TYPE_IDS][i]\n",
        "              )\n",
        "          )\n",
        "\n",
        "\n",
        "        return {\n",
        "            INPUT_IDS : input_ids,\n",
        "            ATTENTION_MASK : attention_mask,\n",
        "            BEGIN_ANS_POS : ans_start_pos,\n",
        "            END_ANS_POS : ans_end_pos,\n",
        "            SAMPLE_ID : sample_id,\n",
        "            OFFSET_MAPPING : offset_mapping,\n",
        "            TOKEN_TYPE_IDS : token_type_ids\n",
        "        }\n",
        "        \n",
        "    "
      ],
      "id": "02b060b5-0daa-4309-b551-82d1fec15acf"
    },
    {
      "cell_type": "code",
      "execution_count": null,
      "metadata": {
        "id": "6823da8f-5169-42b8-94a5-fbc19c082f83"
      },
      "outputs": [],
      "source": [
        "def BuildDataLoaders( tokenizer , max_len):\n",
        "    train_set = ds['train']\n",
        "    val_set = ds['validation']\n",
        "    test_set = ds[\"test\"]\n",
        "  \n",
        "    print('TOKENIZING SETS\\n')\n",
        "    train_dl = torch.utils.data.DataLoader(  \n",
        "        CustomDataset( train_set , tokenizer , max_len ) , \n",
        "        batch_size = train_bs , \n",
        "        shuffle = True  \n",
        "    )\n",
        "    val_dl = torch.utils.data.DataLoader( \n",
        "         CustomDataset( val_set , tokenizer , max_len  ) , \n",
        "         batch_size = test_val_bs , \n",
        "         shuffle = True  \n",
        "    )\n",
        "    test_dl = torch.utils.data.DataLoader(  \n",
        "        CustomDataset( test_set , tokenizer , max_len  ) , \n",
        "        batch_size = test_val_bs , \n",
        "        shuffle = True\n",
        "    )\n",
        "\n",
        "    return train_dl, val_dl, val_set,  test_dl, test_set"
      ],
      "id": "6823da8f-5169-42b8-94a5-fbc19c082f83"
    },
    {
      "cell_type": "code",
      "execution_count": null,
      "metadata": {
        "id": "87276eab-a35b-41ec-897b-16a541e4e5ce"
      },
      "outputs": [],
      "source": [
        "class BaseModel(nn.Module):\n",
        "    \n",
        "    def __init__(self, model_type):\n",
        "        super().__init__()\n",
        "        # Initialize the base transformer model from the pretrained weights\n",
        "        self.transformer = AutoModel.from_pretrained(model_type)\n",
        "        # Apply dropout regularization with a probability of 0.2\n",
        "        self.drop = nn.Dropout(p=0.2)\n",
        "        # Create a fully connected layer with the output size equal to the hidden size of the transformer and 2 output units\n",
        "        self.fc = nn.Linear(self.transformer.config.hidden_size, 2)\n",
        "        \n",
        "    def forward(self, input_ids, token_type_ids, attention_mask):\n",
        "        # Forward pass through the transformer model\n",
        "        output = self.transformer(input_ids=input_ids, token_type_ids=token_type_ids, attention_mask=attention_mask)\n",
        "        # Apply the fully connected layer to the output of the transformer\n",
        "        output = self.fc(output[0]) \n",
        "        # Split the output into start and end positions for the answer\n",
        "        ans_start_pos, ans_end_pos = output.split(1, dim=-1)\n",
        "        # Remove the last dimension (squeeze) to obtain 1D tensors\n",
        "        ans_start_pos = ans_start_pos.squeeze(-1)\n",
        "        ans_end_pos = ans_end_pos.squeeze(-1)\n",
        "\n",
        "        # Return the start and end positions of the answer\n",
        "        return ans_start_pos, ans_end_pos"
      ],
      "id": "87276eab-a35b-41ec-897b-16a541e4e5ce"
    },
    {
      "cell_type": "code",
      "execution_count": null,
      "metadata": {
        "id": "316ef47e-7199-44ce-a1b0-d96bd91df9c5"
      },
      "outputs": [],
      "source": [
        "def criterion(start_true, end_true, start_pred, end_pred):\n",
        "    # Get the maximum index of the input\n",
        "    max_input_index = start_pred.size(1)\n",
        "    \n",
        "    # Clamp the true start and end values to be within the valid range\n",
        "    start_true.clamp_(0, max_input_index)\n",
        "    end_true.clamp_(0, max_input_index)\n",
        "    \n",
        "    # Define the CrossEntropyLoss function with the ignore_index parameter\n",
        "    ce = torch.nn.CrossEntropyLoss(ignore_index=max_input_index)\n",
        "    \n",
        "    # Calculate the loss for the predicted start and end values\n",
        "    start_loss = ce(start_pred, start_true)\n",
        "    end_loss = ce(end_pred, end_true)\n",
        "    \n",
        "    # Calculate the average loss between start and end losses\n",
        "    res = (start_loss + end_loss) / 2\n",
        "    \n",
        "    return res\n"
      ],
      "id": "316ef47e-7199-44ce-a1b0-d96bd91df9c5"
    },
    {
      "cell_type": "code",
      "execution_count": null,
      "metadata": {
        "id": "8c5c5704-9a79-4cf1-82bb-15fc10d7a04f"
      },
      "outputs": [],
      "source": [
        "def fetch_predictions(batch, start_logits, end_logits, predictions):\n",
        "    # Extracting values from the batch\n",
        "    offset_mapping = batch['offset_mapping']\n",
        "    sample_ids = batch['sample_id']\n",
        "    input_ids = batch['input_ids']\n",
        "    \n",
        "    # Converting offset_mapping to numpy arrays\n",
        "    offset_mapping0 = np.array([[t.numpy().tolist() for t in subtle][0] for subtle in offset_mapping])\n",
        "    offset_mapping0 = offset_mapping0.T\n",
        "    offset_mapping1 = np.array([[t.numpy().tolist() for t in subtle][1] for subtle in offset_mapping])\n",
        "    offset_mapping1 = offset_mapping1.T\n",
        "    \n",
        "    # Iterating over each input in the batch\n",
        "    for i in range(len(batch['input_ids'])):\n",
        "        # Creating a dictionary with predictions for the current input\n",
        "        prediction = {\n",
        "            'sample_id': sample_ids[i],\n",
        "            'offset_mapping': [offset_mapping0[i], offset_mapping1[i]],\n",
        "            'input_ids': input_ids[i],\n",
        "            'end_logits': end_logits[i],\n",
        "            'start_logits': start_logits[i],\n",
        "        }\n",
        "        # Appending the prediction to the list of predictions\n",
        "        predictions.append(prediction)\n",
        "\n",
        "    return predictions\n"
      ],
      "id": "8c5c5704-9a79-4cf1-82bb-15fc10d7a04f"
    },
    {
      "cell_type": "code",
      "execution_count": null,
      "metadata": {
        "id": "8fb040e8-4e9c-4a6d-bb29-f1f078134534"
      },
      "outputs": [],
      "source": [
        "def predict_per_index(predictions, valid_answers):\n",
        "  start_logits = predictions[preds_index]['start_logits']\n",
        "  end_logits = predictions[preds_index]['end_logits']\n",
        "  offset_mapping = predictions[preds_index][\"offset_mapping\"]\n",
        "  cls_index = predictions[preds_index][\"input_ids\"].numpy().tolist().index(tokenizer.cls_token_id)\n",
        "  pred_null_score = start_logits[cls_index] + end_logits[cls_index]\n",
        "  if min_null_score is None or min_null_score < pred_null_score:\n",
        "      min_null_score = pred_null_score\n",
        "\n",
        "  best_start_indexes = np.flip( np.argsort( start_logits ) ).tolist()[: n_best_size]\n",
        "  best_end_indexes = np.flip( np.argsort( end_logits ) ).tolist()[: n_best_size]\n",
        "\n",
        "  for start_index in best_start_indexes:\n",
        "      for end_index in best_end_indexes:\n",
        "          if ( not ( start_index >= len(offset_mapping) ) or not ( end_index >= len(offset_mapping) ) or\n",
        "                not ( end_index < start_index ) or not ( end_index - start_index + 1 > max_answer_length ) or \n",
        "                not (torch.all( offset_mapping[start_index] is torch.Tensor([0,0]) )) or not (torch.all( offset_mapping[end_index] is torch.Tensor([0,0]) )) or offset_mapping[end_index]):\n",
        "              \n",
        "              start_char = offset_mapping[0][start_index]\n",
        "              end_char = offset_mapping[1][end_index]\n",
        "              \n",
        "\n",
        "              valid_answer = {\"score\": start_logits[start_index] + end_logits[end_index], \"text\": context[start_char: end_char]}\n",
        "              valid_answers.append( valid_answer )"
      ],
      "id": "8fb040e8-4e9c-4a6d-bb29-f1f078134534"
    },
    {
      "cell_type": "code",
      "source": [
        "def get_final_predictions(predictions, inputs, tokenizer):\n",
        "    # Set parameters\n",
        "    n_best_size = 20\n",
        "    max_answer_length = 20\n",
        "\n",
        "    # Create a mapping of sample IDs to their corresponding indices\n",
        "    sample_idToIndex = {id: index for index, id in enumerate(inputs[\"id\"])}\n",
        "\n",
        "    # Create a dictionary to store predictions for each sample index\n",
        "    pred_per_samples = collections.defaultdict(list)\n",
        "\n",
        "    # Group predictions by sample index\n",
        "    for i, pred in enumerate(predictions):\n",
        "        pidx = pred[\"sample_id\"]\n",
        "        sit = sample_idToIndex[pidx]\n",
        "        pred_per_samples[sit].append(i)\n",
        "\n",
        "    # Create an ordered dictionary to store final predictions\n",
        "    final_predictions = collections.OrderedDict()\n",
        "\n",
        "    # Iterate over each sample\n",
        "    for sample_index, sample in enumerate(inputs):\n",
        "        preds_indices = pred_per_samples[sample_index]  # Get prediction indices for the current sample\n",
        "        min_null_score = None\n",
        "        valid_answers = []\n",
        "        context = sample[\"context\"]\n",
        "\n",
        "        # Iterate over each prediction index for the current sample\n",
        "        for preds_index in preds_indices:\n",
        "            # Call the function predict_per_index to process predictions and populate valid_answers\n",
        "            predict_per_index(predictions, valid_answers)\n",
        "\n",
        "        # Choose the best answer from valid answers\n",
        "        if len(valid_answers) > 0:\n",
        "            best_answer = sorted(valid_answers, key=lambda x: x[\"score\"], reverse=True)[0]\n",
        "        else:\n",
        "            best_answer = {\"text\": \"\", \"score\": 0.0}\n",
        "\n",
        "        # Assign the answer to the current sample ID in the final predictions dictionary\n",
        "        answer = best_answer[\"text\"] if best_answer[\"score\"] > min_null_score else \"\"\n",
        "        final_predictions[sample[\"id\"]] = answer\n",
        "\n",
        "    return final_predictions"
      ],
      "metadata": {
        "id": "ar61gQBykmmy"
      },
      "id": "ar61gQBykmmy",
      "execution_count": null,
      "outputs": []
    },
    {
      "cell_type": "code",
      "execution_count": null,
      "metadata": {
        "id": "65fa9602-32cf-4189-bc69-8f543c478462"
      },
      "outputs": [],
      "source": [
        "def fetch_metrics (predictions , raw_input , tokenizer) :\n",
        "    final_predictions = postprocess_predictions(predictions , raw_input , tokenizer)\n",
        "    formatted_predictions = [{\"id\": k, \"prediction_text\": v, \"no_answer_probability\": 0.0} for k, v in final_predictions.items()]\n",
        "    ground_trouth = [{\"id\": sample[\"id\"], \"answers\": sample[\"answers\"]} for sample in raw_input]\n",
        "    return load_metric(\"squad_v2\" ).compute(predictions=formatted_predictions, references = ground_trouth)"
      ],
      "id": "65fa9602-32cf-4189-bc69-8f543c478462"
    },
    {
      "cell_type": "code",
      "source": [
        "def evaluate(model , dataloader , criterion , raw_input , tokenizer ) :\n",
        "    \n",
        "    model.eval()\n",
        "    losses , predictions = [],[]\n",
        "    \n",
        "    for batch in dataloader:\n",
        "    \n",
        "        input_ids = batch[INPUT_IDS].to(device)\n",
        "        attention_mask = batch[ATTENTION_MASK].to(device)\n",
        "        answer_sp = batch[BEGIN_ANSER_POS].to(device)\n",
        "        answer_ep = batch[END_ANSWER_POS].to(device)\n",
        "        token_type_ids = batch[TOKEN_TYPE_IDS].to(device)\n",
        "        with torch.no_grad():\n",
        "          start_logits , end_logits  = model(input_ids = input_ids ,token_type_ids=token_type_ids, attention_mask = attention_mask  )\n",
        "        predictions = fetch_predictions(batch  , start_logits.cpu().detach().numpy() , \n",
        "                                          end_logits.cpu().detach().numpy() , predictions )\n",
        "\n",
        "        loss = criterion(answer_sp, answer_ep , start_logits , end_logits)\n",
        "        losses.append(loss.item())\n",
        "\n",
        "    metrics = fetch_metrics(predictions , raw_input , tokenizer)\n",
        "    return  np.mean(losses) , metrics['exact'] , metrics['f1']"
      ],
      "metadata": {
        "id": "ykcCN5_Qkpbn"
      },
      "id": "ykcCN5_Qkpbn",
      "execution_count": null,
      "outputs": []
    },
    {
      "cell_type": "code",
      "source": [
        "def train(model , dataloader , optimizer , criterion  , epoch ) :\n",
        "    \n",
        "    model.train()\n",
        "    losses =  []  \n",
        "    print(len(dataloader))  \n",
        "    for iteration , batch in enumerate(tqdm_notebook(dataloader)) :\n",
        "          \n",
        "        optimizer.zero_grad()\n",
        "        input_ids = batch[INPUT_IDS].to(device)\n",
        "        attention_mask = batch[ATTENTION_MASK].to(device)\n",
        "        answer_sp = batch[BEGIN_ANSER_POS].to(device)\n",
        "        answer_ep = batch[END_ANSWER_POS].to(device)\n",
        "        token_type_ids = batch[TOKEN_TYPE_IDS].to(device)\n",
        "\n",
        "        start , end  = model(input_ids = input_ids ,token_type_ids=token_type_ids, attention_mask = attention_mask  )\n",
        "    \n",
        "        loss = criterion(answer_sp, answer_ep , start , end)\n",
        "        losses.append(loss.item())\n",
        "\n",
        "        loss.backward()\n",
        "        optimizer.step()\n",
        "\n",
        "        if iteration % 100 == 0:\n",
        "            print( f'Epoch [{epoch+1}] Batch [{iteration}] - Loss = {np.mean(losses):.4f}')\n",
        "            \n",
        "    return  np.mean(losses)"
      ],
      "metadata": {
        "id": "jDpT1maUkq6l"
      },
      "id": "jDpT1maUkq6l",
      "execution_count": null,
      "outputs": []
    },
    {
      "cell_type": "code",
      "execution_count": null,
      "metadata": {
        "id": "e36ef748-780b-4ecc-85e7-f743de5395c7"
      },
      "outputs": [],
      "source": [
        "def getModel(model_type, device):\n",
        "    return BaseModel(model_type).to(device)"
      ],
      "id": "e36ef748-780b-4ecc-85e7-f743de5395c7"
    },
    {
      "cell_type": "code",
      "execution_count": null,
      "metadata": {
        "colab": {
          "base_uri": "https://localhost:8080/"
        },
        "id": "e016662c-6b28-4db5-a3f3-29e3868994ab",
        "outputId": "9399c869-27ba-41ea-8c3a-bf1cee2fca72"
      },
      "outputs": [
        {
          "name": "stdout",
          "output_type": "stream",
          "text": [
            "cuda is available\n"
          ]
        },
        {
          "name": "stderr",
          "output_type": "stream",
          "text": [
            "Some weights of the model checkpoint at HooshvareLab/bert-base-parsbert-uncased were not used when initializing BertModel: ['cls.predictions.decoder.bias', 'cls.predictions.bias', 'cls.predictions.decoder.weight', 'cls.seq_relationship.weight', 'cls.predictions.transform.LayerNorm.bias', 'cls.predictions.transform.dense.bias', 'cls.predictions.transform.dense.weight', 'cls.seq_relationship.bias', 'cls.predictions.transform.LayerNorm.weight']\n",
            "- This IS expected if you are initializing BertModel from the checkpoint of a model trained on another task or with another architecture (e.g. initializing a BertForSequenceClassification model from a BertForPreTraining model).\n",
            "- This IS NOT expected if you are initializing BertModel from the checkpoint of a model that you expect to be exactly identical (initializing a BertForSequenceClassification model from a BertForSequenceClassification model).\n"
          ]
        }
      ],
      "source": [
        "EPOCHS = 1\n",
        "\n",
        "LEARNING_RATE = 5e-5\n",
        "\n",
        "TRAIN_BATCH_SIZE = 16\n",
        "\n",
        "MAX_LEN = 512\n",
        "\n",
        "GAMMA = 0.1\n",
        "\n",
        "STEP = 1\n",
        "\n",
        "MAX_ANS_LEN = 20\n",
        "\n",
        "MODEL_TYPE = \"HooshvareLab/bert-base-parsbert-uncased\"\n",
        "device = torch.device(\"cuda\" if torch.cuda.is_available() else \"cpu\")\n",
        "\n",
        "model = getModel(MODEL_TYPE)"
      ],
      "id": "e016662c-6b28-4db5-a3f3-29e3868994ab"
    },
    {
      "cell_type": "code",
      "execution_count": null,
      "metadata": {
        "colab": {
          "base_uri": "https://localhost:8080/"
        },
        "id": "IEmgnNU-pebu",
        "outputId": "70056da3-99e8-4db4-917f-1a4a60f566d3"
      },
      "outputs": [
        {
          "output_type": "stream",
          "name": "stdout",
          "text": [
            "TOKENIZING SETS\n",
            "\n"
          ]
        },
        {
          "output_type": "stream",
          "name": "stderr",
          "text": [
            "100%|██████████| 64/64 [01:14<00:00,  1.17s/it]\n",
            "100%|██████████| 8/8 [00:11<00:00,  1.43s/it]\n",
            "100%|██████████| 9/9 [00:08<00:00,  1.05it/s]"
          ]
        },
        {
          "output_type": "stream",
          "name": "stdout",
          "text": [
            "train batches num:  4000\n",
            "validaion batches num:  1994\n",
            "test batches num:  2001\n"
          ]
        },
        {
          "output_type": "stream",
          "name": "stderr",
          "text": [
            "\n"
          ]
        }
      ],
      "source": [
        "tokenizer  =  AutoTokenizer.from_pretrained(cem )\n",
        "train_dataloader , val_dataloader , val_set , test_dataloader , test_set  = getDataLoaders( tokenizer , max_length )\n",
        "\n",
        "print('train batches num: ',len(train_dataloader))\n",
        "print('validaion batches num: ',len(val_dataloader))\n",
        "print('test batches num: ',len(test_dataloader)  )"
      ],
      "id": "IEmgnNU-pebu"
    },
    {
      "cell_type": "code",
      "execution_count": null,
      "metadata": {
        "colab": {
          "base_uri": "https://localhost:8080/",
          "height": 913,
          "referenced_widgets": [
            "18b1178f852e4c11a7c5f1fd2f671830",
            "d370783faa2a4cf49ea7becc3bc77686",
            "f48e017c58a040f0b28f8deb86107924",
            "a2fe4a088c4a42a79a7c510de8efed45",
            "7bb0347972b2453e81f65787a04c53c7",
            "d321d20653bb4bd4a5ad246bee1ee57f",
            "bdaf872cd74d4011aa6fceb06fc364c7",
            "591114ae260140218b2640fae78e1fd0",
            "42003e317c3e42b28aadad780950ef87",
            "4d750b919b4e49679c8e15b92084daa4",
            "72cdb87fbed24f79baf5f28da219b26b",
            "769ce048781c44828e38cbe16f8067ec",
            "cc0aa98bcd4d419696d282f83e6ddb7c",
            "0075278e3a5e4bb8aeaf3e178f963db9",
            "809f2d8738fd4926bd86a85565c8f82f",
            "fec43e2b704b4e2eb4f214e7c410aa73",
            "16cd0c4feab0420db6c380739d0626ff",
            "dc30f45efc2a4395bb6a280301d67b9e",
            "9060a6c203fe4f61b88af8623c87029a",
            "6d9f28b8bd714c318bada61d8f414491",
            "07569e5917e14add86d16bc64bfaf6bb",
            "5fa11eea3f1e42cf8977455aced60c9e",
            "2e412483688f404aa94851ccbe8aeb1e",
            "379c86a1dcdd4b0ea86d11aec7639d32",
            "747dff0a985047cf88662c2ab266d591",
            "f662920e636847cc88a6b04c9c52fbe6",
            "481aaf6fb7ce4217a31add7b767b1810",
            "d8da299d56044592bc7e377bd101b4f7",
            "8c7bbc6ee14145989c3cbf528a9c5eb9",
            "e7b19a38711b4d0dab8e7851451f085a",
            "2aefe6e3f46c452bab54b10198438e09",
            "fe9a7874c18f43a5abe3c70b4701605d",
            "fdd9aecc169349958e52cd0e2a70c1ad"
          ]
        },
        "id": "4Fn_9ONXZSAT",
        "outputId": "59086692-5d10-4fa6-ed91-e47a7d58feba"
      },
      "outputs": [
        {
          "name": "stdout",
          "output_type": "stream",
          "text": [
            "4000\n"
          ]
        },
        {
          "data": {
            "application/vnd.jupyter.widget-view+json": {
              "model_id": "18b1178f852e4c11a7c5f1fd2f671830",
              "version_major": 2,
              "version_minor": 0
            },
            "text/plain": [
              "  0%|          | 0/4000 [00:00<?, ?it/s]"
            ]
          },
          "metadata": {},
          "output_type": "display_data"
        },
        {
          "name": "stdout",
          "output_type": "stream",
          "text": [
            "Epoch [1] Batch [0] - Loss = 6.2101\n",
            "Epoch [1] Batch [100] - Loss = 2.3668\n",
            "Epoch [1] Batch [200] - Loss = 1.8774\n",
            "Epoch [1] Batch [300] - Loss = 1.6675\n",
            "Epoch [1] Batch [400] - Loss = 1.5423\n",
            "Epoch [1] Batch [500] - Loss = 1.4520\n",
            "Epoch [1] Batch [600] - Loss = 1.3895\n",
            "Epoch [1] Batch [700] - Loss = 1.3406\n",
            "Epoch [1] Batch [800] - Loss = 1.2955\n",
            "Epoch [1] Batch [900] - Loss = 1.2622\n",
            "Epoch [1] Batch [1000] - Loss = 1.2322\n",
            "Epoch [1] Batch [1100] - Loss = 1.2087\n",
            "Epoch [1] Batch [1200] - Loss = 1.1902\n",
            "Epoch [1] Batch [1300] - Loss = 1.1681\n",
            "Epoch [1] Batch [1400] - Loss = 1.1513\n",
            "Epoch [1] Batch [1500] - Loss = 1.1361\n",
            "Epoch [1] Batch [1600] - Loss = 1.1235\n",
            "Epoch [1] Batch [1700] - Loss = 1.1099\n",
            "Epoch [1] Batch [1800] - Loss = 1.0987\n",
            "Epoch [1] Batch [1900] - Loss = 1.0871\n",
            "Epoch [1] Batch [2000] - Loss = 1.0788\n",
            "Epoch [1] Batch [2100] - Loss = 1.0669\n",
            "Epoch [1] Batch [2200] - Loss = 1.0584\n",
            "Epoch [1] Batch [2300] - Loss = 1.0500\n",
            "Epoch [1] Batch [2400] - Loss = 1.0450\n",
            "Epoch [1] Batch [2500] - Loss = 1.0391\n",
            "Epoch [1] Batch [2600] - Loss = 1.0339\n",
            "Epoch [1] Batch [2700] - Loss = 1.0296\n",
            "Epoch [1] Batch [2800] - Loss = 1.0232\n",
            "Epoch [1] Batch [2900] - Loss = 1.0160\n",
            "Epoch [1] Batch [3000] - Loss = 1.0109\n",
            "Epoch [1] Batch [3100] - Loss = 1.0051\n",
            "Epoch [1] Batch [3200] - Loss = 1.0032\n",
            "Epoch [1] Batch [3300] - Loss = 0.9984\n",
            "Epoch [1] Batch [3400] - Loss = 0.9934\n",
            "Epoch [1] Batch [3500] - Loss = 0.9885\n",
            "Epoch [1] Batch [3600] - Loss = 0.9833\n",
            "Epoch [1] Batch [3700] - Loss = 0.9790\n",
            "Epoch [1] Batch [3800] - Loss = 0.9744\n",
            "Epoch [1] Batch [3900] - Loss = 0.9724\n"
          ]
        },
        {
          "data": {
            "application/vnd.jupyter.widget-view+json": {
              "model_id": "769ce048781c44828e38cbe16f8067ec",
              "version_major": 2,
              "version_minor": 0
            },
            "text/plain": [
              "Downloading builder script:   0%|          | 0.00/2.25k [00:00<?, ?B/s]"
            ]
          },
          "metadata": {},
          "output_type": "display_data"
        },
        {
          "data": {
            "application/vnd.jupyter.widget-view+json": {
              "model_id": "2e412483688f404aa94851ccbe8aeb1e",
              "version_major": 2,
              "version_minor": 0
            },
            "text/plain": [
              "Downloading extra modules:   0%|          | 0.00/3.19k [00:00<?, ?B/s]"
            ]
          },
          "metadata": {},
          "output_type": "display_data"
        },
        {
          "name": "stdout",
          "output_type": "stream",
          "text": [
            "Train Loss: 0.9689\n",
            "Validation Loss: 0.8452 - Exact Match: 69.709 - F1_score: 82.936 \n",
            "\n"
          ]
        }
      ],
      "source": [
        "optimizer  = AdamW(model.parameters(), lr=5e-5,weight_decay=weight_decay) \n",
        "scheduler = torch.optim.lr_scheduler.StepLR(optimizer, step_size = sch_step, gamma = sch_gamma)\n",
        "criterion = loss_function\n",
        "\n",
        "best_accuracy = 0\n",
        "loss_list , metric_list =[],[]\n",
        "\n",
        "for epock in range(epocks):\n",
        "\n",
        "    train_loss = train( model , train_dataloader , optimizer , criterion , epock )\n",
        "    val_loss , exact_match , f1_score = evaluate( model , val_dataloader , criterion , val_set , tokenizer )\n",
        "    scheduler.step()\n",
        "    \n",
        "    loss_list.append([train_loss , val_loss])\n",
        "    metric_list.append([exact_match , f1_score])\n",
        "\n",
        "    print(f'Train Loss: {train_loss:.4f}')\n",
        "    print(f'Validation Loss: {val_loss:.4f} - Exact Match: {exact_match:.3f} - F1_score: {f1_score:.3f}', '\\n')"
      ],
      "id": "4Fn_9ONXZSAT"
    },
    {
      "cell_type": "code",
      "execution_count": null,
      "metadata": {
        "colab": {
          "base_uri": "https://localhost:8080/"
        },
        "id": "zQdRBRkZwyfM",
        "outputId": "6deea007-7ae8-4719-e485-936d368864cb"
      },
      "outputs": [
        {
          "name": "stdout",
          "output_type": "stream",
          "text": [
            "[[0.9689259925708175, 0.8452220881738912]]\n"
          ]
        }
      ],
      "source": [
        "print(loss_list)"
      ],
      "id": "zQdRBRkZwyfM"
    },
    {
      "cell_type": "code",
      "execution_count": null,
      "metadata": {
        "colab": {
          "base_uri": "https://localhost:8080/"
        },
        "id": "F3E69XK6tJzd",
        "outputId": "bb7483f6-ef2d-4553-dc20-fa4547246ba4"
      },
      "outputs": [
        {
          "name": "stdout",
          "output_type": "stream",
          "text": [
            "Train loss =  0.9689259925708175\n",
            "Validation loss =  0.8452220881738912\n",
            "Exact Match score =  69.70912738214643\n",
            "F1 score =  82.93638169533077\n"
          ]
        }
      ],
      "source": [
        "import matplotlib.pyplot as plt\n",
        "\n",
        "train_losses = [item[0] for item in loss_list]\n",
        "val_losses = [item[1] for item in loss_list]\n",
        "exact_match_scores = [item[0] for item in metric_list]\n",
        "f1_scores = [item[1] for item in metric_list]\n",
        "\n",
        "print('Train loss = ', train_losses[0])\n",
        "print('Validation loss = ', val_losses[0])\n",
        "print(\"Exact Match score = \", exact_match_scores[0])\n",
        "print('F1 score = ', f1_score)\n",
        "# plt.figure(figsize=(10, 5))\n",
        "# plt.subplot(1, 2, 1)\n",
        "# plt.plot(epocks, train_losses, label='Train Loss')\n",
        "# plt.plot(epocks, val_losses, label='Validation Loss')\n",
        "# plt.xlabel('Epochs')\n",
        "# plt.ylabel('Loss')\n",
        "# plt.title('Training and Validation Loss')\n",
        "# plt.legend()\n",
        "\n",
        "# plt.subplot(1, 2, 2)\n",
        "# plt.plot(epocks, exact_match_scores, label='Exact Match')\n",
        "# plt.plot(epocks, f1_scores, label='F1-score')\n",
        "# plt.xlabel('Epochs')\n",
        "# plt.ylabel('Score')\n",
        "# plt.title('Exact Match and F1-score')\n",
        "# plt.legend()\n",
        "\n",
        "# plt.tight_layout()\n",
        "# plt.show()"
      ],
      "id": "F3E69XK6tJzd"
    },
    {
      "cell_type": "code",
      "execution_count": null,
      "metadata": {
        "colab": {
          "base_uri": "https://localhost:8080/"
        },
        "id": "RYi6YG820oDs",
        "outputId": "f2a7312a-fa50-4be0-9272-926cf9242238"
      },
      "outputs": [
        {
          "name": "stdout",
          "output_type": "stream",
          "text": [
            "Train Loss: 0.9689\n",
            "Validation Loss: 0.8452 - Exact Match: 69.709 - F1_score: 82.936 \n",
            "\n"
          ]
        }
      ],
      "source": [
        "val_loss , exact_match , f1_score, losses = evaluate( model , val_dataloader , criterion , val_set , tokenizer )\n",
        "scheduler.step()\n",
        "\n",
        "loss_list.append([train_loss , val_loss])\n",
        "metric_list.append([exact_match , f1_score])\n",
        "\n",
        "print(f'Train Loss: {train_loss:.4f}')\n",
        "print(f'Validation Loss: {val_loss:.4f} - Exact Match: {exact_match:.3f} - F1_score: {f1_score:.3f}', '\\n')"
      ],
      "id": "RYi6YG820oDs"
    },
    {
      "cell_type": "code",
      "execution_count": null,
      "metadata": {
        "colab": {
          "base_uri": "https://localhost:8080/"
        },
        "id": "eUp4Hz8O0wnG",
        "outputId": "7a89ec05-e32f-4a33-c6cf-363828cee9f4"
      },
      "outputs": [
        {
          "name": "stdout",
          "output_type": "stream",
          "text": [
            "[0.4592438042163849, 0.6782841682434082, 0.06826084852218628, 0.47528648376464844, 0.5622397065162659, 0.9232022762298584, 1.9538650512695312, 2.482419013977051, 0.38028445839881897, 0.16494213044643402, 1.1415650844573975, 0.5171568393707275, 0.6259753704071045, 1.8200550079345703, 0.7236332893371582, 0.24572333693504333, 0.2522115409374237, 0.11354091763496399, 0.14212524890899658, 0.7152316570281982, 1.146888256072998, 1.5528031587600708, 0.2567753791809082, 0.4301542639732361, 1.4488012790679932, 1.4202868938446045, 0.4416458010673523, 0.6717694401741028, 3.005591869354248, 0.22215589880943298, 0.35010337829589844, 0.3849765658378601, 2.4500339031219482, 0.1028842106461525, 0.8428153991699219, 2.0725464820861816, 0.8737446665763855, 0.9457417130470276, 0.13658460974693298, 0.5902531743049622, 0.2696884572505951, 0.7446228265762329, 1.9915757179260254, 0.6089973449707031, 2.104604959487915, 1.8394854068756104, 0.8225216865539551, 0.12268786132335663, 1.1289105415344238, 0.4952801465988159, 0.2866749167442322, 0.4706176519393921, 0.445703387260437, 0.4856467545032501, 0.47508740425109863, 1.7714505195617676, 0.44748595356941223, 1.8691104650497437, 0.7359424829483032, 1.5332896709442139, 0.33301740884780884, 0.3688528835773468, 0.07665984332561493, 0.6165284514427185, 0.7901224493980408, 1.4257242679595947, 0.1567944884300232, 0.1950732171535492, 2.23262882232666, 1.0446484088897705, 1.6596436500549316, 0.287799596786499, 0.3194413483142853, 0.48967909812927246, 0.48062074184417725, 0.7206840515136719, 0.9950467348098755, 0.05049319192767143, 0.34825602173805237, 2.3747291564941406, 0.48836079239845276, 1.2463655471801758, 1.7519278526306152, 0.9582855701446533, 0.7483382225036621, 0.35026776790618896, 0.6235324144363403, 0.5361739993095398, 0.3834425210952759, 0.6021913290023804, 0.8916828036308289, 0.08379393070936203, 1.5301315784454346, 0.33416640758514404, 0.7746989130973816, 0.3684306740760803, 0.5131729245185852, 0.6241843700408936, 0.5657382011413574, 0.9493516087532043, 0.10657374560832977, 0.6713080406188965, 0.6640890836715698, 1.353600263595581, 1.2380262613296509, 0.05813392996788025, 3.6831934452056885, 1.0700571537017822, 0.21697968244552612, 1.1164275407791138, 0.5009666085243225, 0.034249547868967056, 0.8544959425926208, 0.9004935622215271, 0.9574532508850098, 0.8869847059249878, 0.432847797870636, 0.10012241452932358, 0.5903524160385132, 1.0434876680374146, 0.57510906457901, 0.7212257981300354, 1.4300179481506348, 0.9509103298187256, 0.3691249489784241, 1.7107806205749512, 0.4670131206512451, 1.8770747184753418, 1.3653138875961304, 0.38340386748313904, 0.18084225058555603, 0.18901309370994568, 0.4542720913887024, 2.4320366382598877, 0.9692014455795288, 0.4897121489048004, 0.205534428358078, 1.2332066297531128, 0.24316002428531647, 0.2488412857055664, 0.9150974154472351, 0.894140362739563, 0.35096240043640137, 0.8948795795440674, 0.6139261722564697, 0.9369978308677673, 0.3697662949562073, 0.6582214832305908, 2.071227788925171, 0.14499203860759735, 0.7906862497329712, 1.9433754682540894, 0.8196375370025635, 1.0633354187011719, 1.0937674045562744, 0.9203015565872192, 0.5104546546936035, 0.24800047278404236, 1.8128465414047241, 1.6329481601715088, 0.5287880897521973, 0.6919398903846741, 1.6698439121246338, 0.7731202840805054, 0.19044263660907745, 0.9472143650054932, 1.0114802122116089, 0.6278802156448364, 0.3305199444293976, 0.1595812439918518, 1.0356066226959229, 1.173249363899231, 0.9247536063194275, 1.657649040222168, 0.4373258054256439, 1.7917933464050293, 0.584103524684906, 0.768997848033905, 0.47489261627197266, 1.3064062595367432, 0.8347141742706299, 0.5132795572280884, 0.3960038423538208, 0.8303046226501465, 2.1773526668548584, 0.82454514503479, 0.3005385994911194, 0.270365834236145, 0.762000560760498, 0.519254207611084, 0.23203112185001373, 1.8729419708251953, 1.4525060653686523, 0.39037805795669556, 0.849105715751648, 0.6457375884056091, 0.637549638748169, 0.70366370677948, 0.784231424331665, 0.6973556876182556, 0.28454387187957764, 1.1830835342407227, 0.28926143050193787, 0.8710625171661377, 0.33414289355278015, 0.29419195652008057, 0.48017024993896484, 0.6920418739318848, 0.9729133248329163, 0.7374098300933838, 1.7503271102905273, 0.04297512769699097, 0.47469067573547363, 0.5867531895637512, 1.142288327217102, 0.35134822130203247, 1.320585012435913, 0.7187162637710571, 0.13219839334487915, 0.3877480924129486, 3.8709652423858643, 0.5075953006744385, 1.7843785285949707, 1.9978504180908203, 0.11853273212909698, 0.9508699774742126, 0.5990097522735596, 1.8069732189178467, 0.5141509175300598, 0.9447347521781921, 0.8777986168861389, 0.8071047067642212, 0.9527896642684937, 0.7463654279708862, 0.4257662892341614, 0.5163329839706421, 0.9028186202049255, 1.4224152565002441, 0.4095091223716736, 0.5160924792289734, 0.8584705591201782, 0.9692988395690918, 0.39148807525634766, 0.6136958599090576, 1.1544859409332275, 0.16727128624916077, 0.2572963833808899, 1.526079773902893, 0.06975840032100677, 0.8303685188293457, 0.49357569217681885, 0.41471683979034424, 2.5592288970947266, 0.9507192373275757, 0.20592167973518372, 0.12444101274013519, 0.5742055177688599, 1.7420060634613037, 0.19916529953479767, 0.11406759172677994, 0.09544487297534943, 0.2796512246131897, 0.7355604767799377, 0.40496575832366943, 0.21876327693462372, 0.3875429034233093, 0.3970078229904175, 2.3097219467163086, 1.6761912107467651, 1.5443025827407837, 0.968571662902832, 1.6864657402038574, 0.8297716379165649, 0.9379814863204956, 0.8929944634437561, 0.2203751802444458, 0.976472020149231, 1.3963522911071777, 0.3825099468231201, 0.8614779114723206, 1.6320651769638062, 0.12484407424926758, 1.3185054063796997, 0.34260496497154236, 0.3794616162776947, 0.8515129089355469, 0.1516115665435791, 2.1176178455352783, 1.1560100317001343, 0.052562203258275986, 0.5444100499153137, 1.9470349550247192, 1.5421512126922607, 0.7637847661972046, 1.1698510646820068, 0.3770160675048828, 0.23678745329380035, 0.8783034086227417, 0.7745860815048218, 0.486074835062027, 1.7541439533233643, 0.7198706865310669, 0.5048729777336121, 0.7945569157600403, 0.13908371329307556, 1.048535704612732, 1.2907215356826782, 0.044343672692775726, 0.7649604678153992, 1.3144654035568237, 0.38924098014831543, 0.1198829859495163, 0.6785961985588074, 0.3823036551475525, 1.03754460811615, 2.4473862648010254, 0.4960898160934448, 1.9080935716629028, 0.9488667249679565, 1.7645001411437988, 0.8762274980545044, 1.4277337789535522, 1.537024736404419, 1.5311124324798584, 1.1922129392623901, 1.0359930992126465, 3.2859609127044678, 0.6903160214424133, 0.4479583203792572, 0.30633342266082764, 1.4082846641540527, 0.27506983280181885, 0.6640045642852783, 0.7609583139419556, 1.5028698444366455, 0.6920824646949768, 0.25718197226524353, 0.7042962312698364, 0.5258574485778809, 0.3868744373321533, 0.6665148735046387, 0.5678391456604004, 0.6457759141921997, 0.8376036882400513, 0.8273218870162964, 1.3866467475891113, 0.5237610340118408, 2.240915298461914, 0.06323247402906418, 0.31688594818115234, 1.3081634044647217, 0.6243792772293091, 0.3356149196624756, 0.5829983949661255, 0.14131009578704834, 0.35600167512893677, 0.49092984199523926, 0.7771251201629639, 1.345080018043518, 0.5913523435592651, 1.1784380674362183, 0.22622311115264893, 0.9473296403884888, 2.555947780609131, 0.43586575984954834, 0.42539334297180176, 1.4619898796081543, 1.1991915702819824, 2.2886719703674316, 1.0534543991088867, 1.8677175045013428, 0.6717245578765869, 0.8728735446929932, 0.3846566081047058, 1.0574450492858887, 1.4800602197647095, 0.5222815275192261, 0.43732506036758423, 1.3582762479782104, 0.6628033518791199, 0.34511280059814453, 0.177845299243927, 0.5486410856246948, 1.0413126945495605, 0.7727402448654175, 0.16382400691509247, 0.29546990990638733, 1.230309247970581, 0.04473324120044708, 0.4127313196659088, 0.4172345995903015, 0.9561949968338013, 0.6123644709587097, 0.3938606083393097, 0.6610097289085388, 0.5065993070602417, 0.3516976833343506, 0.15843066573143005, 0.19367633759975433, 1.1646130084991455, 0.6374808549880981, 1.5643706321716309, 0.508321225643158, 0.33645856380462646, 0.9376088380813599, 2.5905301570892334, 1.3861908912658691, 0.6117641925811768, 0.7107169032096863, 0.8572210669517517, 0.16843143105506897, 1.2340595722198486, 3.2139222621917725, 0.020241305232048035, 0.897222638130188, 0.65753573179245, 0.47525596618652344, 0.6881892085075378, 0.1726156622171402, 2.2545878887176514, 0.34427666664123535, 0.6886445879936218, 1.598787546157837, 4.690578460693359, 1.398810863494873, 0.42207038402557373, 0.9245268106460571, 1.2126023769378662, 0.24985070526599884, 0.6588714122772217, 0.1932179182767868, 0.24385151267051697, 1.0373046398162842, 1.862297534942627, 0.6366903185844421, 0.19450975954532623, 0.7426260709762573, 0.11580979824066162, 0.25230833888053894, 2.0917720794677734, 1.8921408653259277, 0.28198644518852234, 0.9579272866249084, 0.6935617923736572, 1.560036301612854, 0.4515327215194702, 0.405391126871109, 0.3986530900001526, 1.0665903091430664, 1.352516531944275, 0.2207721620798111, 0.2630739212036133, 0.31604722142219543, 1.4146034717559814, 1.0410187244415283, 0.08370782434940338, 0.482519268989563, 1.2326314449310303, 0.23701538145542145, 0.12985724210739136, 0.05685228109359741, 2.2136106491088867, 1.0222817659378052, 0.4625902771949768, 0.19255290925502777, 2.0264503955841064, 2.7096705436706543, 0.3778021037578583, 0.8478706479072571, 0.6239582300186157, 0.11248312890529633, 1.4692492485046387, 0.5349781513214111, 0.3203825354576111, 0.6206338405609131, 1.6796469688415527, 0.3753511905670166, 0.9398776292800903, 0.7022279500961304, 0.709096372127533, 0.6289485692977905, 0.48348623514175415, 1.1053047180175781, 0.21489854156970978, 2.2518110275268555, 2.387051820755005, 0.856775164604187, 0.5557979345321655, 0.9776229858398438, 0.4868071973323822, 1.8823187351226807, 0.5551471710205078, 1.899340033531189, 0.511657178401947, 0.3988257646560669, 1.1644628047943115, 0.9272434711456299, 0.17832785844802856, 0.6482991576194763, 0.649045467376709, 0.7586876153945923, 0.11465871334075928, 1.78864586353302, 0.8730083107948303, 0.6883253455162048, 2.186948776245117, 0.2545360028743744, 0.7444475889205933, 0.949037492275238, 1.2387839555740356, 0.15878243744373322, 2.38372802734375, 2.210949659347534, 0.5949011445045471, 0.626244306564331, 0.8079466819763184, 0.47206369042396545, 1.4102662801742554, 0.5181008577346802, 1.195062518119812, 0.3909144699573517, 1.1876062154769897, 0.48433077335357666, 1.0546824932098389, 0.2997390627861023, 0.6480284333229065, 2.2816660404205322, 0.601863443851471, 0.18398188054561615, 1.8894270658493042, 0.881380558013916, 0.5592750906944275, 1.8775490522384644, 1.342913031578064, 1.256955623626709, 1.3645480871200562, 0.0907018631696701, 2.0622518062591553, 1.5729658603668213, 1.1431410312652588, 0.01656239479780197, 0.7508221864700317, 1.540010929107666, 0.6211547255516052, 0.4604801833629608, 0.724912166595459, 0.8036495447158813, 0.6305217742919922, 2.8000645637512207, 0.46377962827682495, 0.5019692778587341, 0.3332354426383972, 0.16800303757190704, 0.6441529393196106, 0.567019522190094, 1.1249722242355347, 0.9290390610694885, 0.9842031002044678, 0.45851701498031616, 0.7070556879043579, 1.161222219467163, 0.2631312608718872, 0.6767163276672363, 0.6180583238601685, 0.6784672141075134, 0.5608255863189697, 0.9508159160614014, 0.45890146493911743, 0.4401598572731018, 0.511595606803894, 0.7795692086219788, 1.5465599298477173, 0.35596007108688354, 0.9624756574630737, 1.1025290489196777, 0.029369540512561798, 2.6536176204681396, 0.4263972043991089, 0.42701250314712524, 1.066724181175232, 0.7673858404159546, 2.5964274406433105, 0.9360869526863098, 0.4932921528816223, 0.5712921619415283, 0.8203749060630798, 0.022566938772797585, 1.131151556968689, 0.4378736913204193, 0.6603224277496338, 1.8011066913604736, 0.13275018334388733, 1.9866111278533936, 0.8774734735488892, 1.3977885246276855, 0.28962576389312744, 0.5247167944908142, 0.7576926946640015, 0.9994714260101318, 1.0137492418289185, 0.5837359428405762, 0.9061996936798096, 0.6533433198928833, 0.8707557320594788, 0.7516714334487915, 1.2729039192199707, 0.6797819137573242, 0.7954996228218079, 1.6645011901855469, 0.8170861005783081, 0.3914760947227478, 0.5176085233688354, 0.9565032124519348, 0.7674810886383057, 0.6692700982093811, 1.0375304222106934, 1.119905948638916, 0.2363111674785614, 0.6401734352111816, 0.5400370359420776, 0.7491499781608582, 0.6900023221969604, 0.2762334942817688, 2.8222813606262207, 0.4420804977416992, 1.9280450344085693, 1.333288311958313, 0.570009708404541, 0.9134734869003296, 0.8610847592353821, 0.2606421709060669, 0.6725269556045532, 0.8057823181152344, 1.0445725917816162, 1.790053129196167, 0.8198999166488647, 0.3419620394706726, 1.5487713813781738, 1.5225088596343994, 2.494889497756958, 0.5675637722015381, 0.571002185344696, 1.1930763721466064, 0.26817649602890015, 2.4064056873321533, 0.11637747287750244, 0.9124177098274231, 0.37395527958869934, 0.9136159420013428, 1.131689190864563, 0.32448312640190125, 0.139329731464386, 0.5725521445274353, 0.4228169620037079, 1.11842679977417, 0.13836769759655, 1.122593879699707, 0.44278889894485474, 2.3983712196350098, 0.7383917570114136, 0.5752354264259338, 0.4509398937225342, 0.834891676902771, 0.9975231885910034, 0.5378726720809937, 0.3148207664489746, 1.4177247285842896, 2.2413716316223145, 0.24223844707012177, 1.543990135192871, 0.41273581981658936, 1.4035784006118774, 1.1442346572875977, 0.5750176310539246, 1.4050192832946777, 0.5025374889373779, 1.1324272155761719, 0.052522990852594376, 0.7423194050788879, 1.2045259475708008, 1.2786531448364258, 0.8699113130569458, 0.6283111572265625, 0.8723611831665039, 0.8204102516174316, 0.6333964467048645, 0.383431077003479, 1.1372570991516113, 1.3360285758972168, 0.8880273103713989, 0.08060505241155624, 0.4334252178668976, 0.5287560224533081, 0.545479416847229, 1.4110541343688965, 0.5623310804367065, 1.2333059310913086, 0.4638820290565491, 0.6403223276138306, 0.4115622639656067, 0.9574902057647705, 1.9367337226867676, 0.526665449142456, 0.7593724727630615, 1.6338379383087158, 0.5186647772789001, 0.7766161561012268, 1.0407792329788208, 1.3676848411560059, 0.6115833520889282, 3.6523356437683105, 0.7840811610221863, 0.27234476804733276, 0.07859385013580322, 0.7412219047546387, 0.7938663959503174, 1.4584300518035889, 0.6154028177261353, 0.8892146944999695, 1.7915409803390503, 1.1906739473342896, 0.29069000482559204, 0.8991235494613647, 0.348777711391449, 0.22708405554294586, 1.3886065483093262, 1.137479305267334, 0.42080867290496826, 1.2097382545471191, 1.0741734504699707, 3.1137497425079346, 0.620096743106842, 0.9956539869308472, 1.8858460187911987, 1.2075763940811157, 2.000885486602783, 0.6535540819168091, 0.3533390164375305, 1.3287177085876465, 0.12087897211313248, 0.8092564344406128, 3.3500351905822754, 0.9265592098236084, 1.1977283954620361, 0.6861118078231812, 1.8562746047973633, 0.7939426302909851, 0.4199891686439514, 0.7417737245559692, 0.3784269690513611, 0.08477412909269333, 0.7241001725196838, 0.9115703105926514, 0.9457052946090698, 0.44406962394714355, 0.24758951365947723, 0.4342491328716278, 1.1076254844665527, 0.44028374552726746, 0.42349743843078613, 0.7295377254486084, 1.4450652599334717, 0.27239903807640076, 0.45525556802749634, 0.36124005913734436, 0.0338553786277771, 0.07050444185733795, 1.943079948425293, 0.19490085542201996, 1.1293330192565918, 0.3052308261394501, 0.4327637553215027, 0.9464066624641418, 0.916261613368988, 1.0930556058883667, 0.7359223365783691, 1.8063299655914307, 2.4046425819396973, 0.4127674400806427, 1.2150660753250122, 1.7210496664047241, 1.318495273590088, 0.6414070129394531, 0.3947209119796753, 0.47343671321868896, 0.6446512341499329, 1.6914689540863037, 0.8690440654754639, 1.1183322668075562, 0.7824893593788147, 0.21864458918571472, 1.4762537479400635, 0.7270362973213196, 2.286306858062744, 0.6757889986038208, 0.501178503036499, 1.404414415359497, 0.8470098376274109, 0.6991205215454102, 0.944299042224884, 0.29352501034736633, 0.07018375396728516, 0.9423682689666748, 0.41317957639694214, 1.7220149040222168, 0.10523325949907303, 1.0648187398910522, 1.0469536781311035, 0.719240128993988, 1.4908771514892578, 0.04952844977378845, 0.6506205201148987, 0.1459549218416214, 0.3411209285259247, 0.4764856696128845, 0.17576473951339722, 0.6566864252090454, 2.3168318271636963, 2.3462812900543213, 0.38479694724082947, 1.297248363494873, 0.4761373996734619, 0.13056114315986633, 2.1500329971313477, 0.47109341621398926, 1.3811323642730713, 1.8388335704803467, 0.6103634834289551, 1.085112452507019, 1.2353671789169312, 0.5938865542411804, 0.9740560054779053, 0.1081719696521759, 0.3438636064529419, 0.24014881253242493, 0.3857424259185791, 0.5143225789070129, 0.04186950623989105, 1.0537704229354858, 0.6794922947883606, 1.8193540573120117, 0.1666930764913559, 1.393795371055603, 0.38661989569664, 1.0756888389587402, 1.0441837310791016, 0.5435839295387268, 0.37758320569992065, 0.14475929737091064, 0.840335488319397, 0.5760782361030579, 0.6716107130050659, 1.5673636198043823, 0.4988870918750763, 0.26614058017730713, 0.8044646978378296, 0.8517192006111145, 0.5460628271102905, 0.40846484899520874, 0.4016200304031372, 1.8400659561157227, 0.8975124955177307, 1.2085974216461182, 1.4690887928009033, 0.5523399114608765, 0.2944348454475403, 2.8398194313049316, 0.6254187822341919, 0.16869410872459412, 1.4930795431137085, 0.8449344635009766, 2.1054821014404297, 1.232802152633667, 1.0697276592254639, 0.1437143236398697, 0.3521852195262909, 0.507319450378418, 0.466400146484375, 0.1941676288843155, 0.021877432242035866, 0.6883763670921326, 0.5401146411895752, 0.7213420867919922, 0.8516581654548645, 2.044219493865967, 0.681645393371582, 0.11778128147125244, 1.271974802017212, 0.16050702333450317, 0.19347086548805237, 0.13924850523471832, 0.25289294123649597, 0.24779275059700012, 0.8543967604637146, 0.21227440237998962, 0.7160526514053345, 0.3065144419670105, 0.9640330076217651, 0.9214318990707397, 0.6784048080444336, 1.4488694667816162, 1.2301013469696045, 0.14423152804374695, 2.2321181297302246, 2.6786179542541504, 0.051132068037986755, 1.322857141494751, 2.202881097793579, 0.4846675395965576, 0.4021243751049042, 1.8786253929138184, 0.39266547560691833, 0.9704201221466064, 0.9240344762802124, 1.1656789779663086, 0.3690659999847412, 0.12952348589897156, 0.4447898268699646, 2.7259469032287598, 1.122681736946106, 0.7371513843536377, 1.9964325428009033, 0.647550106048584, 1.0917295217514038, 1.3329685926437378, 0.04669361561536789, 0.4593311846256256, 0.879186749458313, 0.6998546719551086, 0.2949996590614319, 0.23195941746234894, 0.7926380634307861, 0.17111635208129883, 0.791841983795166, 0.056537359952926636, 0.05301332473754883, 0.2520652115345001, 0.25500279664993286, 1.6852751970291138, 0.7182339429855347, 1.1400483846664429, 0.45137712359428406, 0.9459775686264038, 0.18311160802841187, 0.77684086561203, 1.2817062139511108, 0.6585842370986938, 0.22654923796653748, 0.07434312999248505, 0.0884062647819519, 0.43317845463752747, 0.7060524225234985, 1.1212923526763916, 0.6409814357757568, 0.8622336983680725, 0.4741126000881195, 2.3618295192718506, 0.32893773913383484, 0.1621823012828827, 1.2045243978500366, 0.7115775942802429, 0.14800907671451569, 1.350928544998169, 0.40351855754852295, 0.9116190671920776, 0.15531930327415466, 0.4034295380115509, 0.9538887143135071, 0.4341298043727875, 0.280791699886322, 0.7733362913131714, 0.6443442106246948, 0.4045643210411072, 1.68033766746521, 1.0960981845855713, 0.8911722302436829, 0.9329215288162231, 2.4681830406188965, 0.9279705286026001, 0.774237871170044, 1.7782535552978516, 0.3631860017776489, 0.8741893768310547, 0.5698976516723633, 0.9582984447479248, 1.4154163599014282, 1.9799878597259521, 1.3950486183166504, 2.1282217502593994, 0.4785774350166321, 1.0006059408187866, 0.8718093037605286, 0.7646052837371826, 0.6876218318939209, 0.28662434220314026, 1.4317739009857178, 0.9830732345581055, 0.2769531011581421, 1.3289988040924072, 1.9212424755096436, 0.7593050003051758, 0.361762672662735, 0.6266916990280151, 0.8464845418930054, 0.769394040107727, 0.2129289209842682, 0.18783074617385864, 0.1561133861541748, 1.175135850906372, 0.40095770359039307, 0.8008117079734802, 0.19266021251678467, 1.454864501953125, 0.29840344190597534, 0.42814546823501587, 0.42044129967689514, 0.3383970260620117, 0.8603721857070923, 0.3992125391960144, 0.7034292221069336, 0.32721978425979614, 2.4444570541381836, 0.48933345079421997, 0.43734097480773926, 0.4456799328327179, 0.9225524663925171, 0.44627881050109863, 1.1890405416488647, 0.10644160211086273, 1.133507251739502, 0.06585952639579773, 0.470891535282135, 1.301143765449524, 0.5183385014533997, 1.2711167335510254, 1.1600537300109863, 1.39199697971344, 1.2929387092590332, 0.11967765539884567, 0.43890196084976196, 0.7306841611862183, 1.0581324100494385, 1.5599157810211182, 2.5256617069244385, 0.22470787167549133, 0.7232406139373779, 0.18975743651390076, 0.1353527307510376, 2.3294472694396973, 0.4569281339645386, 0.16352304816246033, 0.7203529477119446, 0.5641926527023315, 1.3903543949127197, 1.332567811012268, 0.47843897342681885, 1.1327725648880005, 0.30128517746925354, 0.2073410153388977, 0.4329056143760681, 2.116830825805664, 0.765531063079834, 0.5491332411766052, 0.16129687428474426, 1.0156258344650269, 1.5258429050445557, 0.1467837691307068, 1.0518825054168701, 1.0823522806167603, 0.8334161043167114, 0.6113972663879395, 0.18127746880054474, 1.2743583917617798, 0.19298624992370605, 1.0513193607330322, 0.23055556416511536, 1.8823806047439575, 0.21345111727714539, 0.7002305388450623, 0.806930661201477, 1.8361904621124268, 1.7414839267730713, 1.7569024562835693, 0.08441278338432312, 0.18274900317192078, 1.402988076210022, 0.5764524936676025, 0.6052209138870239, 0.46117961406707764, 0.7876965999603271, 1.3011701107025146, 0.8185915946960449, 0.7966818809509277, 3.101593494415283, 0.5545331835746765, 0.8786418437957764, 0.12815290689468384, 0.3572065234184265, 1.0369468927383423, 1.458708643913269, 0.3737219572067261, 0.43044039607048035, 1.849729061126709, 0.4033043384552002, 3.107428550720215, 0.9397138953208923, 0.9666783213615417, 3.249204397201538, 1.6834049224853516, 0.8284107446670532, 0.6244903802871704, 1.3829879760742188, 0.3030471205711365, 1.1732432842254639, 2.9062275886535645, 1.4487296342849731, 0.5616317391395569, 1.5005525350570679, 0.23762579262256622, 1.7688672542572021, 1.1474101543426514, 1.7705516815185547, 0.3993832767009735, 0.3273959159851074, 0.6009659171104431, 1.4850114583969116, 0.5426276326179504, 0.2428017556667328, 0.11360018700361252, 0.35748547315597534, 0.6553415656089783, 0.8575482368469238, 0.3214556574821472, 1.672903060913086, 1.0576541423797607, 0.44248342514038086, 1.009546160697937, 1.346785068511963, 0.16777320206165314, 1.048551321029663, 0.8528507947921753, 0.9857586026191711, 0.9923490285873413, 0.8639868497848511, 1.0631825923919678, 0.6975265741348267, 0.6408300995826721, 1.6091516017913818, 1.3612010478973389, 1.4327247142791748, 0.23604169487953186, 0.2630184590816498, 0.5338625907897949, 1.3703393936157227, 0.8370158076286316, 0.6468656063079834, 0.8430864810943604, 0.5588256120681763, 0.30620142817497253, 1.2186176776885986, 0.2526901066303253, 0.34686365723609924, 0.09708770364522934, 0.2800563871860504, 1.092437744140625, 0.5269535779953003, 0.41630440950393677, 0.5372089147567749, 1.2649394273757935, 0.9014493823051453, 2.0940346717834473, 1.3304684162139893, 0.11619488149881363, 0.08077777922153473, 0.9977325201034546, 0.10152332484722137, 0.5006778836250305, 2.7198686599731445, 0.2394530028104782, 0.501172661781311, 1.3245656490325928, 0.4438883662223816, 1.0700222253799438, 1.1601941585540771, 1.302955150604248, 0.8026251196861267, 1.0851597785949707, 0.39271658658981323, 0.693733811378479, 2.0534932613372803, 0.5731899738311768, 0.9403989315032959, 1.295724630355835, 1.4344606399536133, 1.1653730869293213, 0.44148415327072144, 1.370013952255249, 1.5108577013015747, 0.10973665863275528, 0.6659994721412659, 0.858150839805603, 0.3610110282897949, 0.538747251033783, 0.15170888602733612, 0.8781413435935974, 0.2818484902381897, 0.8710838556289673, 1.0806925296783447, 1.880773663520813, 1.0705007314682007, 1.616748332977295, 0.3424929976463318, 0.5085655450820923, 0.8874587416648865, 1.5530707836151123, 0.7144427299499512, 1.3711708784103394, 0.28010767698287964, 0.4774788022041321, 0.35110795497894287, 1.5686681270599365, 1.2109451293945312, 0.6878839135169983, 1.4057207107543945, 1.0508034229278564, 1.1029284000396729, 0.5948148965835571, 2.382274627685547, 0.4530852437019348, 0.1751738339662552, 0.7963269352912903, 1.8335225582122803, 1.8758589029312134, 0.8238378167152405, 0.9066553115844727, 0.2440979778766632, 0.21812807023525238, 1.1735255718231201, 1.2295945882797241, 0.7201484441757202, 0.9200665950775146, 0.4159907102584839, 1.5461671352386475, 0.5767340660095215, 0.6660563349723816, 0.9180083274841309, 0.673001229763031, 0.6551308631896973, 1.1787490844726562, 2.7850494384765625, 1.072983741760254, 0.1401045322418213, 0.22500565648078918, 1.039280891418457, 0.5257156491279602, 0.482873797416687, 0.49423062801361084, 0.25083693861961365, 0.8926364779472351, 1.3688690662384033, 0.9428573846817017, 0.4548741579055786, 0.9047789573669434, 0.7665308713912964, 0.9453097581863403, 0.6451994776725769, 0.4130253791809082, 1.4894850254058838, 1.3380744457244873, 0.8337658643722534, 0.42657536268234253, 0.1566702127456665, 1.0457037687301636, 0.6826338768005371, 0.25294768810272217, 0.52076256275177, 1.0462409257888794, 0.14482228457927704, 0.3745592534542084, 0.9162954092025757, 0.3405126631259918, 1.7979282140731812, 1.2955151796340942, 0.9691237211227417, 1.3263044357299805, 1.5993497371673584, 3.775238275527954, 0.3578348755836487, 0.46282684803009033, 0.3937055468559265, 0.17118626832962036, 1.1114567518234253, 1.1534881591796875, 0.9920463562011719, 2.8053953647613525, 1.3157691955566406, 0.3383309841156006, 1.3053780794143677, 0.4490232467651367, 1.1164146661758423, 0.350800096988678, 0.7216058969497681, 0.7053972482681274, 0.6208015084266663, 1.3371353149414062, 1.392275094985962, 0.12123781442642212, 0.4648968577384949, 0.7828223705291748, 0.8606646060943604, 0.5908447504043579, 0.6047645211219788, 0.9293640851974487, 0.49312180280685425, 0.8250530958175659, 0.17236405611038208, 0.6380934715270996, 0.122025266289711, 0.5859638452529907, 1.8842530250549316, 0.622705340385437, 1.4069511890411377, 2.3696537017822266, 0.7232592105865479, 0.7223441004753113, 0.261435329914093, 0.7001301050186157, 0.4325210452079773, 0.28594422340393066, 0.37694039940834045, 1.2277156114578247, 0.5155662298202515, 0.8967964053153992, 1.4813423156738281, 0.3040351867675781, 0.8175879716873169, 0.3717706501483917, 0.5858780741691589, 1.414628028869629, 1.9808369874954224, 0.10046344250440598, 0.6689448356628418, 0.4050268232822418, 0.2509874105453491, 2.693131685256958, 1.003399133682251, 1.543672800064087, 0.5461933612823486, 0.7143347263336182, 0.5767002105712891, 2.0474321842193604, 0.29121118783950806, 0.48439860343933105, 0.7330183982849121, 1.2978782653808594, 0.04320041835308075, 1.6158887147903442, 1.0436270236968994, 0.8295280933380127, 0.3427109122276306, 0.6177427768707275, 0.12381833791732788, 0.7919232249259949, 1.2637964487075806, 0.5980414748191833, 0.661119818687439, 0.17817595601081848, 1.2036590576171875, 0.31451869010925293, 0.6896252036094666, 3.951371669769287, 0.8865137100219727, 0.841834545135498, 0.8408572673797607, 2.0896201133728027, 0.22797620296478271, 1.0799477100372314, 1.2637174129486084, 0.1851261556148529, 1.010399341583252, 1.121891736984253, 0.742245614528656, 0.8142547607421875, 0.31246164441108704, 0.5982128381729126, 2.567814826965332, 1.329453706741333, 1.0123759508132935, 0.5669118165969849, 0.9611759185791016, 0.8494316339492798, 0.4757258892059326, 1.0056748390197754, 0.9262436032295227, 0.1471603810787201, 0.19447556138038635, 2.534799098968506, 0.471635639667511, 0.6606875658035278, 0.1343853920698166, 1.9169292449951172, 1.022964596748352, 1.0399363040924072, 0.859421968460083, 0.2593758702278137, 1.1795339584350586, 0.3505088686943054, 0.8780418634414673, 0.34171155095100403, 0.8024877309799194, 0.994497537612915, 0.1300908625125885, 1.2509101629257202, 1.110137701034546, 1.1587178707122803, 0.15410231053829193, 0.14529414474964142, 0.4115813970565796, 2.0283689498901367, 0.21754342317581177, 0.1700359284877777, 1.483375072479248, 1.549250602722168, 0.4181314706802368, 0.11135879158973694, 0.9484986066818237, 0.37110158801078796, 1.4117742776870728, 0.26474741101264954, 1.5182130336761475, 0.5185864567756653, 0.1957053691148758, 1.1359447240829468, 0.745681643486023, 1.1981695890426636, 0.2698357105255127, 0.4154733419418335, 1.4710404872894287, 0.5118595361709595, 0.6192419528961182, 0.5883859395980835, 1.7874255180358887, 0.40138867497444153, 0.5310937166213989, 2.3524131774902344, 1.5772545337677002, 0.3021116256713867, 1.7393426895141602, 0.28586745262145996, 1.3089314699172974, 0.1847832202911377, 0.14502212405204773, 1.6309999227523804, 0.07942953705787659, 0.3959391713142395, 1.6210806369781494, 0.23323777318000793, 1.5337949991226196, 1.0291008949279785, 0.5715805888175964, 0.04011911898851395, 0.7748439311981201, 1.0066750049591064, 0.14700934290885925, 0.5596481561660767, 0.7629605531692505, 0.41801032423973083, 0.6765778660774231, 0.47524553537368774, 0.8448030948638916, 0.2189716100692749, 0.19103208184242249, 1.5497857332229614, 0.2420121431350708, 0.13684800267219543, 0.6338598728179932, 0.4681364893913269, 0.7679542899131775, 1.3971495628356934, 0.6612139940261841, 0.2552153468132019, 0.7578887343406677, 0.45895588397979736, 0.3422730267047882, 1.009569525718689, 0.4292117953300476, 0.7527350783348083, 2.4053070545196533, 0.5315640568733215, 0.7030972242355347, 0.8075858354568481, 0.9455279111862183, 1.6910595893859863, 0.3331957459449768, 0.5194697380065918, 0.28710368275642395, 1.5936157703399658, 0.8355717658996582, 1.7553941011428833, 0.5066099166870117, 0.7643955945968628, 1.6268284320831299, 0.8478790521621704, 0.7793432474136353, 0.6148051023483276, 1.2254431247711182, 1.0024303197860718, 0.379230797290802, 0.49807626008987427, 0.1608583778142929, 0.4769046902656555, 0.05681965500116348, 0.9097422361373901, 0.41145724058151245, 0.833820641040802, 0.16421955823898315, 1.462198257446289, 0.45756056904792786, 0.5243750810623169, 1.1467913389205933, 1.2412573099136353, 1.7565085887908936, 0.4287469685077667, 1.2862625122070312, 0.6506292223930359, 0.38567087054252625, 0.08557653427124023, 0.39983096718788147, 0.38902342319488525, 1.1176693439483643, 1.5003392696380615, 1.251224398612976, 0.3631811738014221, 1.2110826969146729, 1.694366216659546, 1.3710594177246094, 1.3522275686264038, 1.1370902061462402, 0.06663373112678528, 1.21547532081604, 1.4194462299346924, 0.7065041661262512, 1.091720700263977, 1.2496449947357178, 0.4252033829689026, 0.24505484104156494, 0.35034897923469543, 0.24916687607765198, 0.3415674865245819, 0.8096847534179688, 0.4634261131286621, 0.1924547255039215, 0.592499315738678, 0.3171619176864624, 1.0716277360916138, 0.7392903566360474, 1.4157792329788208, 1.26324462890625, 0.989094078540802, 0.19835081696510315, 0.500773012638092, 0.6936279535293579, 0.6167342662811279, 0.8187840580940247, 2.9666900634765625, 0.3244320750236511, 0.11865796148777008, 0.6833649277687073, 0.7074198722839355, 1.047428846359253, 0.30491113662719727, 0.2136453539133072, 0.9490869045257568, 0.980770468711853, 1.4373090267181396, 0.6119821667671204, 0.5517591238021851, 1.8866748809814453, 0.334233820438385, 3.005073308944702, 0.05126617103815079, 0.5850039720535278, 0.28281450271606445, 0.9096646308898926, 1.3984980583190918, 0.49906131625175476, 1.7087736129760742, 1.6371798515319824, 1.5549263954162598, 0.4066201448440552, 1.522681713104248, 1.8294835090637207, 0.5759987831115723, 1.5591464042663574, 0.3733973503112793, 0.3439069390296936, 0.5180412530899048, 1.1470413208007812, 0.3266390264034271, 0.8835498094558716, 1.1274871826171875, 2.0910696983337402, 0.49428504705429077, 0.4180312156677246, 1.1404805183410645, 0.3830336928367615, 0.9206157922744751, 0.8254135847091675, 0.8405358791351318, 0.4959750473499298, 0.6186246871948242, 0.24722759425640106, 0.2789720296859741, 0.011204302310943604, 1.5885119438171387, 0.3755837082862854, 0.37136632204055786, 0.06666161119937897, 0.19996976852416992, 1.0359885692596436, 1.902116298675537, 2.8676300048828125, 0.2790329158306122, 0.9069375991821289, 0.4810325503349304, 1.5187957286834717, 0.6166604161262512, 0.6877383589744568, 0.9403151869773865, 0.19752389192581177, 0.8982806205749512, 0.11265310645103455, 0.4935702383518219, 0.4297542870044708, 0.809149444103241, 0.6502176523208618, 0.7506952881813049, 0.20818153023719788, 0.8849464654922485, 0.0572485513985157, 0.7614929676055908, 0.7440927028656006, 1.9802517890930176, 0.8554083108901978, 0.926567792892456, 0.4953439235687256, 0.27451223134994507, 0.4514830410480499, 0.806073784828186, 0.8416881561279297, 1.5076013803482056, 0.6496800184249878, 1.3996844291687012, 2.250500440597534, 0.5606791973114014, 1.0885835886001587, 0.1946668028831482, 0.7111809253692627, 0.2577672302722931, 0.509641170501709, 0.8816126585006714, 0.2372194081544876, 1.8310424089431763, 0.7918893098831177, 0.44294899702072144, 0.946009635925293, 1.7601957321166992, 2.0800657272338867, 0.3006822168827057, 0.23283368349075317, 0.5641069412231445, 0.6676312685012817, 0.6897482872009277, 0.2827538549900055, 0.5042862296104431, 2.431692123413086, 2.376497268676758, 0.12780365347862244, 1.4982073307037354, 0.4824388027191162, 1.365899682044983, 1.282760739326477, 1.027254343032837, 0.7473612427711487, 1.2326874732971191, 0.5433095693588257, 0.39830881357192993, 2.1863269805908203, 1.178464651107788, 1.089072823524475, 0.6292903423309326, 1.3698809146881104, 0.5559909343719482, 0.4743184447288513, 1.0481081008911133, 0.24606792628765106, 0.21834701299667358, 0.8196195363998413, 1.9107028245925903, 0.8357833623886108, 1.7879316806793213, 0.09485273063182831, 1.101749300956726, 0.14159037172794342, 0.6482638120651245, 0.9761645793914795, 0.6894251108169556, 0.5391402244567871, 0.26765894889831543, 0.1626928299665451, 1.1329240798950195, 0.950758695602417, 0.1756468266248703, 0.5188577771186829, 0.4286246597766876, 0.9960988759994507, 2.8843870162963867, 0.31809794902801514, 1.0396997928619385, 0.4808291792869568, 0.4404544234275818, 0.12423125654459, 0.6205578446388245, 0.6822934150695801, 0.3223075270652771, 0.9166555404663086, 0.31830573081970215, 0.31949692964553833, 1.138462781906128, 0.6100167036056519, 0.384769469499588, 1.2753796577453613, 1.1155753135681152, 1.1801798343658447, 0.5207629203796387, 0.3021777272224426, 0.027242524549365044, 0.837154746055603, 0.6844660639762878, 0.8504945039749146, 0.3152238726615906, 1.0862276554107666, 1.0577454566955566, 0.4688330590724945, 1.3796160221099854, 1.612856388092041, 0.4240848124027252, 0.13816386461257935, 1.3104579448699951, 0.9435640573501587, 0.1674589216709137, 1.0032432079315186, 0.07171714305877686, 1.4420908689498901, 0.3297036290168762, 1.044884204864502, 0.4789566397666931, 0.5855318307876587, 0.19555604457855225, 0.7969109416007996, 0.7909741401672363, 0.2631255090236664, 0.38288775086402893, 2.2970170974731445, 0.48210567235946655, 0.5520674586296082, 1.0235668420791626, 0.17024007439613342, 1.222773790359497, 1.5134351253509521, 1.095341682434082, 0.17860110104084015, 0.7451510429382324, 1.0611340999603271, 3.232179641723633, 1.7235015630722046, 0.09314300119876862, 2.9441843032836914, 0.38161739706993103, 0.7478091716766357, 0.619709312915802, 0.8000420331954956, 0.9448961019515991, 0.37499624490737915, 1.2237539291381836, 0.8519545793533325, 0.5600564479827881, 1.193023681640625, 1.8400143384933472, 0.9335683584213257, 1.3071355819702148, 0.002621786203235388, 1.3478813171386719, 0.11596588790416718, 0.5625879168510437, 1.7563450336456299, 0.825609564781189, 0.4407574534416199, 0.8290045261383057, 0.5726555585861206, 0.48480677604675293, 0.5926175117492676, 0.037560947239398956, 0.8479817509651184, 0.5992535352706909, 1.3565943241119385, 0.8263243436813354, 1.3911186456680298, 0.6219089031219482, 0.6666407585144043, 0.7704229354858398, 2.3727922439575195, 0.1601174920797348, 0.5992538332939148, 0.6900275945663452, 0.337965190410614, 1.6574370861053467, 0.3207457661628723, 0.11459698528051376, 0.6486690640449524, 1.1178590059280396, 0.3936295807361603, 0.8483693599700928, 0.033738940954208374, 0.2764487862586975, 1.5524789094924927, 0.2274753451347351, 0.149070143699646, 0.8696178197860718, 0.9814797639846802, 1.9047907590866089, 0.9878997802734375, 1.4353193044662476, 1.5016086101531982, 0.8207851648330688, 0.27630698680877686, 1.0734102725982666, 0.23912334442138672, 0.36863791942596436, 0.15817078948020935, 0.47335755825042725, 2.2804017066955566, 0.5454829335212708, 0.3513461947441101, 0.4880914092063904, 1.7571673393249512, 0.34983742237091064, 0.10963362455368042, 0.7342813014984131, 1.0606616735458374, 0.4873577952384949, 0.8464751839637756, 0.42689383029937744, 0.29320845007896423, 1.1974585056304932, 0.4184882640838623, 0.9436731338500977, 1.6062206029891968, 2.949000597000122, 0.6117891669273376, 0.8703961968421936, 0.14989891648292542, 0.9771533608436584, 0.18410269916057587, 2.115790605545044, 0.3330077528953552, 0.5302136540412903, 0.6577304601669312, 1.3060600757598877, 1.2136709690093994, 0.36514025926589966, 0.39603713154792786, 1.0857042074203491, 0.5824044346809387, 0.2944270968437195, 0.8449884653091431, 0.8625009059906006, 0.9316327571868896, 0.4942737817764282, 0.2601260542869568, 0.2162953019142151, 1.7391990423202515, 0.7984163165092468, 0.37034469842910767, 1.1748254299163818, 1.0984224081039429, 0.9745621681213379, 1.8310439586639404, 1.9857367277145386, 1.3622727394104004, 0.6369127631187439, 0.231924369931221, 0.9708222150802612, 0.8263715505599976, 0.7190200090408325, 0.11753310263156891, 2.2658092975616455, 2.0954880714416504, 0.09306622296571732, 0.5577471852302551, 0.07308085262775421, 0.11241230368614197, 0.9477159976959229, 0.7418502569198608, 0.34507328271865845, 0.10963866114616394, 1.6013405323028564, 0.5266346335411072, 1.0586720705032349, 0.2660074830055237, 1.5384799242019653, 1.3885753154754639, 0.5572843551635742, 0.22191181778907776, 0.7484849095344543, 0.4652637839317322, 0.7688125967979431, 1.2535277605056763, 0.5983614921569824, 0.7431299686431885, 0.3826218843460083, 1.2488782405853271, 0.5316128134727478, 0.5351122617721558, 0.22748257219791412, 0.5982347130775452, 0.43611758947372437, 1.9121543169021606, 0.19961005449295044, 0.3091517686843872, 0.692931592464447, 1.1387255191802979, 1.0096162557601929, 0.8055061101913452, 0.6667302846908569, 0.438818097114563, 0.5884077548980713, 0.44308173656463623, 0.4123533368110657, 0.15980592370033264, 0.8198363780975342, 0.938286542892456, 0.9393360614776611, 0.751372218132019, 1.1568584442138672, 1.1007561683654785, 0.8409565091133118, 0.41402915120124817, 0.7415347099304199, 0.43471723794937134, 0.4956114590167999, 0.2962518334388733, 0.9405883550643921, 0.27608373761177063, 0.4225844740867615, 2.123873233795166, 1.035988450050354, 0.5123336315155029, 0.2347690910100937, 0.7974666357040405, 0.5675278902053833, 0.2212027907371521, 0.9235737323760986, 0.1829414814710617, 1.8788286447525024, 0.29744282364845276, 0.525667667388916, 0.15071529150009155, 1.2016139030456543, 0.22462424635887146, 0.6774164438247681, 0.9765973091125488, 0.5872641205787659, 2.138223171234131, 0.8345102667808533, 2.1519811153411865, 1.0422992706298828, 0.7442395687103271, 0.3223559260368347, 0.9855616092681885, 0.2681182324886322, 0.22335711121559143, 0.8054242134094238, 0.324432373046875, 0.47637316584587097, 0.4912290871143341, 0.4773944020271301, 0.5178357362747192, 0.4141726791858673, 0.6787630319595337, 0.9580330848693848, 0.16558989882469177, 1.028214693069458, 0.7474119067192078]\n",
            "1994\n"
          ]
        }
      ],
      "source": [
        "print(losses)\n",
        "print(len(losses))"
      ],
      "id": "eUp4Hz8O0wnG"
    },
    {
      "cell_type": "code",
      "execution_count": null,
      "metadata": {
        "id": "a7XHa9gR277u"
      },
      "outputs": [],
      "source": [
        "some_losses = losses[::100]"
      ],
      "id": "a7XHa9gR277u"
    },
    {
      "cell_type": "code",
      "execution_count": null,
      "metadata": {
        "colab": {
          "base_uri": "https://localhost:8080/",
          "height": 472
        },
        "id": "UMztY4Im3EcH",
        "outputId": "983835bb-b358-45e3-cbbb-2ef649d2b127"
      },
      "outputs": [
        {
          "data": {
            "image/png": "[encoded data removed]",
            "text/plain": [
              "<Figure size 640x480 with 1 Axes>"
            ]
          },
          "metadata": {},
          "output_type": "display_data"
        }
      ],
      "source": [
        "batches = range(1, len(some_losses) + 1)\n",
        "plt.plot(batches, some_losses, marker='o')\n",
        "plt.xlabel('Batches')\n",
        "plt.ylabel('Losses')\n",
        "plt.title('Losses Plot')\n",
        "plt.grid(True)\n",
        "plt.show()"
      ],
      "id": "UMztY4Im3EcH"
    },
    {
      "cell_type": "code",
      "execution_count": null,
      "metadata": {
        "colab": {
          "base_uri": "https://localhost:8080/",
          "height": 472
        },
        "id": "AarkZ16v18wy",
        "outputId": "1eaf7d9c-a734-483f-c58b-8598d012da69"
      },
      "outputs": [
        {
          "data": {
            "image/png": "[encoded data removed]",
            "text/plain": [
              "<Figure size 640x480 with 1 Axes>"
            ]
          },
          "metadata": {},
          "output_type": "display_data"
        }
      ],
      "source": [
        "batches = range(1, len(losses) + 1)\n",
        "plt.plot(batches, losses, marker='o')\n",
        "plt.xlabel('Batches')\n",
        "plt.ylabel('Losses')\n",
        "plt.title('Losses Plot')\n",
        "plt.grid(True)\n",
        "plt.show()"
      ],
      "id": "AarkZ16v18wy"
    },
    {
      "cell_type": "code",
      "execution_count": null,
      "metadata": {
        "colab": {
          "base_uri": "https://localhost:8080/",
          "height": 472
        },
        "id": "cVZeF_uN3iGH",
        "outputId": "5339d575-0dc0-4a14-9666-fb9f079e2876"
      },
      "outputs": [
        {
          "data": {
            "image/png": "[encoded data removed]",
            "text/plain": [
              "<Figure size 640x480 with 1 Axes>"
            ]
          },
          "metadata": {},
          "output_type": "display_data"
        }
      ],
      "source": [
        "batches = range(1, len(losses) + 1)\n",
        "plt.scatter(batches, losses, marker='o')\n",
        "plt.xlabel('Batches')\n",
        "plt.ylabel('Losses')\n",
        "plt.title('Losses Plot')\n",
        "plt.grid(True)\n",
        "plt.show()"
      ],
      "id": "cVZeF_uN3iGH"
    },
    {
      "cell_type": "code",
      "execution_count": null,
      "metadata": {
        "colab": {
          "base_uri": "https://localhost:8080/",
          "height": 671
        },
        "id": "kA0IxfDk7yTe",
        "outputId": "39f37314-c04c-4562-ae97-ca32caf9086e"
      },
      "outputs": [
        {
          "output_type": "stream",
          "name": "stdout",
          "text": [
            "Looking in indexes: https://pypi.org/simple, https://us-python.pkg.dev/colab-wheels/public/simple/\n",
            "Requirement already satisfied: transformers[sentencepiece] in /usr/local/lib/python3.10/dist-packages (4.29.2)\n",
            "Requirement already satisfied: filelock in /usr/local/lib/python3.10/dist-packages (from transformers[sentencepiece]) (3.12.0)\n",
            "Requirement already satisfied: huggingface-hub<1.0,>=0.14.1 in /usr/local/lib/python3.10/dist-packages (from transformers[sentencepiece]) (0.15.1)\n",
            "Requirement already satisfied: numpy>=1.17 in /usr/local/lib/python3.10/dist-packages (from transformers[sentencepiece]) (1.24.3)\n",
            "Requirement already satisfied: packaging>=20.0 in /usr/local/lib/python3.10/dist-packages (from transformers[sentencepiece]) (23.1)\n",
            "Requirement already satisfied: pyyaml>=5.1 in /usr/local/lib/python3.10/dist-packages (from transformers[sentencepiece]) (6.0)\n",
            "Requirement already satisfied: regex!=2019.12.17 in /usr/local/lib/python3.10/dist-packages (from transformers[sentencepiece]) (2022.10.31)\n",
            "Requirement already satisfied: requests in /usr/local/lib/python3.10/dist-packages (from transformers[sentencepiece]) (2.27.1)\n",
            "Requirement already satisfied: tokenizers!=0.11.3,<0.14,>=0.11.1 in /usr/local/lib/python3.10/dist-packages (from transformers[sentencepiece]) (0.13.3)\n",
            "Requirement already satisfied: tqdm>=4.27 in /usr/local/lib/python3.10/dist-packages (from transformers[sentencepiece]) (4.65.0)\n",
            "Requirement already satisfied: sentencepiece!=0.1.92,>=0.1.91 in /usr/local/lib/python3.10/dist-packages (from transformers[sentencepiece]) (0.1.99)\n",
            "Collecting protobuf<=3.20.2 (from transformers[sentencepiece])\n",
            "  Downloading protobuf-3.20.2-cp310-cp310-manylinux_2_12_x86_64.manylinux2010_x86_64.whl (1.1 MB)\n",
            "\u001b[2K     \u001b[90m━━━━━━━━━━━━━━━━━━━━━━━━━━━━━━━━━━━━━━━━\u001b[0m \u001b[32m1.1/1.1 MB\u001b[0m \u001b[31m8.8 MB/s\u001b[0m eta \u001b[36m0:00:00\u001b[0m\n",
            "\u001b[?25hRequirement already satisfied: fsspec in /usr/local/lib/python3.10/dist-packages (from huggingface-hub<1.0,>=0.14.1->transformers[sentencepiece]) (2023.4.0)\n",
            "Requirement already satisfied: typing-extensions>=3.7.4.3 in /usr/local/lib/python3.10/dist-packages (from huggingface-hub<1.0,>=0.14.1->transformers[sentencepiece]) (4.5.0)\n",
            "Requirement already satisfied: urllib3<1.27,>=1.21.1 in /usr/local/lib/python3.10/dist-packages (from requests->transformers[sentencepiece]) (1.26.15)\n",
            "Requirement already satisfied: certifi>=2017.4.17 in /usr/local/lib/python3.10/dist-packages (from requests->transformers[sentencepiece]) (2022.12.7)\n",
            "Requirement already satisfied: charset-normalizer~=2.0.0 in /usr/local/lib/python3.10/dist-packages (from requests->transformers[sentencepiece]) (2.0.12)\n",
            "Requirement already satisfied: idna<4,>=2.5 in /usr/local/lib/python3.10/dist-packages (from requests->transformers[sentencepiece]) (3.4)\n",
            "Installing collected packages: protobuf\n",
            "  Attempting uninstall: protobuf\n",
            "    Found existing installation: protobuf 3.20.3\n",
            "    Uninstalling protobuf-3.20.3:\n",
            "      Successfully uninstalled protobuf-3.20.3\n",
            "\u001b[31mERROR: pip's dependency resolver does not currently take into account all the packages that are installed. This behaviour is the source of the following dependency conflicts.\n",
            "tensorflow 2.12.0 requires numpy<1.24,>=1.22, but you have numpy 1.24.3 which is incompatible.\n",
            "tensorflow 2.12.0 requires protobuf!=4.21.0,!=4.21.1,!=4.21.2,!=4.21.3,!=4.21.4,!=4.21.5,<5.0.0dev,>=3.20.3, but you have protobuf 3.20.2 which is incompatible.\n",
            "tensorflow-metadata 1.13.1 requires protobuf<5,>=3.20.3, but you have protobuf 3.20.2 which is incompatible.\u001b[0m\u001b[31m\n",
            "\u001b[0mSuccessfully installed protobuf-3.20.2\n"
          ]
        },
        {
          "output_type": "display_data",
          "data": {
            "application/vnd.colab-display-data+json": {
              "pip_warning": {
                "packages": [
                  "google"
                ]
              }
            }
          },
          "metadata": {}
        }
      ],
      "source": [
        "!pip install transformers[sentencepiece]"
      ],
      "id": "kA0IxfDk7yTe"
    },
    {
      "cell_type": "code",
      "execution_count": null,
      "metadata": {
        "colab": {
          "base_uri": "https://localhost:8080/",
          "height": 1000,
          "referenced_widgets": [
            "111ba81d7c904d1ca052c977c75a8ccd",
            "367279e585104f8db45b7b6e8e29dcc2",
            "63ee5d9f32d04d2481fd576ff9655c26",
            "eb11c078d258488daaa70d8ca06f9fb3",
            "92a9a7a81b3641feaae2a5f431313a40",
            "5df6703018d642c8befde77e0551c69e",
            "b4c2decdcf284a379e4c8d5b3bd77995",
            "daa6c6feebc247f18918502c9ad9c290",
            "6435847426e448bebddd6123fc1054d6",
            "da4558655ffb46b1ae990c4b013e7604",
            "f6e6b49a5029464997be331c9eb53578",
            "1d7e069cc64c4f13814617ff4a6e175c",
            "6c54a71bc4744b4789a5d27e080fbdd1",
            "cce1e141f6404f7fa951551ae7ef7599",
            "0bed9ea046394db98dd21d6df435aa24",
            "895d25a0ede24aa981e8212000857556",
            "047d40d7ef9d4562b7689737977f6246",
            "d28465a098e9492baa92ce2bc941120e",
            "b32610cfbbbf4628abe09527744af477",
            "d78305979f5a45d6979c3d370aee5782",
            "9df8723a9ed84796b028b867f73b9340",
            "24cfefdb590d44f6a34ecfa13aff0570",
            "a3eb5cdf6dfa4e67baaa88fdf7ccccb2",
            "e90ceb6ed12c45ff8308c08a4c702680",
            "4301e09f9fa14e5faf4aa09fdfc60b7f",
            "80a4b928e57e49d785856183c0b3411d",
            "d52ba3d23c824c0292b0687fb6000af0",
            "04653a1056824191b9f3b0592db567b1",
            "08f48131ad6c4a91a6b4c4abb8987e9a",
            "742cfc12d83745a8960d659290e235a2",
            "2a797fa80a804d1a87e6a948d3d9f098",
            "cf6cd27b9a4e46ee965370d2f130bb8b",
            "e764787ff2f24902a73f6d13c4004658"
          ]
        },
        "id": "FRXe9oDxqiWH",
        "outputId": "a81d5f6d-8d56-4f6f-8b0c-3135c51b56a5"
      },
      "outputs": [
        {
          "output_type": "stream",
          "name": "stderr",
          "text": [
            "Some weights of the model checkpoint at m3hrdadfi/albert-fa-base-v2 were not used when initializing AlbertModel: ['predictions.dense.bias', 'predictions.decoder.bias', 'predictions.LayerNorm.bias', 'predictions.dense.weight', 'sop_classifier.classifier.weight', 'predictions.LayerNorm.weight', 'predictions.decoder.weight', 'sop_classifier.classifier.bias', 'predictions.bias']\n",
            "- This IS expected if you are initializing AlbertModel from the checkpoint of a model trained on another task or with another architecture (e.g. initializing a BertForSequenceClassification model from a BertForPreTraining model).\n",
            "- This IS NOT expected if you are initializing AlbertModel from the checkpoint of a model that you expect to be exactly identical (initializing a BertForSequenceClassification model from a BertForSequenceClassification model).\n"
          ]
        },
        {
          "output_type": "stream",
          "name": "stdout",
          "text": [
            "TOKENIZING SETS\n",
            "\n"
          ]
        },
        {
          "output_type": "stream",
          "name": "stderr",
          "text": [
            "100%|██████████| 64/64 [01:20<00:00,  1.26s/it]\n",
            "100%|██████████| 8/8 [00:08<00:00,  1.10s/it]\n",
            "100%|██████████| 9/9 [00:09<00:00,  1.04s/it]"
          ]
        },
        {
          "output_type": "stream",
          "name": "stdout",
          "text": [
            "train batches num:  4000\n",
            "validaion batches num:  1994\n",
            "test batches num:  2001\n",
            "4000\n"
          ]
        },
        {
          "output_type": "stream",
          "name": "stderr",
          "text": [
            "\n"
          ]
        },
        {
          "output_type": "display_data",
          "data": {
            "text/plain": [
              "  0%|          | 0/4000 [00:00<?, ?it/s]"
            ],
            "application/vnd.jupyter.widget-view+json": {
              "version_major": 2,
              "version_minor": 0,
              "model_id": "111ba81d7c904d1ca052c977c75a8ccd"
            }
          },
          "metadata": {}
        },
        {
          "output_type": "stream",
          "name": "stdout",
          "text": [
            "Epoch [1] Batch [0] - Loss = 6.3337\n",
            "Epoch [1] Batch [100] - Loss = 2.4728\n",
            "Epoch [1] Batch [200] - Loss = 1.9348\n",
            "Epoch [1] Batch [300] - Loss = 1.6782\n",
            "Epoch [1] Batch [400] - Loss = 1.5350\n",
            "Epoch [1] Batch [500] - Loss = 1.4389\n",
            "Epoch [1] Batch [600] - Loss = 1.3681\n",
            "Epoch [1] Batch [700] - Loss = 1.3158\n",
            "Epoch [1] Batch [800] - Loss = 1.2748\n",
            "Epoch [1] Batch [900] - Loss = 1.2406\n",
            "Epoch [1] Batch [1000] - Loss = 1.2107\n",
            "Epoch [1] Batch [1100] - Loss = 1.1852\n",
            "Epoch [1] Batch [1200] - Loss = 1.1663\n",
            "Epoch [1] Batch [1300] - Loss = 1.1459\n",
            "Epoch [1] Batch [1400] - Loss = 1.1245\n",
            "Epoch [1] Batch [1500] - Loss = 1.1042\n",
            "Epoch [1] Batch [1600] - Loss = 1.0881\n",
            "Epoch [1] Batch [1700] - Loss = 1.0724\n",
            "Epoch [1] Batch [1800] - Loss = 1.0574\n",
            "Epoch [1] Batch [1900] - Loss = 1.0462\n",
            "Epoch [1] Batch [2000] - Loss = 1.0324\n",
            "Epoch [1] Batch [2100] - Loss = 1.0202\n",
            "Epoch [1] Batch [2200] - Loss = 1.0108\n",
            "Epoch [1] Batch [2300] - Loss = 1.0020\n",
            "Epoch [1] Batch [2400] - Loss = 0.9926\n",
            "Epoch [1] Batch [2500] - Loss = 0.9849\n",
            "Epoch [1] Batch [2600] - Loss = 0.9761\n",
            "Epoch [1] Batch [2700] - Loss = 0.9696\n",
            "Epoch [1] Batch [2800] - Loss = 0.9626\n",
            "Epoch [1] Batch [2900] - Loss = 0.9571\n",
            "Epoch [1] Batch [3000] - Loss = 0.9524\n",
            "Epoch [1] Batch [3100] - Loss = 0.9472\n",
            "Epoch [1] Batch [3200] - Loss = 0.9411\n",
            "Epoch [1] Batch [3300] - Loss = 0.9365\n",
            "Epoch [1] Batch [3400] - Loss = 0.9305\n",
            "Epoch [1] Batch [3500] - Loss = 0.9246\n",
            "Epoch [1] Batch [3600] - Loss = 0.9201\n",
            "Epoch [1] Batch [3700] - Loss = 0.9160\n",
            "Epoch [1] Batch [3800] - Loss = 0.9116\n",
            "Epoch [1] Batch [3900] - Loss = 0.9071\n"
          ]
        },
        {
          "output_type": "display_data",
          "data": {
            "text/plain": [
              "Downloading builder script:   0%|          | 0.00/2.25k [00:00<?, ?B/s]"
            ],
            "application/vnd.jupyter.widget-view+json": {
              "version_major": 2,
              "version_minor": 0,
              "model_id": "1d7e069cc64c4f13814617ff4a6e175c"
            }
          },
          "metadata": {}
        },
        {
          "output_type": "display_data",
          "data": {
            "text/plain": [
              "Downloading extra modules:   0%|          | 0.00/3.19k [00:00<?, ?B/s]"
            ],
            "application/vnd.jupyter.widget-view+json": {
              "version_major": 2,
              "version_minor": 0,
              "model_id": "a3eb5cdf6dfa4e67baaa88fdf7ccccb2"
            }
          },
          "metadata": {}
        },
        {
          "output_type": "stream",
          "name": "stdout",
          "text": [
            "Train Loss: 0.9030\n",
            "Validation Loss: 0.8356 - Exact Match: 69.458 - F1_score: 83.103 \n",
            "\n"
          ]
        }
      ],
      "source": [
        "epocks = 1\n",
        "learning_rate = 5e-5\n",
        "train_bs = 16\n",
        "test_val_bs = 4\n",
        "max_length = 512\n",
        "sch_gamma = 0.1\n",
        "weight_decay=0.1\n",
        "sch_step = 1\n",
        "max_answer_length = 20\n",
        "\n",
        "cem = \"m3hrdadfi/albert-fa-base-v2\"\n",
        "device = torch.device(\"cuda\" if torch.cuda.is_available() else \"cpu\")\n",
        "model = getModel(cem)\n",
        "\n",
        "tokenizer  =  AutoTokenizer.from_pretrained(cem )\n",
        "train_dataloader , val_dataloader , val_set , test_dataloader , test_set  = getDataLoaders( tokenizer , max_length )\n",
        "\n",
        "print('train batches num: ',len(train_dataloader))\n",
        "print('validaion batches num: ',len(val_dataloader))\n",
        "print('test batches num: ',len(test_dataloader)  )\n",
        "\n",
        "optimizer  = AdamW(model.parameters(), lr=5e-5,weight_decay=weight_decay) \n",
        "scheduler = torch.optim.lr_scheduler.StepLR(optimizer, step_size = sch_step, gamma = sch_gamma)\n",
        "criterion = loss_function\n",
        "\n",
        "best_accuracy = 0\n",
        "loss_list , metric_list =[],[]\n",
        "losses = []\n",
        "\n",
        "for epock in range(epocks):\n",
        "\n",
        "    train_loss = train( model , train_dataloader , optimizer , criterion , epock )\n",
        "    val_loss , exact_match , f1_score, losses = evaluate( model , val_dataloader , criterion , val_set , tokenizer )\n",
        "    scheduler.step()\n",
        "    \n",
        "    loss_list.append([train_loss , val_loss])\n",
        "    metric_list.append([exact_match , f1_score])\n",
        "\n",
        "    print(f'Train Loss: {train_loss:.4f}')\n",
        "    print(f'Validation Loss: {val_loss:.4f} - Exact Match: {exact_match:.3f} - F1_score: {f1_score:.3f}', '\\n')"
      ],
      "id": "FRXe9oDxqiWH"
    },
    {
      "cell_type": "code",
      "execution_count": null,
      "metadata": {
        "id": "6Q3RWu1y-Peu",
        "colab": {
          "base_uri": "https://localhost:8080/"
        },
        "outputId": "336b645b-3be2-4a2c-d852-2d20e2bcf9e8"
      },
      "outputs": [
        {
          "output_type": "stream",
          "name": "stdout",
          "text": [
            "[[0.9029691249467432, 0.8356281093589367]]\n"
          ]
        }
      ],
      "source": [
        "print(loss_list)"
      ],
      "id": "6Q3RWu1y-Peu"
    },
    {
      "cell_type": "code",
      "execution_count": null,
      "metadata": {
        "id": "fyo2vYqk-OaS",
        "colab": {
          "base_uri": "https://localhost:8080/"
        },
        "outputId": "db8076b9-3476-4c33-a11b-e45606c41816"
      },
      "outputs": [
        {
          "output_type": "stream",
          "name": "stdout",
          "text": [
            "Train loss =  0.9029691249467432\n",
            "Validation loss =  0.8356281093589367\n",
            "Exact Match score =  69.45837512537612\n",
            "F1 score =  83.10285133774518\n"
          ]
        }
      ],
      "source": [
        "import matplotlib.pyplot as plt\n",
        "\n",
        "train_losses = [item[0] for item in loss_list]\n",
        "val_losses = [item[1] for item in loss_list]\n",
        "exact_match_scores = [item[0] for item in metric_list]\n",
        "f1_scores = [item[1] for item in metric_list]\n",
        "\n",
        "print('Train loss = ', train_losses[0])\n",
        "print('Validation loss = ', val_losses[0])\n",
        "print(\"Exact Match score = \", exact_match_scores[0])\n",
        "print('F1 score = ', f1_score)"
      ],
      "id": "fyo2vYqk-OaS"
    },
    {
      "cell_type": "code",
      "execution_count": null,
      "metadata": {
        "id": "QdxXhHxG-fIH",
        "colab": {
          "base_uri": "https://localhost:8080/"
        },
        "outputId": "53c24a39-184f-4c10-ac0f-29cc51d499e8"
      },
      "outputs": [
        {
          "output_type": "stream",
          "name": "stdout",
          "text": [
            "Train Loss: 0.9030\n",
            "Validation Loss: 0.8356 - Exact Match: 69.458 - F1_score: 83.103 \n",
            "\n"
          ]
        }
      ],
      "source": [
        "val_loss , exact_match , f1_score, losses = evaluate( model , val_dataloader , criterion , val_set , tokenizer )\n",
        "scheduler.step()\n",
        "\n",
        "loss_list.append([train_loss , val_loss])\n",
        "metric_list.append([exact_match , f1_score])\n",
        "\n",
        "print(f'Train Loss: {train_loss:.4f}')\n",
        "print(f'Validation Loss: {val_loss:.4f} - Exact Match: {exact_match:.3f} - F1_score: {f1_score:.3f}', '\\n')"
      ],
      "id": "QdxXhHxG-fIH"
    },
    {
      "cell_type": "code",
      "execution_count": null,
      "metadata": {
        "id": "-s2omUi8-WJE",
        "colab": {
          "base_uri": "https://localhost:8080/"
        },
        "outputId": "dde4cf8a-555f-41e2-87e5-978b150b773b"
      },
      "outputs": [
        {
          "output_type": "stream",
          "name": "stdout",
          "text": [
            "[0.7116424441337585, 1.0200138092041016, 0.8046568632125854, 0.34314513206481934, 1.9301888942718506, 0.08626769483089447, 1.8332585096359253, 0.9897695779800415, 1.331455945968628, 0.7007160186767578, 0.9251720905303955, 0.3906165063381195, 1.2329331636428833, 0.20899036526679993, 0.3149751126766205, 1.1371145248413086, 0.9177895784378052, 0.3910723030567169, 0.6563191413879395, 1.2089062929153442, 0.8428142070770264, 1.4779845476150513, 1.433534026145935, 0.8977805972099304, 0.6870713829994202, 0.600368857383728, 0.37432509660720825, 1.079483151435852, 1.3731478452682495, 1.5225945711135864, 0.8767184019088745, 0.27050769329071045, 0.184853196144104, 0.4969116151332855, 0.7128704190254211, 1.9483205080032349, 2.00199031829834, 0.24756702780723572, 0.20074060559272766, 0.9500386714935303, 1.3035457134246826, 0.34371310472488403, 1.749469518661499, 0.33030563592910767, 0.9653369188308716, 1.2989060878753662, 1.4739658832550049, 1.7315120697021484, 1.751258134841919, 0.4935382008552551, 1.2688415050506592, 0.40101465582847595, 0.5024476647377014, 0.21033181250095367, 1.6473815441131592, 0.5738102793693542, 1.345702052116394, 0.36220353841781616, 0.3556397259235382, 2.065685272216797, 1.8555988073349, 1.0064451694488525, 0.3123937249183655, 1.179076910018921, 0.38189107179641724, 0.5298120975494385, 1.109998345375061, 0.5002147555351257, 1.5809047222137451, 0.24796617031097412, 1.4688947200775146, 0.19026091694831848, 1.6155085563659668, 0.6167566180229187, 0.7694247961044312, 0.6637533903121948, 0.20156481862068176, 0.78574538230896, 0.14553233981132507, 0.480231374502182, 0.4376027584075928, 0.21600177884101868, 1.0586965084075928, 0.004825887735933065, 3.2652578353881836, 1.7223091125488281, 1.746742844581604, 0.05761730670928955, 0.16873228549957275, 0.7471351027488708, 0.32353052496910095, 0.19898679852485657, 2.085461378097534, 0.7665932178497314, 2.812091827392578, 1.3608472347259521, 0.577248752117157, 0.3663233816623688, 0.09482765942811966, 1.4833358526229858, 0.4180539548397064, 1.4139704704284668, 1.4986411333084106, 0.7574983239173889, 0.30923813581466675, 0.566991925239563, 0.12078100442886353, 1.2258055210113525, 0.12097587436437607, 1.7093849182128906, 0.46532881259918213, 1.8723924160003662, 0.7906886339187622, 0.42017531394958496, 1.4295589923858643, 0.16087017953395844, 1.4741394519805908, 0.20638805627822876, 0.39677977561950684, 0.9406790733337402, 0.5691648721694946, 0.25115829706192017, 0.8440408110618591, 0.25234588980674744, 0.14108215272426605, 0.3692243695259094, 0.7967145442962646, 1.1148006916046143, 1.025485634803772, 1.2145681381225586, 0.5026009678840637, 1.227269172668457, 2.076348304748535, 1.8204835653305054, 0.5731136798858643, 1.415366291999817, 0.18275582790374756, 0.431736022233963, 0.1838817596435547, 1.0943284034729004, 0.5403636693954468, 0.1716964840888977, 0.4141504764556885, 1.1890337467193604, 1.0515371561050415, 1.040560245513916, 0.799095630645752, 0.16143712401390076, 0.15211856365203857, 1.3352333307266235, 0.8044521808624268, 1.7586262226104736, 0.7058779001235962, 1.6914279460906982, 0.42620599269866943, 1.3702874183654785, 0.7204887270927429, 0.4026889204978943, 1.1260428428649902, 0.6032103300094604, 0.8186841011047363, 0.45632436871528625, 1.9879515171051025, 0.6734364032745361, 0.5879107713699341, 0.6170244812965393, 1.2753803730010986, 0.17978355288505554, 1.241148591041565, 0.08047527819871902, 0.31872451305389404, 0.3587474524974823, 0.19710753858089447, 0.7954249978065491, 0.1626538634300232, 0.4273332953453064, 0.061529770493507385, 0.2575192451477051, 0.48738884925842285, 0.5367706418037415, 0.8096952438354492, 0.5852794647216797, 0.7373325228691101, 0.7838255167007446, 1.5580922365188599, 1.2972667217254639, 0.09848183393478394, 1.4484034776687622, 0.4287409484386444, 1.5153276920318604, 0.23881785571575165, 0.593399703502655, 1.951253056526184, 0.3868881165981293, 0.8769488334655762, 0.949324369430542, 0.8312047123908997, 0.3830009698867798, 0.24033929407596588, 0.2167542576789856, 0.8524695634841919, 2.99798583984375, 0.3361406922340393, 0.4356655478477478, 1.2625478506088257, 1.1959524154663086, 1.1196941137313843, 1.3079637289047241, 0.8823167085647583, 0.8185320496559143, 0.905731201171875, 1.0441248416900635, 0.8120875954627991, 1.7987196445465088, 0.9960753321647644, 1.8256456851959229, 1.420475721359253, 1.8365778923034668, 1.7301549911499023, 0.3530650734901428, 0.8605722188949585, 0.688143253326416, 2.230410099029541, 0.31882813572883606, 2.6508026123046875, 1.6399505138397217, 0.4801734685897827, 0.6351926326751709, 0.2781238853931427, 0.05476535111665726, 2.3106637001037598, 1.0588440895080566, 0.8074297308921814, 0.4065079689025879, 0.3136535882949829, 1.4884002208709717, 0.8444478511810303, 0.16795186698436737, 0.5774580240249634, 0.5674660801887512, 2.585207223892212, 0.2508583068847656, 0.4106248617172241, 1.3792903423309326, 3.0986952781677246, 0.1551024615764618, 0.8397897481918335, 1.4342296123504639, 2.7364983558654785, 0.31588929891586304, 0.9501882791519165, 0.3546825647354126, 1.2091708183288574, 0.6284452080726624, 0.37665876746177673, 1.2443698644638062, 0.15780553221702576, 0.2092093825340271, 1.2539136409759521, 0.7368173599243164, 0.5429368019104004, 0.3455929756164551, 0.32635289430618286, 1.3230547904968262, 0.40787768363952637, 1.518307089805603, 0.5458571910858154, 1.7568846940994263, 1.0831513404846191, 0.8505561947822571, 0.25615739822387695, 1.7403757572174072, 0.22251276671886444, 0.33385658264160156, 0.22057151794433594, 0.940174400806427, 0.7922953367233276, 0.43745172023773193, 0.3771090507507324, 0.624566912651062, 0.43655940890312195, 2.777026653289795, 0.7748958468437195, 0.6478612422943115, 0.08047622442245483, 0.8683540225028992, 1.4765477180480957, 1.1227500438690186, 1.0482690334320068, 1.6398788690567017, 0.30585357546806335, 0.232058584690094, 0.3292059004306793, 0.23273947834968567, 0.6272392272949219, 0.409978449344635, 0.9462910890579224, 0.8237864375114441, 0.9821358919143677, 0.3813348412513733, 1.1205655336380005, 1.9097521305084229, 1.073115587234497, 0.512887716293335, 0.33530792593955994, 0.19570225477218628, 1.6805520057678223, 0.14259275794029236, 0.889247477054596, 2.2892708778381348, 0.5530639886856079, 0.2014453113079071, 0.36874696612358093, 1.7971160411834717, 0.371465802192688, 0.5364799499511719, 1.2926585674285889, 1.2749922275543213, 0.5683016777038574, 1.3688791990280151, 0.45149701833724976, 1.8452012538909912, 0.9033681154251099, 0.2567254602909088, 0.7927570343017578, 1.0926883220672607, 0.9962474703788757, 0.4316515624523163, 1.1870577335357666, 0.455450177192688, 3.232504367828369, 0.893863320350647, 0.5150026082992554, 1.1631137132644653, 0.9042420387268066, 0.4950656294822693, 2.279064178466797, 0.36090436577796936, 0.6364378929138184, 0.5061272978782654, 0.33854198455810547, 0.2934056222438812, 0.6760250926017761, 0.2858763337135315, 0.1382075697183609, 1.046292781829834, 0.18385037779808044, 0.08583569526672363, 0.29715725779533386, 0.9759461283683777, 1.0745599269866943, 0.9597240686416626, 1.3229947090148926, 0.678959846496582, 0.36655256152153015, 0.932763934135437, 0.09491890668869019, 0.7662375569343567, 0.25796279311180115, 0.15128372609615326, 1.1581298112869263, 1.4935617446899414, 0.5406381487846375, 0.18248334527015686, 0.2558821141719818, 0.336880624294281, 0.15974470973014832, 0.5072633028030396, 0.08860664069652557, 2.175321340560913, 1.3929095268249512, 0.28826451301574707, 0.8732437491416931, 0.6622540950775146, 1.727732539176941, 0.6670932769775391, 1.5306422710418701, 0.519828200340271, 0.3479911684989929, 1.0618747472763062, 0.6514265537261963, 0.36050641536712646, 0.41002678871154785, 0.625927209854126, 0.6870893239974976, 1.2782680988311768, 0.5514110326766968, 0.4892506003379822, 0.755757749080658, 1.2201128005981445, 2.1519203186035156, 1.0616357326507568, 0.46192434430122375, 0.5448810458183289, 0.34568414092063904, 0.3699360489845276, 1.3993301391601562, 1.0655336380004883, 0.5527043342590332, 0.06746555864810944, 1.2498204708099365, 0.10486330091953278, 0.1449335515499115, 0.3173576593399048, 0.661780059337616, 2.0091795921325684, 0.5618268251419067, 2.142456531524658, 0.2995747923851013, 0.31991294026374817, 0.5198862552642822, 1.459736943244934, 0.44279149174690247, 1.2064220905303955, 0.8071021437644958, 0.44918227195739746, 1.2660396099090576, 1.0450648069381714, 0.5386064052581787, 1.6343461275100708, 2.0159811973571777, 1.6561237573623657, 0.7289777398109436, 0.4423147439956665, 0.2528126835823059, 1.352280616760254, 0.3183612823486328, 1.4395408630371094, 0.5428103804588318, 0.40692201256752014, 0.6796079874038696, 0.6879874467849731, 0.42376577854156494, 1.4279615879058838, 0.4616882801055908, 0.49449053406715393, 0.9586180448532104, 0.14537325501441956, 0.31420260667800903, 1.044373631477356, 0.9078009128570557, 1.481595754623413, 0.356882780790329, 1.1241240501403809, 0.3329947590827942, 0.10089898109436035, 2.8001842498779297, 0.6957499980926514, 0.3253583312034607, 0.3626190423965454, 0.47797107696533203, 0.34537601470947266, 1.4252610206604004, 0.8933628797531128, 1.1053564548492432, 0.5797138214111328, 0.7578474283218384, 1.243249773979187, 0.4904175102710724, 0.7818812131881714, 0.7330716848373413, 0.5599549412727356, 0.8072284460067749, 1.3215582370758057, 0.6706576943397522, 0.6510897874832153, 0.9034221172332764, 1.9769881963729858, 0.3930805027484894, 0.38933709263801575, 0.21196740865707397, 1.357445240020752, 0.38231998682022095, 0.6150457262992859, 1.1130115985870361, 0.94497150182724, 1.3072141408920288, 0.458964467048645, 0.9257316589355469, 0.4552232027053833, 0.17589110136032104, 0.5591274499893188, 0.8027198314666748, 0.8985403776168823, 0.24720463156700134, 1.6287803649902344, 2.4622950553894043, 0.5174528360366821, 0.9394221305847168, 0.19685274362564087, 3.264131784439087, 0.22821080684661865, 0.4494495093822479, 0.29744523763656616, 0.5159320831298828, 0.25536835193634033, 0.09024751931428909, 0.4686639606952667, 0.18694262206554413, 0.4027462303638458, 1.1818689107894897, 0.8575507998466492, 0.8775681853294373, 0.1828538179397583, 0.5840097665786743, 0.327178418636322, 0.669543981552124, 0.01800299808382988, 0.39615708589553833, 0.5396764874458313, 0.235345259308815, 1.0482301712036133, 0.7902033925056458, 0.8766549825668335, 1.6874160766601562, 3.0177106857299805, 0.12314149737358093, 2.742125988006592, 0.44346657395362854, 1.1327183246612549, 0.47690513730049133, 1.0743247270584106, 0.8760554790496826, 0.27867621183395386, 1.5502917766571045, 1.2251237630844116, 0.24025481939315796, 0.8081226348876953, 1.2235876321792603, 2.1271681785583496, 0.5988281965255737, 1.5019646883010864, 0.5379137992858887, 0.71428382396698, 0.6214665174484253, 0.5432159900665283, 0.09146316349506378, 1.2322514057159424, 0.7636536955833435, 0.7517044544219971, 0.8698234558105469, 0.2562568187713623, 1.3725950717926025, 0.13224351406097412, 1.0919643640518188, 0.888596773147583, 0.3501065969467163, 1.0706582069396973, 1.4327139854431152, 0.5939216613769531, 0.33741703629493713, 0.200407937169075, 0.2826087176799774, 0.16931314766407013, 0.5710434913635254, 0.3825637698173523, 0.46695592999458313, 0.35470420122146606, 1.9711685180664062, 0.38374269008636475, 0.9031090140342712, 0.6638506650924683, 0.31623977422714233, 0.608318030834198, 0.5712755918502808, 0.6098765134811401, 0.27787700295448303, 0.9671257734298706, 0.28381070494651794, 1.5508699417114258, 0.26974010467529297, 1.58259916305542, 0.19092637300491333, 1.4387835264205933, 1.0930861234664917, 0.3735594153404236, 0.5075182318687439, 0.030404619872570038, 0.18102017045021057, 0.33762961626052856, 0.33632025122642517, 0.5300747752189636, 0.33053475618362427, 0.30302321910858154, 1.6676435470581055, 0.1355016827583313, 0.10153558850288391, 1.1196997165679932, 0.561885416507721, 0.40588951110839844, 0.9556610584259033, 0.1929241120815277, 0.30033156275749207, 0.2529379427433014, 0.08016005158424377, 1.2233086824417114, 1.194196343421936, 1.4023654460906982, 0.10694074630737305, 0.3610706031322479, 0.6570409536361694, 0.2154967486858368, 1.9037673473358154, 0.49366772174835205, 0.8390381336212158, 0.2574259638786316, 0.13839897513389587, 0.8547416925430298, 1.188371181488037, 1.4417669773101807, 0.8931316137313843, 0.5468497276306152, 0.21069790422916412, 1.3793175220489502, 0.1365787535905838, 0.9339452981948853, 2.3013997077941895, 0.2475460171699524, 0.10298162698745728, 1.7653539180755615, 1.4052945375442505, 1.3676971197128296, 0.49404066801071167, 1.8380978107452393, 0.9612600803375244, 0.4080221951007843, 0.3303549289703369, 0.7574971914291382, 1.39499831199646, 0.51153963804245, 0.2726527154445648, 0.13664287328720093, 1.4069610834121704, 2.027641773223877, 0.9613047242164612, 0.9053292274475098, 0.4130547046661377, 0.8507860898971558, 0.4741021990776062, 2.7838518619537354, 0.7723103761672974, 0.522390604019165, 0.8867233991622925, 0.7655329704284668, 0.4349093735218048, 0.5025057196617126, 0.5075188279151917, 0.2481573522090912, 0.5231649875640869, 0.10274361073970795, 1.687288522720337, 0.7952988147735596, 1.2022143602371216, 1.3095519542694092, 0.7346867322921753, 0.984376072883606, 1.1434364318847656, 1.5891419649124146, 0.6337453722953796, 0.629372239112854, 1.071390151977539, 0.143659308552742, 1.6738810539245605, 1.5039006471633911, 0.2540164291858673, 1.2930080890655518, 1.066941261291504, 0.2680177688598633, 0.941619336605072, 0.37668663263320923, 0.21893899142742157, 0.050505779683589935, 1.822385549545288, 1.4161934852600098, 1.2583954334259033, 1.266787052154541, 0.1841597557067871, 0.7108892202377319, 0.05976851284503937, 0.9621360301971436, 2.3812525272369385, 0.7275023460388184, 0.6986939907073975, 0.07209254801273346, 0.542026698589325, 0.4362729787826538, 1.6768312454223633, 0.5810197591781616, 2.3557639122009277, 0.8707080483436584, 1.4284346103668213, 0.8166700601577759, 0.8587106466293335, 0.9096474051475525, 0.48876476287841797, 0.49814802408218384, 1.329556941986084, 0.6297637820243835, 0.38722074031829834, 1.6824374198913574, 0.5126663446426392, 1.558394432067871, 0.10586628317832947, 1.002558946609497, 1.1217421293258667, 0.5084380507469177, 0.9191029071807861, 1.7790873050689697, 0.5913761258125305, 0.3335472643375397, 0.9190046787261963, 1.7059462070465088, 0.4192313551902771, 1.5421473979949951, 2.0490760803222656, 1.5274696350097656, 0.09687604010105133, 0.1754707545042038, 0.41449645161628723, 0.5590444207191467, 1.1085416078567505, 0.1399412602186203, 0.6246883869171143, 2.3397367000579834, 1.3579314947128296, 0.12108694016933441, 0.15811368823051453, 0.6363717317581177, 0.7115225791931152, 2.054264545440674, 0.07589703053236008, 0.3844609260559082, 1.1156177520751953, 0.6492677927017212, 0.22651563584804535, 0.6877229809761047, 0.2858074903488159, 0.25815296173095703, 0.26466140151023865, 2.755807399749756, 0.5013315677642822, 0.36017709970474243, 2.531613349914551, 0.35609960556030273, 0.33151775598526, 1.5263227224349976, 0.6113214492797852, 0.6336610317230225, 0.9983906149864197, 0.8140659332275391, 0.4652964174747467, 1.0210731029510498, 0.6137740612030029, 0.6293867826461792, 1.5933916568756104, 1.187169075012207, 0.293312668800354, 0.5832259654998779, 1.1649949550628662, 0.6955736875534058, 0.7883666753768921, 1.287324070930481, 1.048167109489441, 0.5006961822509766, 0.10899700224399567, 0.04237530380487442, 2.3389952182769775, 1.234001874923706, 0.5465219020843506, 2.0376594066619873, 0.747428834438324, 1.9719513654708862, 0.49614155292510986, 1.0924348831176758, 0.6950041651725769, 0.6155692338943481, 1.8722541332244873, 0.2555369436740875, 0.6102384328842163, 0.22561390697956085, 0.14289161562919617, 1.0860768556594849, 2.027616024017334, 0.025007210671901703, 0.17137642204761505, 0.27072638273239136, 0.5774613618850708, 0.4740273356437683, 0.7748653888702393, 0.3648051619529724, 0.2068285048007965, 0.20784668624401093, 0.8077535629272461, 0.5504286289215088, 0.23603704571723938, 0.26931479573249817, 2.3847384452819824, 1.7930428981781006, 0.2523594796657562, 0.8922526836395264, 0.9943253993988037, 0.4950455129146576, 1.2352213859558105, 0.31204769015312195, 0.5619357228279114, 0.46674591302871704, 0.5216248631477356, 1.1309685707092285, 0.8576416969299316, 1.0000927448272705, 0.4158675968647003, 0.6332643032073975, 0.6621835827827454, 1.1995294094085693, 0.40594857931137085, 0.37017467617988586, 0.21468223631381989, 0.6271870732307434, 0.23044998943805695, 0.5330567359924316, 2.569121837615967, 0.8552055358886719, 1.4590914249420166, 0.8646398782730103, 0.6353801488876343, 0.9777404069900513, 1.7707345485687256, 0.07926829159259796, 0.2546592354774475, 1.853956699371338, 0.22877918183803558, 0.3153377175331116, 1.978108525276184, 0.5443403720855713, 0.6338161826133728, 0.846077561378479, 1.6318857669830322, 0.21523436903953552, 0.24168680608272552, 1.089240312576294, 0.7671809196472168, 0.9398900270462036, 0.5521100759506226, 1.3280446529388428, 0.07642523944377899, 0.04411491006612778, 0.8511136174201965, 0.22412823140621185, 1.3219304084777832, 0.4727681279182434, 0.7318887710571289, 0.4776434898376465, 0.5202866196632385, 1.8566985130310059, 1.317395806312561, 1.1793569326400757, 0.5643933415412903, 0.6584727764129639, 1.160933494567871, 2.0089759826660156, 0.32670867443084717, 0.7132935523986816, 0.788252592086792, 1.1555898189544678, 0.23313134908676147, 0.7018574476242065, 0.6630187034606934, 0.4100492000579834, 0.8516825437545776, 0.5396522283554077, 1.681025743484497, 0.11325600743293762, 0.30913203954696655, 0.6625615954399109, 1.0529139041900635, 0.21050478518009186, 0.14980821311473846, 0.6645308136940002, 2.1632936000823975, 0.7139235138893127, 0.724585235118866, 0.7168302536010742, 0.3297327160835266, 2.1132426261901855, 0.23453295230865479, 1.5174763202667236, 0.8169643878936768, 0.9244730472564697, 0.03809627518057823, 2.1184167861938477, 0.38314127922058105, 1.1208980083465576, 1.9217420816421509, 1.5202833414077759, 2.0790843963623047, 0.532270073890686, 0.9306341409683228, 0.24882520735263824, 2.2893729209899902, 0.2670891582965851, 1.2144749164581299, 0.2563398480415344, 2.4201371669769287, 1.0098987817764282, 1.1413710117340088, 1.8162939548492432, 0.7489428520202637, 0.7833927869796753, 0.4910678565502167, 1.6452877521514893, 2.2598586082458496, 0.9985525608062744, 0.645182728767395, 0.9933862686157227, 0.46867749094963074, 1.4524563550949097, 0.13425490260124207, 1.5372250080108643, 0.27120980620384216, 0.27750489115715027, 0.7177081108093262, 1.9469943046569824, 0.1608835756778717, 0.518783688545227, 0.8572306632995605, 1.3179450035095215, 1.1148316860198975, 1.3478269577026367, 3.225895881652832, 1.0641993284225464, 0.47859442234039307, 0.3932114541530609, 0.20431050658226013, 0.1443764865398407, 0.90867680311203, 1.2336695194244385, 0.14034877717494965, 0.23070253431797028, 0.9498082399368286, 1.089787244796753, 0.7188982367515564, 0.39279645681381226, 0.8709381818771362, 1.229603886604309, 0.3158584535121918, 0.6897339820861816, 0.6000887155532837, 0.37797874212265015, 1.0451740026474, 0.5147523283958435, 1.40913724899292, 0.03407418727874756, 1.0909723043441772, 0.3076988458633423, 0.5049984455108643, 0.2259787619113922, 0.42407307028770447, 1.1671591997146606, 1.2284612655639648, 0.5154383182525635, 0.25527775287628174, 0.45683592557907104, 0.7016885280609131, 0.6176050901412964, 0.5118812322616577, 1.419606328010559, 1.6593787670135498, 0.4302813708782196, 0.4961121380329132, 1.1739120483398438, 0.6896989345550537, 1.2040942907333374, 0.28005272150039673, 2.2252187728881836, 0.9751637578010559, 0.6015611886978149, 0.8057350516319275, 0.15864990651607513, 0.23826640844345093, 0.4736698865890503, 0.5082966089248657, 1.5215095281600952, 0.4396596848964691, 0.5546891689300537, 1.4031784534454346, 0.2911193370819092, 0.6032345294952393, 1.590052843093872, 1.053607702255249, 0.6046834588050842, 1.419823408126831, 0.3924252390861511, 1.1941168308258057, 1.0728349685668945, 1.4293160438537598, 0.17188622057437897, 1.1843230724334717, 0.7976614236831665, 0.7715952396392822, 0.5089259743690491, 0.23968347907066345, 0.49182891845703125, 0.4318121075630188, 2.1465818881988525, 0.352934867143631, 0.830593466758728, 0.6702927947044373, 1.5215082168579102, 0.7763087153434753, 0.21806451678276062, 0.1824808120727539, 0.6355258226394653, 1.0452364683151245, 1.0773757696151733, 0.17357221245765686, 2.8475828170776367, 0.5128111839294434, 1.7796051502227783, 0.9840576648712158, 0.05382172018289566, 0.969367265701294, 1.6253929138183594, 0.19935747981071472, 0.40192121267318726, 0.33348190784454346, 0.7865324020385742, 0.9340106248855591, 2.1206021308898926, 1.1164844036102295, 0.3622337877750397, 0.7510035037994385, 1.2939059734344482, 1.9367703199386597, 0.2590917944908142, 0.11803159862756729, 0.29122671484947205, 1.1188991069793701, 1.148620367050171, 0.08412610739469528, 0.6846133470535278, 0.681420624256134, 0.2755577862262726, 1.0268279314041138, 0.8209415674209595, 2.700087547302246, 1.918792724609375, 0.06581220030784607, 2.6160411834716797, 1.790820837020874, 0.14526060223579407, 0.3079153597354889, 1.7735666036605835, 1.3207318782806396, 1.839172601699829, 1.1359460353851318, 1.735485553741455, 1.1395491361618042, 0.2943848967552185, 0.2757260501384735, 0.6522557139396667, 0.560213565826416, 0.47282570600509644, 1.617384672164917, 1.851660966873169, 1.2854905128479004, 0.7091532349586487, 1.1256835460662842, 0.4363296329975128, 1.742321491241455, 0.4863939881324768, 0.5941028594970703, 2.403201103210449, 0.3393961787223816, 0.2361501008272171, 0.650556743144989, 0.37128549814224243, 0.3197747766971588, 0.48539841175079346, 0.1959724724292755, 2.902005910873413, 0.6826773881912231, 0.4801218509674072, 1.0175681114196777, 0.47770822048187256, 0.46508723497390747, 0.12133727967739105, 0.18438023328781128, 1.7076547145843506, 0.4902059733867645, 0.4229426383972168, 0.31874069571495056, 0.5650173425674438, 0.3851754665374756, 0.7720417976379395, 0.9844672679901123, 0.8681676387786865, 1.9912636280059814, 0.5776832103729248, 0.46256282925605774, 1.0740973949432373, 0.9857995510101318, 1.3914282321929932, 4.011026382446289, 1.2069026231765747, 1.2594199180603027, 0.04718073457479477, 0.1499115377664566, 0.3503442406654358, 1.5244176387786865, 0.5181472301483154, 1.4531447887420654, 0.4712379574775696, 1.0504032373428345, 0.2127716839313507, 0.946669340133667, 0.5385574102401733, 1.8751107454299927, 1.6913390159606934, 2.039273977279663, 1.5257530212402344, 0.67038893699646, 0.21876627206802368, 0.24102848768234253, 0.3600861430168152, 0.9029578566551208, 1.2733124494552612, 0.5157402753829956, 0.8757689595222473, 0.375460684299469, 0.608963131904602, 0.4187011122703552, 0.5395950078964233, 0.16322802007198334, 0.4329844117164612, 0.6178663969039917, 0.45334675908088684, 0.544363260269165, 0.4812498986721039, 1.102785348892212, 0.5465161204338074, 0.5221453905105591, 0.5190371870994568, 0.5815855860710144, 0.515465497970581, 0.7728091478347778, 0.6308575868606567, 0.4661024212837219, 2.9528238773345947, 0.5211427211761475, 1.1058650016784668, 0.09573324024677277, 0.07134417444467545, 0.506914496421814, 0.13315869867801666, 1.0502679347991943, 0.771960437297821, 0.620465099811554, 1.3846397399902344, 0.26594287157058716, 0.31178152561187744, 0.5498414039611816, 0.8809894323348999, 0.29397228360176086, 1.2307677268981934, 1.133697748184204, 0.9032238125801086, 0.6769514083862305, 2.112185478210449, 0.15097151696681976, 0.7764803767204285, 1.330918312072754, 1.2882590293884277, 0.631890058517456, 1.0690796375274658, 0.4911465644836426, 2.0084309577941895, 0.3484739661216736, 1.3572264909744263, 0.6615990400314331, 0.6358680129051208, 0.7735887169837952, 2.4110867977142334, 0.8933511972427368, 0.21128210425376892, 0.6273939609527588, 2.228666305541992, 0.6114290952682495, 1.7593004703521729, 0.1982833445072174, 0.4903053045272827, 0.4843950867652893, 1.7900302410125732, 1.5714664459228516, 1.529550552368164, 0.8585178852081299, 0.8122758865356445, 0.45112043619155884, 2.3917856216430664, 1.3706912994384766, 0.37232711911201477, 0.2090410590171814, 0.6240556240081787, 1.7766934633255005, 1.418195366859436, 0.22307130694389343, 0.41162657737731934, 2.749258518218994, 1.1784906387329102, 0.5912346839904785, 0.2572129964828491, 0.9403390884399414, 0.8656436204910278, 0.2120462954044342, 1.1527976989746094, 1.3917088508605957, 2.180210590362549, 0.17529389262199402, 0.8228849172592163, 0.9340144395828247, 0.6587669849395752, 2.919374942779541, 0.29617196321487427, 0.6787427663803101, 0.2639711797237396, 0.8516530394554138, 0.24799932539463043, 0.6559184193611145, 0.13859765231609344, 1.448967695236206, 0.46741893887519836, 0.4643647074699402, 0.3850610554218292, 0.29983675479888916, 0.2941589057445526, 0.1697016805410385, 0.7941921949386597, 2.305299758911133, 0.6684979200363159, 0.6686190366744995, 1.504640817642212, 1.197005033493042, 0.2817155718803406, 1.510441541671753, 2.1058738231658936, 0.5183918476104736, 0.0383048951625824, 1.658074975013733, 1.8520606756210327, 0.6877295970916748, 0.7789278626441956, 1.1879525184631348, 0.7188583612442017, 0.775458037853241, 0.6783034205436707, 0.30338889360427856, 0.42323917150497437, 1.09732985496521, 0.8964776992797852, 2.4957528114318848, 0.1990835964679718, 0.23407280445098877, 0.2621021270751953, 0.8301639556884766, 0.809199333190918, 0.314375638961792, 0.5944243669509888, 0.5758811831474304, 0.6590267419815063, 1.141391396522522, 0.4078277349472046, 0.7819619178771973, 1.6969363689422607, 0.097903311252594, 1.2777373790740967, 0.2972617745399475, 1.3905830383300781, 1.039583444595337, 0.500412106513977, 0.6855408549308777, 1.0177994966506958, 0.5005977153778076, 1.2449049949645996, 1.5063207149505615, 0.3986014425754547, 1.2602064609527588, 1.5551536083221436, 0.19640479981899261, 0.2960725724697113, 0.8489577770233154, 0.7080075740814209, 1.1848061084747314, 0.08821773529052734, 0.4975515902042389, 0.6223415732383728, 1.1067545413970947, 1.5200642347335815, 0.08346335589885712, 2.1536364555358887, 0.060879603028297424, 0.501629650592804, 0.5242789387702942, 2.1470861434936523, 0.34923478960990906, 0.4596408009529114, 0.3853951394557953, 0.4733932614326477, 1.2998926639556885, 0.35793739557266235, 0.6311765313148499, 1.051080346107483, 1.0613374710083008, 1.7019991874694824, 1.2840099334716797, 0.35183602571487427, 0.24345216155052185, 0.3413298726081848, 0.08136479556560516, 0.1466284543275833, 0.6274662017822266, 0.5597869753837585, 1.6705535650253296, 0.7370622158050537, 0.4464901387691498, 0.7111377716064453, 0.5613917112350464, 0.3733852505683899, 0.37391597032546997, 0.1216631755232811, 1.817573070526123, 1.1242215633392334, 0.9000275135040283, 0.6624042987823486, 0.46604788303375244, 0.44603630900382996, 1.2132093906402588, 0.8617683053016663, 1.6516262292861938, 0.7070183157920837, 2.035508394241333, 1.898958683013916, 0.463858962059021, 0.6573762893676758, 1.214058518409729, 1.4096858501434326, 0.5339136719703674, 0.4445915222167969, 0.9806879162788391, 0.459064781665802, 0.21116191148757935, 0.5533349514007568, 1.6681950092315674, 0.08806248009204865, 0.037194669246673584, 0.3335028290748596, 1.6016125679016113, 2.005810499191284, 0.1538708657026291, 1.2224177122116089, 0.03841797262430191, 0.35079875588417053, 0.21217355132102966, 0.4097360372543335, 1.9052051305770874, 0.9248261451721191, 1.0259559154510498, 0.8748600482940674, 1.3135745525360107, 0.32930299639701843, 0.9021501541137695, 1.1430513858795166, 0.31053411960601807, 0.5690925717353821, 0.2673625946044922, 0.9829434752464294, 0.22891037166118622, 0.49652397632598877, 0.641063392162323, 2.2083187103271484, 1.798465371131897, 0.24081459641456604, 0.5324556827545166, 1.0722988843917847, 1.6404178142547607, 0.9110062122344971, 0.2620503604412079, 3.5827865600585938, 0.7200767993927002, 0.4635308086872101, 1.1119470596313477, 1.756426215171814, 0.13057437539100647, 2.806309223175049, 0.14921921491622925, 0.21776419878005981, 0.4280153512954712, 0.1674337387084961, 1.251814365386963, 0.2238941490650177, 1.8134225606918335, 0.4233442544937134, 2.1143665313720703, 0.7501946687698364, 0.14609792828559875, 0.3907323479652405, 0.5052698850631714, 0.9732656478881836, 0.7467902898788452, 0.45780351758003235, 0.34426820278167725, 1.0736417770385742, 0.6223297715187073, 1.3420623540878296, 0.215837299823761, 0.7499563694000244, 1.5251601934432983, 1.3191453218460083, 0.24656838178634644, 0.6086941957473755, 1.9024810791015625, 0.11515483260154724, 0.2412242889404297, 0.2610699236392975, 0.8304762244224548, 0.5665608048439026, 0.40250325202941895, 0.9127009510993958, 0.8644103407859802, 0.3037378489971161, 1.2404941320419312, 0.7684641480445862, 1.1900770664215088, 2.0847320556640625, 0.696929931640625, 1.0663316249847412, 2.798089027404785, 0.5205273628234863, 1.6095619201660156, 0.07487386465072632, 1.6985549926757812, 0.3892243206501007, 1.4150230884552002, 1.2983726263046265, 1.2272368669509888, 0.41199302673339844, 0.2529786229133606, 0.6205781102180481, 0.41521644592285156, 0.5768648982048035, 0.05104623734951019, 0.5064512491226196, 0.04235641285777092, 0.6843454241752625, 1.1201097965240479, 1.709795355796814, 1.0320284366607666, 0.25840187072753906, 0.5445593595504761, 0.3763115406036377, 0.5559574365615845, 0.18547222018241882, 0.4380384385585785, 0.3815361261367798, 0.1542433798313141, 0.7472426891326904, 0.03549569845199585, 0.2754954695701599, 0.09878822416067123, 0.2115405797958374, 0.14889764785766602, 0.9355214238166809, 0.7100372314453125, 0.11433027684688568, 0.8274701833724976, 1.380080223083496, 0.4353201389312744, 1.544829249382019, 0.9975305795669556, 0.47330543398857117, 0.32163211703300476, 1.155037522315979, 1.4957427978515625, 0.6380383968353271, 0.5844065546989441, 0.2696704566478729, 0.4054403305053711, 1.4297914505004883, 0.23675650358200073, 0.380093514919281, 0.27379459142684937, 1.7259202003479004, 2.8035521507263184, 0.4511162340641022, 1.2786285877227783, 0.07514685392379761, 0.5628092885017395, 0.709226131439209, 1.3845815658569336, 0.6792188286781311, 0.06484281271696091, 1.1551873683929443, 0.7165066599845886, 0.18530115485191345, 0.11189606785774231, 0.33960235118865967, 0.668907105922699, 0.26097479462623596, 0.1415136158466339, 0.531654953956604, 2.4153554439544678, 0.5414117574691772, 0.9701961874961853, 0.2366042584180832, 0.46640270948410034, 1.0981361865997314, 0.5444265604019165, 2.126842498779297, 0.6888926029205322, 0.16304415464401245, 0.4291786551475525, 1.004192590713501, 0.6086033582687378, 0.501177191734314, 1.524482250213623, 1.3140177726745605, 1.2725846767425537, 0.9421695470809937, 0.1775883287191391, 0.6124549508094788, 0.8609647750854492, 1.2767589092254639, 1.164656639099121, 0.7230983376502991, 0.30887240171432495, 0.630293607711792, 0.7886133790016174, 1.0348855257034302, 1.4116997718811035, 0.3405478894710541, 0.2719917893409729, 1.0071454048156738, 0.8531816601753235, 0.3006155490875244, 1.9151637554168701, 0.8951787948608398, 0.624175488948822, 1.176098346710205, 0.36409991979599, 0.46866825222969055, 0.20126979053020477, 0.2255692481994629, 1.3014024496078491, 0.674665629863739, 1.1841092109680176, 0.5559189319610596, 0.39473897218704224, 0.6624228954315186, 0.32266730070114136, 0.6838630437850952, 1.0117853879928589, 1.1021196842193604, 1.461022138595581, 0.3942563235759735, 0.1834811568260193, 0.3171589970588684, 1.0395231246948242, 0.6351745128631592, 0.4978031516075134, 1.062685489654541, 0.25529348850250244, 1.113895058631897, 1.7118439674377441, 0.7183520793914795, 1.0535709857940674, 0.24561141431331635, 0.7785415649414062, 0.5765839219093323, 0.8571573495864868, 0.9246479272842407, 1.0430670976638794, 0.37162646651268005, 1.4613888263702393, 0.162270650267601, 1.2483484745025635, 0.22103002667427063, 0.24333161115646362, 0.637893557548523, 1.574460744857788, 0.3665933907032013, 1.2967662811279297, 0.7210350036621094, 0.8175029754638672, 0.0733552798628807, 0.5499352216720581, 2.356443405151367, 0.9586963653564453, 0.37514299154281616, 0.9746412634849548, 1.0198938846588135, 0.5406711101531982, 1.5281959772109985, 1.8298782110214233, 0.4177197813987732, 0.9723440408706665, 2.1384365558624268, 0.34547704458236694, 0.8944035172462463, 0.4566367268562317, 0.1449749767780304, 0.16928382217884064, 0.10587349534034729, 1.687117338180542, 0.7993892431259155, 0.22255179286003113, 1.4422519207000732, 0.05170030891895294, 0.9667210578918457, 0.3785786032676697, 1.035762071609497, 2.487138271331787, 1.5501148700714111, 0.6370812654495239, 1.2551767826080322, 0.9582669734954834, 0.6743344068527222, 0.9837089776992798, 1.6824897527694702, 0.8637696504592896, 0.8593098521232605, 2.2834391593933105, 0.2194061577320099, 0.6109855771064758, 0.5975105166435242, 0.6901744604110718, 1.1478066444396973, 0.2898402810096741, 0.4978066086769104, 0.3039427697658539, 1.0748599767684937, 1.4124668836593628, 1.3577334880828857, 1.0526182651519775, 0.3639720678329468, 0.671555757522583, 1.5952436923980713, 0.31061387062072754, 0.79193115234375, 0.3215251564979553, 0.12043344974517822, 1.5145649909973145, 1.3881986141204834, 0.7674239277839661, 0.5090235471725464, 0.03615226596593857, 1.8902409076690674, 0.9960325360298157, 0.18085169792175293, 1.8871983289718628, 0.12588204443454742, 0.36314210295677185, 0.6953516006469727, 1.344401240348816, 1.9370726346969604, 1.3178255558013916, 0.34985604882240295, 1.257013201713562, 2.442490577697754, 0.5368950963020325, 0.34427085518836975, 0.040318459272384644, 0.6007879376411438, 0.6790865659713745, 1.162996768951416, 0.3126392960548401, 0.7268636226654053, 2.22182559967041, 0.3665248155593872, 0.46168988943099976, 0.7912769317626953, 0.4348456859588623, 0.5017480850219727, 1.160556435585022, 1.157321572303772, 0.6281909942626953, 1.0664465427398682, 1.8617208003997803, 1.6239349842071533, 0.7741794586181641, 0.6688372492790222, 0.2553649842739105, 0.6125490069389343, 0.8358232975006104, 0.5360552072525024, 0.2771736681461334, 1.7212519645690918, 2.209927558898926, 0.1477598249912262, 1.0421745777130127, 0.7495291829109192, 1.1483910083770752, 0.8241059184074402, 1.1527185440063477, 1.2412424087524414, 0.3779338002204895, 1.9276689291000366, 1.6889128684997559, 0.7886826992034912, 0.2629091441631317, 1.1763451099395752, 1.840512990951538, 0.21524140238761902, 1.2219135761260986, 0.6484774947166443, 0.4459730386734009, 0.44233328104019165, 0.0540558360517025, 0.8101329207420349, 0.18429654836654663, 0.6931062936782837, 0.9146321415901184, 1.3699889183044434, 0.2271668016910553, 1.2905827760696411, 0.4337088465690613, 1.655007243156433, 0.5739697217941284, 0.6415174603462219, 0.8592666387557983, 0.7754911780357361, 0.9822701215744019, 1.0178091526031494, 1.3626532554626465, 0.08060435205698013, 0.5014263391494751, 1.1811110973358154, 0.5363985896110535, 0.05718112736940384, 0.8330389261245728, 0.6400789022445679, 0.2903589606285095, 1.4805094003677368, 1.1032180786132812, 0.29371073842048645, 0.2981584668159485, 0.3184378445148468, 0.3896556496620178, 0.2873229682445526, 0.7852600812911987, 0.4353562891483307, 0.2456928789615631, 1.0035159587860107, 1.6230154037475586, 0.19220472872257233, 2.4478092193603516, 0.29556554555892944, 1.5596213340759277, 0.2721773684024811, 0.3502386510372162, 0.9224919080734253, 0.6882274746894836, 3.6332666873931885, 0.041630081832408905, 1.2849640846252441, 0.11658131331205368, 0.47845929861068726, 1.6238734722137451, 0.09577982872724533, 1.65922212600708, 0.7298749089241028, 2.516235113143921, 0.09086204320192337, 0.8175845146179199, 2.6975672245025635, 0.8416183590888977, 2.383181571960449, 0.9606614112854004, 0.846210777759552, 0.5478795170783997, 0.29481157660484314, 0.8889578580856323, 2.472883939743042, 0.4047785997390747, 2.622140407562256, 0.8531328439712524, 1.8216204643249512, 1.1204432249069214, 0.6117520332336426, 0.22868584096431732, 0.1947031170129776, 2.0685553550720215, 0.09988995641469955, 1.300682544708252, 0.21160247921943665, 0.10418485105037689, 1.2392429113388062, 0.3330727517604828, 1.2024734020233154, 2.6241607666015625, 2.3959171772003174, 0.8265947103500366, 0.5584026575088501, 1.7440974712371826, 0.8060361742973328, 1.4845175743103027, 1.2485703229904175, 1.201677680015564, 1.1488549709320068, 0.9535509347915649, 0.5239322185516357, 0.3570445775985718, 0.33323168754577637, 0.532359778881073, 0.117111936211586, 0.05357102304697037, 0.34599030017852783, 0.15038913488388062, 0.35162997245788574, 0.19849011301994324, 1.1507296562194824, 0.10383827984333038, 1.6367294788360596, 0.316163033246994, 0.04643581807613373, 0.49884456396102905, 1.4863293170928955, 0.4670513868331909, 1.0093361139297485, 0.9724225997924805, 0.9101438522338867, 2.181643009185791, 0.3331676721572876, 1.405967354774475, 0.40890878438949585, 0.8120318651199341, 0.5284974575042725, 1.0156033039093018, 0.47811272740364075, 0.25579458475112915, 1.8933409452438354, 0.25753718614578247, 1.8015080690383911, 0.5215767621994019, 0.6294265985488892, 1.235813856124878, 0.300428569316864, 1.09720778465271, 0.8955644369125366, 1.018678903579712, 0.010710105299949646, 0.30465027689933777, 0.056921690702438354, 1.1113747358322144, 0.529043436050415, 0.04413175582885742, 0.36893224716186523, 0.9403383135795593, 0.8304744958877563, 0.6390380859375, 0.4775727391242981, 0.3357059359550476, 0.37390440702438354, 0.2978476881980896, 0.46287405490875244, 0.35765957832336426, 0.24681273102760315, 0.7662645578384399, 0.5882529020309448, 1.116506814956665, 0.19043731689453125, 1.1256834268569946, 2.0391054153442383, 0.7642403841018677, 1.0835902690887451, 1.3039557933807373, 0.33602064847946167, 2.0594992637634277, 0.1947409212589264, 0.1675926148891449, 1.3695204257965088, 0.743579626083374, 0.6425869464874268, 1.6200153827667236, 1.7212368249893188, 1.5393767356872559, 0.5587531328201294, 1.7241302728652954, 0.585546612739563, 1.2707250118255615, 0.9476269483566284, 1.1275476217269897, 1.3410899639129639, 0.6639115810394287, 0.6202430725097656, 0.08625906705856323, 1.8358571529388428, 1.1082184314727783, 0.5944268703460693, 0.46959638595581055, 0.0879221260547638, 0.1656041443347931, 0.19833144545555115, 0.32361912727355957, 1.6351155042648315, 0.3552227318286896, 0.4040437340736389, 1.592578649520874, 0.34720420837402344, 0.5433169603347778, 0.5084229111671448, 0.3922768831253052, 0.17996296286582947, 1.6374399662017822, 0.21917599439620972, 0.9533858299255371, 1.0376654863357544, 0.4384564459323883, 1.403734564781189, 1.3491456508636475, 0.525248110294342, 0.7115737199783325, 1.616487979888916, 3.031148910522461, 2.422281265258789, 0.2906283140182495, 0.12098506093025208, 0.10334442555904388, 0.4347902238368988, 0.5179100036621094, 0.5485600829124451, 0.3239051103591919, 0.3131128251552582, 0.7376944422721863, 0.48312488198280334, 0.6430956721305847, 1.9854235649108887, 0.11334256082773209, 0.7060827016830444, 0.13632577657699585, 0.5100573301315308, 0.4179007411003113, 1.520876169204712, 1.0301544666290283, 0.6640681624412537, 0.8260614275932312, 0.28438591957092285, 2.3359017372131348, 0.44611093401908875, 0.452637255191803, 0.8525128960609436, 1.0956825017929077, 1.5689167976379395, 0.5490984320640564, 0.7965970039367676, 1.4389994144439697, 0.5454556941986084, 0.6787551641464233, 0.19448493421077728, 0.6697916984558105, 0.5209661722183228, 0.43870440125465393, 0.3533942699432373, 1.0021588802337646, 0.5135007500648499, 0.3142455816268921, 0.8318699598312378, 0.715886116027832, 1.1417940855026245, 0.5938946008682251, 0.2958754301071167, 1.5940494537353516, 0.4033515155315399, 0.9999197721481323, 1.6490370035171509, 0.5051589012145996, 0.5260903835296631, 1.2152636051177979, 0.37811607122421265, 0.9113770723342896, 0.18676365911960602, 1.4553396701812744, 0.5919678211212158, 0.3981736898422241, 0.6702763438224792, 0.5913524627685547, 0.10308359563350677, 0.6267237663269043, 0.02829248085618019, 1.6755023002624512, 0.6994199156761169, 0.7692090272903442, 0.9801485538482666, 2.5823771953582764, 0.23825272917747498, 0.9338564872741699, 1.5048420429229736]\n",
            "1994\n"
          ]
        }
      ],
      "source": [
        "print(losses)\n",
        "print(len(losses))"
      ],
      "id": "-s2omUi8-WJE"
    },
    {
      "cell_type": "code",
      "execution_count": null,
      "metadata": {
        "id": "ft4WsFpy-V_y"
      },
      "outputs": [],
      "source": [
        "some_losses = losses[::100]"
      ],
      "id": "ft4WsFpy-V_y"
    },
    {
      "cell_type": "code",
      "execution_count": null,
      "metadata": {
        "id": "iM5Lh8Hq-VzW",
        "colab": {
          "base_uri": "https://localhost:8080/",
          "height": 472
        },
        "outputId": "efd1a87e-abfa-4997-cd18-f03d8fd5f316"
      },
      "outputs": [
        {
          "output_type": "display_data",
          "data": {
            "text/plain": [
              "<Figure size 640x480 with 1 Axes>"
            ],
            "image/png": "[encoded data removed]"
          },
          "metadata": {}
        }
      ],
      "source": [
        "batches = range(1, len(some_losses) + 1)\n",
        "plt.plot(batches, some_losses, marker='o')\n",
        "plt.xlabel('Batches')\n",
        "plt.ylabel('Losses')\n",
        "plt.title('Losses Plot')\n",
        "plt.grid(True)\n",
        "plt.show()"
      ],
      "id": "iM5Lh8Hq-VzW"
    },
    {
      "cell_type": "code",
      "execution_count": null,
      "metadata": {
        "id": "hPoVts9b-ryU",
        "colab": {
          "base_uri": "https://localhost:8080/",
          "height": 472
        },
        "outputId": "bb371323-383d-4b16-f429-0484e8d05e09"
      },
      "outputs": [
        {
          "output_type": "display_data",
          "data": {
            "text/plain": [
              "<Figure size 640x480 with 1 Axes>"
            ],
            "image/png": "[encoded data removed]"
          },
          "metadata": {}
        }
      ],
      "source": [
        "batches = range(1, len(losses) + 1)\n",
        "plt.plot(batches, losses, marker='o')\n",
        "plt.xlabel('Batches')\n",
        "plt.ylabel('Losses')\n",
        "plt.title('Losses Plot')\n",
        "plt.grid(True)\n",
        "plt.show()"
      ],
      "id": "hPoVts9b-ryU"
    },
    {
      "cell_type": "code",
      "execution_count": null,
      "metadata": {
        "id": "j8QVWTSp-rvN",
        "colab": {
          "base_uri": "https://localhost:8080/",
          "height": 472
        },
        "outputId": "98f649fa-1648-4a95-f351-9917174cc40d"
      },
      "outputs": [
        {
          "output_type": "display_data",
          "data": {
            "text/plain": [
              "<Figure size 640x480 with 1 Axes>"
            ],
            "image/png": "[encoded data removed]"
          },
          "metadata": {}
        }
      ],
      "source": [
        "batches = range(1, len(losses) + 1)\n",
        "plt.scatter(batches, losses, marker='o')\n",
        "plt.xlabel('Batches')\n",
        "plt.ylabel('Losses')\n",
        "plt.title('Losses Plot')\n",
        "plt.grid(True)\n",
        "plt.show()"
      ],
      "id": "j8QVWTSp-rvN"
    },
    {
      "cell_type": "code",
      "execution_count": null,
      "metadata": {
        "id": "dx1g-FUt-rs5"
      },
      "outputs": [],
      "source": [],
      "id": "dx1g-FUt-rs5"
    },
    {
      "cell_type": "code",
      "execution_count": null,
      "metadata": {
        "id": "qiD-_JFk-rqH"
      },
      "outputs": [],
      "source": [],
      "id": "qiD-_JFk-rqH"
    }
  ],
  "metadata": {
    "accelerator": "GPU",
    "colab": {
      "provenance": [],
      "gpuType": "T4"
    },
    "kernelspec": {
      "display_name": "Python 3",
      "name": "python3"
    },
    "language_info": {
      "codemirror_mode": {
        "name": "ipython",
        "version": 3
      },
      "file_extension": ".py",
      "mimetype": "text/x-python",
      "name": "python",
      "nbconvert_exporter": "python",
      "pygments_lexer": "ipython3",
      "version": "3.11.0"
    },
    "widgets": {
      "application/vnd.jupyter.widget-state+json": {
        "0075278e3a5e4bb8aeaf3e178f963db9": {
          "model_module": "@jupyter-widgets/controls",
          "model_module_version": "1.5.0",
          "model_name": "FloatProgressModel",
          "state": {
            "_dom_classes": [],
            "_model_module": "@jupyter-widgets/controls",
            "_model_module_version": "1.5.0",
            "_model_name": "FloatProgressModel",
            "_view_count": null,
            "_view_module": "@jupyter-widgets/controls",
            "_view_module_version": "1.5.0",
            "_view_name": "ProgressView",
            "bar_style": "success",
            "description": "",
            "description_tooltip": null,
            "layout": "IPY_MODEL_9060a6c203fe4f61b88af8623c87029a",
            "max": 2253,
            "min": 0,
            "orientation": "horizontal",
            "style": "IPY_MODEL_6d9f28b8bd714c318bada61d8f414491",
            "value": 2253
          }
        },
        "07569e5917e14add86d16bc64bfaf6bb": {
          "model_module": "@jupyter-widgets/base",
          "model_module_version": "1.2.0",
          "model_name": "LayoutModel",
          "state": {
            "_model_module": "@jupyter-widgets/base",
            "_model_module_version": "1.2.0",
            "_model_name": "LayoutModel",
            "_view_count": null,
            "_view_module": "@jupyter-widgets/base",
            "_view_module_version": "1.2.0",
            "_view_name": "LayoutView",
            "align_content": null,
            "align_items": null,
            "align_self": null,
            "border": null,
            "bottom": null,
            "display": null,
            "flex": null,
            "flex_flow": null,
            "grid_area": null,
            "grid_auto_columns": null,
            "grid_auto_flow": null,
            "grid_auto_rows": null,
            "grid_column": null,
            "grid_gap": null,
            "grid_row": null,
            "grid_template_areas": null,
            "grid_template_columns": null,
            "grid_template_rows": null,
            "height": null,
            "justify_content": null,
            "justify_items": null,
            "left": null,
            "margin": null,
            "max_height": null,
            "max_width": null,
            "min_height": null,
            "min_width": null,
            "object_fit": null,
            "object_position": null,
            "order": null,
            "overflow": null,
            "overflow_x": null,
            "overflow_y": null,
            "padding": null,
            "right": null,
            "top": null,
            "visibility": null,
            "width": null
          }
        },
        "16cd0c4feab0420db6c380739d0626ff": {
          "model_module": "@jupyter-widgets/base",
          "model_module_version": "1.2.0",
          "model_name": "LayoutModel",
          "state": {
            "_model_module": "@jupyter-widgets/base",
            "_model_module_version": "1.2.0",
            "_model_name": "LayoutModel",
            "_view_count": null,
            "_view_module": "@jupyter-widgets/base",
            "_view_module_version": "1.2.0",
            "_view_name": "LayoutView",
            "align_content": null,
            "align_items": null,
            "align_self": null,
            "border": null,
            "bottom": null,
            "display": null,
            "flex": null,
            "flex_flow": null,
            "grid_area": null,
            "grid_auto_columns": null,
            "grid_auto_flow": null,
            "grid_auto_rows": null,
            "grid_column": null,
            "grid_gap": null,
            "grid_row": null,
            "grid_template_areas": null,
            "grid_template_columns": null,
            "grid_template_rows": null,
            "height": null,
            "justify_content": null,
            "justify_items": null,
            "left": null,
            "margin": null,
            "max_height": null,
            "max_width": null,
            "min_height": null,
            "min_width": null,
            "object_fit": null,
            "object_position": null,
            "order": null,
            "overflow": null,
            "overflow_x": null,
            "overflow_y": null,
            "padding": null,
            "right": null,
            "top": null,
            "visibility": null,
            "width": null
          }
        },
        "18b1178f852e4c11a7c5f1fd2f671830": {
          "model_module": "@jupyter-widgets/controls",
          "model_module_version": "1.5.0",
          "model_name": "HBoxModel",
          "state": {
            "_dom_classes": [],
            "_model_module": "@jupyter-widgets/controls",
            "_model_module_version": "1.5.0",
            "_model_name": "HBoxModel",
            "_view_count": null,
            "_view_module": "@jupyter-widgets/controls",
            "_view_module_version": "1.5.0",
            "_view_name": "HBoxView",
            "box_style": "",
            "children": [
              "IPY_MODEL_d370783faa2a4cf49ea7becc3bc77686",
              "IPY_MODEL_f48e017c58a040f0b28f8deb86107924",
              "IPY_MODEL_a2fe4a088c4a42a79a7c510de8efed45"
            ],
            "layout": "IPY_MODEL_7bb0347972b2453e81f65787a04c53c7"
          }
        },
        "2aefe6e3f46c452bab54b10198438e09": {
          "model_module": "@jupyter-widgets/controls",
          "model_module_version": "1.5.0",
          "model_name": "ProgressStyleModel",
          "state": {
            "_model_module": "@jupyter-widgets/controls",
            "_model_module_version": "1.5.0",
            "_model_name": "ProgressStyleModel",
            "_view_count": null,
            "_view_module": "@jupyter-widgets/base",
            "_view_module_version": "1.2.0",
            "_view_name": "StyleView",
            "bar_color": null,
            "description_width": ""
          }
        },
        "2e412483688f404aa94851ccbe8aeb1e": {
          "model_module": "@jupyter-widgets/controls",
          "model_module_version": "1.5.0",
          "model_name": "HBoxModel",
          "state": {
            "_dom_classes": [],
            "_model_module": "@jupyter-widgets/controls",
            "_model_module_version": "1.5.0",
            "_model_name": "HBoxModel",
            "_view_count": null,
            "_view_module": "@jupyter-widgets/controls",
            "_view_module_version": "1.5.0",
            "_view_name": "HBoxView",
            "box_style": "",
            "children": [
              "IPY_MODEL_379c86a1dcdd4b0ea86d11aec7639d32",
              "IPY_MODEL_747dff0a985047cf88662c2ab266d591",
              "IPY_MODEL_f662920e636847cc88a6b04c9c52fbe6"
            ],
            "layout": "IPY_MODEL_481aaf6fb7ce4217a31add7b767b1810"
          }
        },
        "379c86a1dcdd4b0ea86d11aec7639d32": {
          "model_module": "@jupyter-widgets/controls",
          "model_module_version": "1.5.0",
          "model_name": "HTMLModel",
          "state": {
            "_dom_classes": [],
            "_model_module": "@jupyter-widgets/controls",
            "_model_module_version": "1.5.0",
            "_model_name": "HTMLModel",
            "_view_count": null,
            "_view_module": "@jupyter-widgets/controls",
            "_view_module_version": "1.5.0",
            "_view_name": "HTMLView",
            "description": "",
            "description_tooltip": null,
            "layout": "IPY_MODEL_d8da299d56044592bc7e377bd101b4f7",
            "placeholder": "​",
            "style": "IPY_MODEL_8c7bbc6ee14145989c3cbf528a9c5eb9",
            "value": "Downloading extra modules: "
          }
        },
        "42003e317c3e42b28aadad780950ef87": {
          "model_module": "@jupyter-widgets/controls",
          "model_module_version": "1.5.0",
          "model_name": "ProgressStyleModel",
          "state": {
            "_model_module": "@jupyter-widgets/controls",
            "_model_module_version": "1.5.0",
            "_model_name": "ProgressStyleModel",
            "_view_count": null,
            "_view_module": "@jupyter-widgets/base",
            "_view_module_version": "1.2.0",
            "_view_name": "StyleView",
            "bar_color": null,
            "description_width": ""
          }
        },
        "481aaf6fb7ce4217a31add7b767b1810": {
          "model_module": "@jupyter-widgets/base",
          "model_module_version": "1.2.0",
          "model_name": "LayoutModel",
          "state": {
            "_model_module": "@jupyter-widgets/base",
            "_model_module_version": "1.2.0",
            "_model_name": "LayoutModel",
            "_view_count": null,
            "_view_module": "@jupyter-widgets/base",
            "_view_module_version": "1.2.0",
            "_view_name": "LayoutView",
            "align_content": null,
            "align_items": null,
            "align_self": null,
            "border": null,
            "bottom": null,
            "display": null,
            "flex": null,
            "flex_flow": null,
            "grid_area": null,
            "grid_auto_columns": null,
            "grid_auto_flow": null,
            "grid_auto_rows": null,
            "grid_column": null,
            "grid_gap": null,
            "grid_row": null,
            "grid_template_areas": null,
            "grid_template_columns": null,
            "grid_template_rows": null,
            "height": null,
            "justify_content": null,
            "justify_items": null,
            "left": null,
            "margin": null,
            "max_height": null,
            "max_width": null,
            "min_height": null,
            "min_width": null,
            "object_fit": null,
            "object_position": null,
            "order": null,
            "overflow": null,
            "overflow_x": null,
            "overflow_y": null,
            "padding": null,
            "right": null,
            "top": null,
            "visibility": null,
            "width": null
          }
        },
        "4d750b919b4e49679c8e15b92084daa4": {
          "model_module": "@jupyter-widgets/base",
          "model_module_version": "1.2.0",
          "model_name": "LayoutModel",
          "state": {
            "_model_module": "@jupyter-widgets/base",
            "_model_module_version": "1.2.0",
            "_model_name": "LayoutModel",
            "_view_count": null,
            "_view_module": "@jupyter-widgets/base",
            "_view_module_version": "1.2.0",
            "_view_name": "LayoutView",
            "align_content": null,
            "align_items": null,
            "align_self": null,
            "border": null,
            "bottom": null,
            "display": null,
            "flex": null,
            "flex_flow": null,
            "grid_area": null,
            "grid_auto_columns": null,
            "grid_auto_flow": null,
            "grid_auto_rows": null,
            "grid_column": null,
            "grid_gap": null,
            "grid_row": null,
            "grid_template_areas": null,
            "grid_template_columns": null,
            "grid_template_rows": null,
            "height": null,
            "justify_content": null,
            "justify_items": null,
            "left": null,
            "margin": null,
            "max_height": null,
            "max_width": null,
            "min_height": null,
            "min_width": null,
            "object_fit": null,
            "object_position": null,
            "order": null,
            "overflow": null,
            "overflow_x": null,
            "overflow_y": null,
            "padding": null,
            "right": null,
            "top": null,
            "visibility": null,
            "width": null
          }
        },
        "591114ae260140218b2640fae78e1fd0": {
          "model_module": "@jupyter-widgets/base",
          "model_module_version": "1.2.0",
          "model_name": "LayoutModel",
          "state": {
            "_model_module": "@jupyter-widgets/base",
            "_model_module_version": "1.2.0",
            "_model_name": "LayoutModel",
            "_view_count": null,
            "_view_module": "@jupyter-widgets/base",
            "_view_module_version": "1.2.0",
            "_view_name": "LayoutView",
            "align_content": null,
            "align_items": null,
            "align_self": null,
            "border": null,
            "bottom": null,
            "display": null,
            "flex": null,
            "flex_flow": null,
            "grid_area": null,
            "grid_auto_columns": null,
            "grid_auto_flow": null,
            "grid_auto_rows": null,
            "grid_column": null,
            "grid_gap": null,
            "grid_row": null,
            "grid_template_areas": null,
            "grid_template_columns": null,
            "grid_template_rows": null,
            "height": null,
            "justify_content": null,
            "justify_items": null,
            "left": null,
            "margin": null,
            "max_height": null,
            "max_width": null,
            "min_height": null,
            "min_width": null,
            "object_fit": null,
            "object_position": null,
            "order": null,
            "overflow": null,
            "overflow_x": null,
            "overflow_y": null,
            "padding": null,
            "right": null,
            "top": null,
            "visibility": null,
            "width": null
          }
        },
        "5fa11eea3f1e42cf8977455aced60c9e": {
          "model_module": "@jupyter-widgets/controls",
          "model_module_version": "1.5.0",
          "model_name": "DescriptionStyleModel",
          "state": {
            "_model_module": "@jupyter-widgets/controls",
            "_model_module_version": "1.5.0",
            "_model_name": "DescriptionStyleModel",
            "_view_count": null,
            "_view_module": "@jupyter-widgets/base",
            "_view_module_version": "1.2.0",
            "_view_name": "StyleView",
            "description_width": ""
          }
        },
        "6d9f28b8bd714c318bada61d8f414491": {
          "model_module": "@jupyter-widgets/controls",
          "model_module_version": "1.5.0",
          "model_name": "ProgressStyleModel",
          "state": {
            "_model_module": "@jupyter-widgets/controls",
            "_model_module_version": "1.5.0",
            "_model_name": "ProgressStyleModel",
            "_view_count": null,
            "_view_module": "@jupyter-widgets/base",
            "_view_module_version": "1.2.0",
            "_view_name": "StyleView",
            "bar_color": null,
            "description_width": ""
          }
        },
        "72cdb87fbed24f79baf5f28da219b26b": {
          "model_module": "@jupyter-widgets/controls",
          "model_module_version": "1.5.0",
          "model_name": "DescriptionStyleModel",
          "state": {
            "_model_module": "@jupyter-widgets/controls",
            "_model_module_version": "1.5.0",
            "_model_name": "DescriptionStyleModel",
            "_view_count": null,
            "_view_module": "@jupyter-widgets/base",
            "_view_module_version": "1.2.0",
            "_view_name": "StyleView",
            "description_width": ""
          }
        },
        "747dff0a985047cf88662c2ab266d591": {
          "model_module": "@jupyter-widgets/controls",
          "model_module_version": "1.5.0",
          "model_name": "FloatProgressModel",
          "state": {
            "_dom_classes": [],
            "_model_module": "@jupyter-widgets/controls",
            "_model_module_version": "1.5.0",
            "_model_name": "FloatProgressModel",
            "_view_count": null,
            "_view_module": "@jupyter-widgets/controls",
            "_view_module_version": "1.5.0",
            "_view_name": "ProgressView",
            "bar_style": "success",
            "description": "",
            "description_tooltip": null,
            "layout": "IPY_MODEL_e7b19a38711b4d0dab8e7851451f085a",
            "max": 3188,
            "min": 0,
            "orientation": "horizontal",
            "style": "IPY_MODEL_2aefe6e3f46c452bab54b10198438e09",
            "value": 3188
          }
        },
        "769ce048781c44828e38cbe16f8067ec": {
          "model_module": "@jupyter-widgets/controls",
          "model_module_version": "1.5.0",
          "model_name": "HBoxModel",
          "state": {
            "_dom_classes": [],
            "_model_module": "@jupyter-widgets/controls",
            "_model_module_version": "1.5.0",
            "_model_name": "HBoxModel",
            "_view_count": null,
            "_view_module": "@jupyter-widgets/controls",
            "_view_module_version": "1.5.0",
            "_view_name": "HBoxView",
            "box_style": "",
            "children": [
              "IPY_MODEL_cc0aa98bcd4d419696d282f83e6ddb7c",
              "IPY_MODEL_0075278e3a5e4bb8aeaf3e178f963db9",
              "IPY_MODEL_809f2d8738fd4926bd86a85565c8f82f"
            ],
            "layout": "IPY_MODEL_fec43e2b704b4e2eb4f214e7c410aa73"
          }
        },
        "7bb0347972b2453e81f65787a04c53c7": {
          "model_module": "@jupyter-widgets/base",
          "model_module_version": "1.2.0",
          "model_name": "LayoutModel",
          "state": {
            "_model_module": "@jupyter-widgets/base",
            "_model_module_version": "1.2.0",
            "_model_name": "LayoutModel",
            "_view_count": null,
            "_view_module": "@jupyter-widgets/base",
            "_view_module_version": "1.2.0",
            "_view_name": "LayoutView",
            "align_content": null,
            "align_items": null,
            "align_self": null,
            "border": null,
            "bottom": null,
            "display": null,
            "flex": null,
            "flex_flow": null,
            "grid_area": null,
            "grid_auto_columns": null,
            "grid_auto_flow": null,
            "grid_auto_rows": null,
            "grid_column": null,
            "grid_gap": null,
            "grid_row": null,
            "grid_template_areas": null,
            "grid_template_columns": null,
            "grid_template_rows": null,
            "height": null,
            "justify_content": null,
            "justify_items": null,
            "left": null,
            "margin": null,
            "max_height": null,
            "max_width": null,
            "min_height": null,
            "min_width": null,
            "object_fit": null,
            "object_position": null,
            "order": null,
            "overflow": null,
            "overflow_x": null,
            "overflow_y": null,
            "padding": null,
            "right": null,
            "top": null,
            "visibility": null,
            "width": null
          }
        },
        "809f2d8738fd4926bd86a85565c8f82f": {
          "model_module": "@jupyter-widgets/controls",
          "model_module_version": "1.5.0",
          "model_name": "HTMLModel",
          "state": {
            "_dom_classes": [],
            "_model_module": "@jupyter-widgets/controls",
            "_model_module_version": "1.5.0",
            "_model_name": "HTMLModel",
            "_view_count": null,
            "_view_module": "@jupyter-widgets/controls",
            "_view_module_version": "1.5.0",
            "_view_name": "HTMLView",
            "description": "",
            "description_tooltip": null,
            "layout": "IPY_MODEL_07569e5917e14add86d16bc64bfaf6bb",
            "placeholder": "​",
            "style": "IPY_MODEL_5fa11eea3f1e42cf8977455aced60c9e",
            "value": " 6.46k/? [00:00&lt;00:00, 336kB/s]"
          }
        },
        "8c7bbc6ee14145989c3cbf528a9c5eb9": {
          "model_module": "@jupyter-widgets/controls",
          "model_module_version": "1.5.0",
          "model_name": "DescriptionStyleModel",
          "state": {
            "_model_module": "@jupyter-widgets/controls",
            "_model_module_version": "1.5.0",
            "_model_name": "DescriptionStyleModel",
            "_view_count": null,
            "_view_module": "@jupyter-widgets/base",
            "_view_module_version": "1.2.0",
            "_view_name": "StyleView",
            "description_width": ""
          }
        },
        "9060a6c203fe4f61b88af8623c87029a": {
          "model_module": "@jupyter-widgets/base",
          "model_module_version": "1.2.0",
          "model_name": "LayoutModel",
          "state": {
            "_model_module": "@jupyter-widgets/base",
            "_model_module_version": "1.2.0",
            "_model_name": "LayoutModel",
            "_view_count": null,
            "_view_module": "@jupyter-widgets/base",
            "_view_module_version": "1.2.0",
            "_view_name": "LayoutView",
            "align_content": null,
            "align_items": null,
            "align_self": null,
            "border": null,
            "bottom": null,
            "display": null,
            "flex": null,
            "flex_flow": null,
            "grid_area": null,
            "grid_auto_columns": null,
            "grid_auto_flow": null,
            "grid_auto_rows": null,
            "grid_column": null,
            "grid_gap": null,
            "grid_row": null,
            "grid_template_areas": null,
            "grid_template_columns": null,
            "grid_template_rows": null,
            "height": null,
            "justify_content": null,
            "justify_items": null,
            "left": null,
            "margin": null,
            "max_height": null,
            "max_width": null,
            "min_height": null,
            "min_width": null,
            "object_fit": null,
            "object_position": null,
            "order": null,
            "overflow": null,
            "overflow_x": null,
            "overflow_y": null,
            "padding": null,
            "right": null,
            "top": null,
            "visibility": null,
            "width": null
          }
        },
        "a2fe4a088c4a42a79a7c510de8efed45": {
          "model_module": "@jupyter-widgets/controls",
          "model_module_version": "1.5.0",
          "model_name": "HTMLModel",
          "state": {
            "_dom_classes": [],
            "_model_module": "@jupyter-widgets/controls",
            "_model_module_version": "1.5.0",
            "_model_name": "HTMLModel",
            "_view_count": null,
            "_view_module": "@jupyter-widgets/controls",
            "_view_module_version": "1.5.0",
            "_view_name": "HTMLView",
            "description": "",
            "description_tooltip": null,
            "layout": "IPY_MODEL_4d750b919b4e49679c8e15b92084daa4",
            "placeholder": "​",
            "style": "IPY_MODEL_72cdb87fbed24f79baf5f28da219b26b",
            "value": " 4000/4000 [1:39:31&lt;00:00,  1.33s/it]"
          }
        },
        "bdaf872cd74d4011aa6fceb06fc364c7": {
          "model_module": "@jupyter-widgets/controls",
          "model_module_version": "1.5.0",
          "model_name": "DescriptionStyleModel",
          "state": {
            "_model_module": "@jupyter-widgets/controls",
            "_model_module_version": "1.5.0",
            "_model_name": "DescriptionStyleModel",
            "_view_count": null,
            "_view_module": "@jupyter-widgets/base",
            "_view_module_version": "1.2.0",
            "_view_name": "StyleView",
            "description_width": ""
          }
        },
        "cc0aa98bcd4d419696d282f83e6ddb7c": {
          "model_module": "@jupyter-widgets/controls",
          "model_module_version": "1.5.0",
          "model_name": "HTMLModel",
          "state": {
            "_dom_classes": [],
            "_model_module": "@jupyter-widgets/controls",
            "_model_module_version": "1.5.0",
            "_model_name": "HTMLModel",
            "_view_count": null,
            "_view_module": "@jupyter-widgets/controls",
            "_view_module_version": "1.5.0",
            "_view_name": "HTMLView",
            "description": "",
            "description_tooltip": null,
            "layout": "IPY_MODEL_16cd0c4feab0420db6c380739d0626ff",
            "placeholder": "​",
            "style": "IPY_MODEL_dc30f45efc2a4395bb6a280301d67b9e",
            "value": "Downloading builder script: "
          }
        },
        "d321d20653bb4bd4a5ad246bee1ee57f": {
          "model_module": "@jupyter-widgets/base",
          "model_module_version": "1.2.0",
          "model_name": "LayoutModel",
          "state": {
            "_model_module": "@jupyter-widgets/base",
            "_model_module_version": "1.2.0",
            "_model_name": "LayoutModel",
            "_view_count": null,
            "_view_module": "@jupyter-widgets/base",
            "_view_module_version": "1.2.0",
            "_view_name": "LayoutView",
            "align_content": null,
            "align_items": null,
            "align_self": null,
            "border": null,
            "bottom": null,
            "display": null,
            "flex": null,
            "flex_flow": null,
            "grid_area": null,
            "grid_auto_columns": null,
            "grid_auto_flow": null,
            "grid_auto_rows": null,
            "grid_column": null,
            "grid_gap": null,
            "grid_row": null,
            "grid_template_areas": null,
            "grid_template_columns": null,
            "grid_template_rows": null,
            "height": null,
            "justify_content": null,
            "justify_items": null,
            "left": null,
            "margin": null,
            "max_height": null,
            "max_width": null,
            "min_height": null,
            "min_width": null,
            "object_fit": null,
            "object_position": null,
            "order": null,
            "overflow": null,
            "overflow_x": null,
            "overflow_y": null,
            "padding": null,
            "right": null,
            "top": null,
            "visibility": null,
            "width": null
          }
        },
        "d370783faa2a4cf49ea7becc3bc77686": {
          "model_module": "@jupyter-widgets/controls",
          "model_module_version": "1.5.0",
          "model_name": "HTMLModel",
          "state": {
            "_dom_classes": [],
            "_model_module": "@jupyter-widgets/controls",
            "_model_module_version": "1.5.0",
            "_model_name": "HTMLModel",
            "_view_count": null,
            "_view_module": "@jupyter-widgets/controls",
            "_view_module_version": "1.5.0",
            "_view_name": "HTMLView",
            "description": "",
            "description_tooltip": null,
            "layout": "IPY_MODEL_d321d20653bb4bd4a5ad246bee1ee57f",
            "placeholder": "​",
            "style": "IPY_MODEL_bdaf872cd74d4011aa6fceb06fc364c7",
            "value": "100%"
          }
        },
        "d8da299d56044592bc7e377bd101b4f7": {
          "model_module": "@jupyter-widgets/base",
          "model_module_version": "1.2.0",
          "model_name": "LayoutModel",
          "state": {
            "_model_module": "@jupyter-widgets/base",
            "_model_module_version": "1.2.0",
            "_model_name": "LayoutModel",
            "_view_count": null,
            "_view_module": "@jupyter-widgets/base",
            "_view_module_version": "1.2.0",
            "_view_name": "LayoutView",
            "align_content": null,
            "align_items": null,
            "align_self": null,
            "border": null,
            "bottom": null,
            "display": null,
            "flex": null,
            "flex_flow": null,
            "grid_area": null,
            "grid_auto_columns": null,
            "grid_auto_flow": null,
            "grid_auto_rows": null,
            "grid_column": null,
            "grid_gap": null,
            "grid_row": null,
            "grid_template_areas": null,
            "grid_template_columns": null,
            "grid_template_rows": null,
            "height": null,
            "justify_content": null,
            "justify_items": null,
            "left": null,
            "margin": null,
            "max_height": null,
            "max_width": null,
            "min_height": null,
            "min_width": null,
            "object_fit": null,
            "object_position": null,
            "order": null,
            "overflow": null,
            "overflow_x": null,
            "overflow_y": null,
            "padding": null,
            "right": null,
            "top": null,
            "visibility": null,
            "width": null
          }
        },
        "dc30f45efc2a4395bb6a280301d67b9e": {
          "model_module": "@jupyter-widgets/controls",
          "model_module_version": "1.5.0",
          "model_name": "DescriptionStyleModel",
          "state": {
            "_model_module": "@jupyter-widgets/controls",
            "_model_module_version": "1.5.0",
            "_model_name": "DescriptionStyleModel",
            "_view_count": null,
            "_view_module": "@jupyter-widgets/base",
            "_view_module_version": "1.2.0",
            "_view_name": "StyleView",
            "description_width": ""
          }
        },
        "e7b19a38711b4d0dab8e7851451f085a": {
          "model_module": "@jupyter-widgets/base",
          "model_module_version": "1.2.0",
          "model_name": "LayoutModel",
          "state": {
            "_model_module": "@jupyter-widgets/base",
            "_model_module_version": "1.2.0",
            "_model_name": "LayoutModel",
            "_view_count": null,
            "_view_module": "@jupyter-widgets/base",
            "_view_module_version": "1.2.0",
            "_view_name": "LayoutView",
            "align_content": null,
            "align_items": null,
            "align_self": null,
            "border": null,
            "bottom": null,
            "display": null,
            "flex": null,
            "flex_flow": null,
            "grid_area": null,
            "grid_auto_columns": null,
            "grid_auto_flow": null,
            "grid_auto_rows": null,
            "grid_column": null,
            "grid_gap": null,
            "grid_row": null,
            "grid_template_areas": null,
            "grid_template_columns": null,
            "grid_template_rows": null,
            "height": null,
            "justify_content": null,
            "justify_items": null,
            "left": null,
            "margin": null,
            "max_height": null,
            "max_width": null,
            "min_height": null,
            "min_width": null,
            "object_fit": null,
            "object_position": null,
            "order": null,
            "overflow": null,
            "overflow_x": null,
            "overflow_y": null,
            "padding": null,
            "right": null,
            "top": null,
            "visibility": null,
            "width": null
          }
        },
        "f48e017c58a040f0b28f8deb86107924": {
          "model_module": "@jupyter-widgets/controls",
          "model_module_version": "1.5.0",
          "model_name": "FloatProgressModel",
          "state": {
            "_dom_classes": [],
            "_model_module": "@jupyter-widgets/controls",
            "_model_module_version": "1.5.0",
            "_model_name": "FloatProgressModel",
            "_view_count": null,
            "_view_module": "@jupyter-widgets/controls",
            "_view_module_version": "1.5.0",
            "_view_name": "ProgressView",
            "bar_style": "success",
            "description": "",
            "description_tooltip": null,
            "layout": "IPY_MODEL_591114ae260140218b2640fae78e1fd0",
            "max": 4000,
            "min": 0,
            "orientation": "horizontal",
            "style": "IPY_MODEL_42003e317c3e42b28aadad780950ef87",
            "value": 4000
          }
        },
        "f662920e636847cc88a6b04c9c52fbe6": {
          "model_module": "@jupyter-widgets/controls",
          "model_module_version": "1.5.0",
          "model_name": "HTMLModel",
          "state": {
            "_dom_classes": [],
            "_model_module": "@jupyter-widgets/controls",
            "_model_module_version": "1.5.0",
            "_model_name": "HTMLModel",
            "_view_count": null,
            "_view_module": "@jupyter-widgets/controls",
            "_view_module_version": "1.5.0",
            "_view_name": "HTMLView",
            "description": "",
            "description_tooltip": null,
            "layout": "IPY_MODEL_fe9a7874c18f43a5abe3c70b4701605d",
            "placeholder": "​",
            "style": "IPY_MODEL_fdd9aecc169349958e52cd0e2a70c1ad",
            "value": " 11.3k/? [00:00&lt;00:00, 551kB/s]"
          }
        },
        "fdd9aecc169349958e52cd0e2a70c1ad": {
          "model_module": "@jupyter-widgets/controls",
          "model_module_version": "1.5.0",
          "model_name": "DescriptionStyleModel",
          "state": {
            "_model_module": "@jupyter-widgets/controls",
            "_model_module_version": "1.5.0",
            "_model_name": "DescriptionStyleModel",
            "_view_count": null,
            "_view_module": "@jupyter-widgets/base",
            "_view_module_version": "1.2.0",
            "_view_name": "StyleView",
            "description_width": ""
          }
        },
        "fe9a7874c18f43a5abe3c70b4701605d": {
          "model_module": "@jupyter-widgets/base",
          "model_module_version": "1.2.0",
          "model_name": "LayoutModel",
          "state": {
            "_model_module": "@jupyter-widgets/base",
            "_model_module_version": "1.2.0",
            "_model_name": "LayoutModel",
            "_view_count": null,
            "_view_module": "@jupyter-widgets/base",
            "_view_module_version": "1.2.0",
            "_view_name": "LayoutView",
            "align_content": null,
            "align_items": null,
            "align_self": null,
            "border": null,
            "bottom": null,
            "display": null,
            "flex": null,
            "flex_flow": null,
            "grid_area": null,
            "grid_auto_columns": null,
            "grid_auto_flow": null,
            "grid_auto_rows": null,
            "grid_column": null,
            "grid_gap": null,
            "grid_row": null,
            "grid_template_areas": null,
            "grid_template_columns": null,
            "grid_template_rows": null,
            "height": null,
            "justify_content": null,
            "justify_items": null,
            "left": null,
            "margin": null,
            "max_height": null,
            "max_width": null,
            "min_height": null,
            "min_width": null,
            "object_fit": null,
            "object_position": null,
            "order": null,
            "overflow": null,
            "overflow_x": null,
            "overflow_y": null,
            "padding": null,
            "right": null,
            "top": null,
            "visibility": null,
            "width": null
          }
        },
        "fec43e2b704b4e2eb4f214e7c410aa73": {
          "model_module": "@jupyter-widgets/base",
          "model_module_version": "1.2.0",
          "model_name": "LayoutModel",
          "state": {
            "_model_module": "@jupyter-widgets/base",
            "_model_module_version": "1.2.0",
            "_model_name": "LayoutModel",
            "_view_count": null,
            "_view_module": "@jupyter-widgets/base",
            "_view_module_version": "1.2.0",
            "_view_name": "LayoutView",
            "align_content": null,
            "align_items": null,
            "align_self": null,
            "border": null,
            "bottom": null,
            "display": null,
            "flex": null,
            "flex_flow": null,
            "grid_area": null,
            "grid_auto_columns": null,
            "grid_auto_flow": null,
            "grid_auto_rows": null,
            "grid_column": null,
            "grid_gap": null,
            "grid_row": null,
            "grid_template_areas": null,
            "grid_template_columns": null,
            "grid_template_rows": null,
            "height": null,
            "justify_content": null,
            "justify_items": null,
            "left": null,
            "margin": null,
            "max_height": null,
            "max_width": null,
            "min_height": null,
            "min_width": null,
            "object_fit": null,
            "object_position": null,
            "order": null,
            "overflow": null,
            "overflow_x": null,
            "overflow_y": null,
            "padding": null,
            "right": null,
            "top": null,
            "visibility": null,
            "width": null
          }
        },
        "111ba81d7c904d1ca052c977c75a8ccd": {
          "model_module": "@jupyter-widgets/controls",
          "model_name": "HBoxModel",
          "model_module_version": "1.5.0",
          "state": {
            "_dom_classes": [],
            "_model_module": "@jupyter-widgets/controls",
            "_model_module_version": "1.5.0",
            "_model_name": "HBoxModel",
            "_view_count": null,
            "_view_module": "@jupyter-widgets/controls",
            "_view_module_version": "1.5.0",
            "_view_name": "HBoxView",
            "box_style": "",
            "children": [
              "IPY_MODEL_367279e585104f8db45b7b6e8e29dcc2",
              "IPY_MODEL_63ee5d9f32d04d2481fd576ff9655c26",
              "IPY_MODEL_eb11c078d258488daaa70d8ca06f9fb3"
            ],
            "layout": "IPY_MODEL_92a9a7a81b3641feaae2a5f431313a40"
          }
        },
        "367279e585104f8db45b7b6e8e29dcc2": {
          "model_module": "@jupyter-widgets/controls",
          "model_name": "HTMLModel",
          "model_module_version": "1.5.0",
          "state": {
            "_dom_classes": [],
            "_model_module": "@jupyter-widgets/controls",
            "_model_module_version": "1.5.0",
            "_model_name": "HTMLModel",
            "_view_count": null,
            "_view_module": "@jupyter-widgets/controls",
            "_view_module_version": "1.5.0",
            "_view_name": "HTMLView",
            "description": "",
            "description_tooltip": null,
            "layout": "IPY_MODEL_5df6703018d642c8befde77e0551c69e",
            "placeholder": "​",
            "style": "IPY_MODEL_b4c2decdcf284a379e4c8d5b3bd77995",
            "value": "100%"
          }
        },
        "63ee5d9f32d04d2481fd576ff9655c26": {
          "model_module": "@jupyter-widgets/controls",
          "model_name": "FloatProgressModel",
          "model_module_version": "1.5.0",
          "state": {
            "_dom_classes": [],
            "_model_module": "@jupyter-widgets/controls",
            "_model_module_version": "1.5.0",
            "_model_name": "FloatProgressModel",
            "_view_count": null,
            "_view_module": "@jupyter-widgets/controls",
            "_view_module_version": "1.5.0",
            "_view_name": "ProgressView",
            "bar_style": "success",
            "description": "",
            "description_tooltip": null,
            "layout": "IPY_MODEL_daa6c6feebc247f18918502c9ad9c290",
            "max": 4000,
            "min": 0,
            "orientation": "horizontal",
            "style": "IPY_MODEL_6435847426e448bebddd6123fc1054d6",
            "value": 4000
          }
        },
        "eb11c078d258488daaa70d8ca06f9fb3": {
          "model_module": "@jupyter-widgets/controls",
          "model_name": "HTMLModel",
          "model_module_version": "1.5.0",
          "state": {
            "_dom_classes": [],
            "_model_module": "@jupyter-widgets/controls",
            "_model_module_version": "1.5.0",
            "_model_name": "HTMLModel",
            "_view_count": null,
            "_view_module": "@jupyter-widgets/controls",
            "_view_module_version": "1.5.0",
            "_view_name": "HTMLView",
            "description": "",
            "description_tooltip": null,
            "layout": "IPY_MODEL_da4558655ffb46b1ae990c4b013e7604",
            "placeholder": "​",
            "style": "IPY_MODEL_f6e6b49a5029464997be331c9eb53578",
            "value": " 4000/4000 [1:51:14&lt;00:00,  1.48s/it]"
          }
        },
        "92a9a7a81b3641feaae2a5f431313a40": {
          "model_module": "@jupyter-widgets/base",
          "model_name": "LayoutModel",
          "model_module_version": "1.2.0",
          "state": {
            "_model_module": "@jupyter-widgets/base",
            "_model_module_version": "1.2.0",
            "_model_name": "LayoutModel",
            "_view_count": null,
            "_view_module": "@jupyter-widgets/base",
            "_view_module_version": "1.2.0",
            "_view_name": "LayoutView",
            "align_content": null,
            "align_items": null,
            "align_self": null,
            "border": null,
            "bottom": null,
            "display": null,
            "flex": null,
            "flex_flow": null,
            "grid_area": null,
            "grid_auto_columns": null,
            "grid_auto_flow": null,
            "grid_auto_rows": null,
            "grid_column": null,
            "grid_gap": null,
            "grid_row": null,
            "grid_template_areas": null,
            "grid_template_columns": null,
            "grid_template_rows": null,
            "height": null,
            "justify_content": null,
            "justify_items": null,
            "left": null,
            "margin": null,
            "max_height": null,
            "max_width": null,
            "min_height": null,
            "min_width": null,
            "object_fit": null,
            "object_position": null,
            "order": null,
            "overflow": null,
            "overflow_x": null,
            "overflow_y": null,
            "padding": null,
            "right": null,
            "top": null,
            "visibility": null,
            "width": null
          }
        },
        "5df6703018d642c8befde77e0551c69e": {
          "model_module": "@jupyter-widgets/base",
          "model_name": "LayoutModel",
          "model_module_version": "1.2.0",
          "state": {
            "_model_module": "@jupyter-widgets/base",
            "_model_module_version": "1.2.0",
            "_model_name": "LayoutModel",
            "_view_count": null,
            "_view_module": "@jupyter-widgets/base",
            "_view_module_version": "1.2.0",
            "_view_name": "LayoutView",
            "align_content": null,
            "align_items": null,
            "align_self": null,
            "border": null,
            "bottom": null,
            "display": null,
            "flex": null,
            "flex_flow": null,
            "grid_area": null,
            "grid_auto_columns": null,
            "grid_auto_flow": null,
            "grid_auto_rows": null,
            "grid_column": null,
            "grid_gap": null,
            "grid_row": null,
            "grid_template_areas": null,
            "grid_template_columns": null,
            "grid_template_rows": null,
            "height": null,
            "justify_content": null,
            "justify_items": null,
            "left": null,
            "margin": null,
            "max_height": null,
            "max_width": null,
            "min_height": null,
            "min_width": null,
            "object_fit": null,
            "object_position": null,
            "order": null,
            "overflow": null,
            "overflow_x": null,
            "overflow_y": null,
            "padding": null,
            "right": null,
            "top": null,
            "visibility": null,
            "width": null
          }
        },
        "b4c2decdcf284a379e4c8d5b3bd77995": {
          "model_module": "@jupyter-widgets/controls",
          "model_name": "DescriptionStyleModel",
          "model_module_version": "1.5.0",
          "state": {
            "_model_module": "@jupyter-widgets/controls",
            "_model_module_version": "1.5.0",
            "_model_name": "DescriptionStyleModel",
            "_view_count": null,
            "_view_module": "@jupyter-widgets/base",
            "_view_module_version": "1.2.0",
            "_view_name": "StyleView",
            "description_width": ""
          }
        },
        "daa6c6feebc247f18918502c9ad9c290": {
          "model_module": "@jupyter-widgets/base",
          "model_name": "LayoutModel",
          "model_module_version": "1.2.0",
          "state": {
            "_model_module": "@jupyter-widgets/base",
            "_model_module_version": "1.2.0",
            "_model_name": "LayoutModel",
            "_view_count": null,
            "_view_module": "@jupyter-widgets/base",
            "_view_module_version": "1.2.0",
            "_view_name": "LayoutView",
            "align_content": null,
            "align_items": null,
            "align_self": null,
            "border": null,
            "bottom": null,
            "display": null,
            "flex": null,
            "flex_flow": null,
            "grid_area": null,
            "grid_auto_columns": null,
            "grid_auto_flow": null,
            "grid_auto_rows": null,
            "grid_column": null,
            "grid_gap": null,
            "grid_row": null,
            "grid_template_areas": null,
            "grid_template_columns": null,
            "grid_template_rows": null,
            "height": null,
            "justify_content": null,
            "justify_items": null,
            "left": null,
            "margin": null,
            "max_height": null,
            "max_width": null,
            "min_height": null,
            "min_width": null,
            "object_fit": null,
            "object_position": null,
            "order": null,
            "overflow": null,
            "overflow_x": null,
            "overflow_y": null,
            "padding": null,
            "right": null,
            "top": null,
            "visibility": null,
            "width": null
          }
        },
        "6435847426e448bebddd6123fc1054d6": {
          "model_module": "@jupyter-widgets/controls",
          "model_name": "ProgressStyleModel",
          "model_module_version": "1.5.0",
          "state": {
            "_model_module": "@jupyter-widgets/controls",
            "_model_module_version": "1.5.0",
            "_model_name": "ProgressStyleModel",
            "_view_count": null,
            "_view_module": "@jupyter-widgets/base",
            "_view_module_version": "1.2.0",
            "_view_name": "StyleView",
            "bar_color": null,
            "description_width": ""
          }
        },
        "da4558655ffb46b1ae990c4b013e7604": {
          "model_module": "@jupyter-widgets/base",
          "model_name": "LayoutModel",
          "model_module_version": "1.2.0",
          "state": {
            "_model_module": "@jupyter-widgets/base",
            "_model_module_version": "1.2.0",
            "_model_name": "LayoutModel",
            "_view_count": null,
            "_view_module": "@jupyter-widgets/base",
            "_view_module_version": "1.2.0",
            "_view_name": "LayoutView",
            "align_content": null,
            "align_items": null,
            "align_self": null,
            "border": null,
            "bottom": null,
            "display": null,
            "flex": null,
            "flex_flow": null,
            "grid_area": null,
            "grid_auto_columns": null,
            "grid_auto_flow": null,
            "grid_auto_rows": null,
            "grid_column": null,
            "grid_gap": null,
            "grid_row": null,
            "grid_template_areas": null,
            "grid_template_columns": null,
            "grid_template_rows": null,
            "height": null,
            "justify_content": null,
            "justify_items": null,
            "left": null,
            "margin": null,
            "max_height": null,
            "max_width": null,
            "min_height": null,
            "min_width": null,
            "object_fit": null,
            "object_position": null,
            "order": null,
            "overflow": null,
            "overflow_x": null,
            "overflow_y": null,
            "padding": null,
            "right": null,
            "top": null,
            "visibility": null,
            "width": null
          }
        },
        "f6e6b49a5029464997be331c9eb53578": {
          "model_module": "@jupyter-widgets/controls",
          "model_name": "DescriptionStyleModel",
          "model_module_version": "1.5.0",
          "state": {
            "_model_module": "@jupyter-widgets/controls",
            "_model_module_version": "1.5.0",
            "_model_name": "DescriptionStyleModel",
            "_view_count": null,
            "_view_module": "@jupyter-widgets/base",
            "_view_module_version": "1.2.0",
            "_view_name": "StyleView",
            "description_width": ""
          }
        },
        "1d7e069cc64c4f13814617ff4a6e175c": {
          "model_module": "@jupyter-widgets/controls",
          "model_name": "HBoxModel",
          "model_module_version": "1.5.0",
          "state": {
            "_dom_classes": [],
            "_model_module": "@jupyter-widgets/controls",
            "_model_module_version": "1.5.0",
            "_model_name": "HBoxModel",
            "_view_count": null,
            "_view_module": "@jupyter-widgets/controls",
            "_view_module_version": "1.5.0",
            "_view_name": "HBoxView",
            "box_style": "",
            "children": [
              "IPY_MODEL_6c54a71bc4744b4789a5d27e080fbdd1",
              "IPY_MODEL_cce1e141f6404f7fa951551ae7ef7599",
              "IPY_MODEL_0bed9ea046394db98dd21d6df435aa24"
            ],
            "layout": "IPY_MODEL_895d25a0ede24aa981e8212000857556"
          }
        },
        "6c54a71bc4744b4789a5d27e080fbdd1": {
          "model_module": "@jupyter-widgets/controls",
          "model_name": "HTMLModel",
          "model_module_version": "1.5.0",
          "state": {
            "_dom_classes": [],
            "_model_module": "@jupyter-widgets/controls",
            "_model_module_version": "1.5.0",
            "_model_name": "HTMLModel",
            "_view_count": null,
            "_view_module": "@jupyter-widgets/controls",
            "_view_module_version": "1.5.0",
            "_view_name": "HTMLView",
            "description": "",
            "description_tooltip": null,
            "layout": "IPY_MODEL_047d40d7ef9d4562b7689737977f6246",
            "placeholder": "​",
            "style": "IPY_MODEL_d28465a098e9492baa92ce2bc941120e",
            "value": "Downloading builder script: "
          }
        },
        "cce1e141f6404f7fa951551ae7ef7599": {
          "model_module": "@jupyter-widgets/controls",
          "model_name": "FloatProgressModel",
          "model_module_version": "1.5.0",
          "state": {
            "_dom_classes": [],
            "_model_module": "@jupyter-widgets/controls",
            "_model_module_version": "1.5.0",
            "_model_name": "FloatProgressModel",
            "_view_count": null,
            "_view_module": "@jupyter-widgets/controls",
            "_view_module_version": "1.5.0",
            "_view_name": "ProgressView",
            "bar_style": "success",
            "description": "",
            "description_tooltip": null,
            "layout": "IPY_MODEL_b32610cfbbbf4628abe09527744af477",
            "max": 2253,
            "min": 0,
            "orientation": "horizontal",
            "style": "IPY_MODEL_d78305979f5a45d6979c3d370aee5782",
            "value": 2253
          }
        },
        "0bed9ea046394db98dd21d6df435aa24": {
          "model_module": "@jupyter-widgets/controls",
          "model_name": "HTMLModel",
          "model_module_version": "1.5.0",
          "state": {
            "_dom_classes": [],
            "_model_module": "@jupyter-widgets/controls",
            "_model_module_version": "1.5.0",
            "_model_name": "HTMLModel",
            "_view_count": null,
            "_view_module": "@jupyter-widgets/controls",
            "_view_module_version": "1.5.0",
            "_view_name": "HTMLView",
            "description": "",
            "description_tooltip": null,
            "layout": "IPY_MODEL_9df8723a9ed84796b028b867f73b9340",
            "placeholder": "​",
            "style": "IPY_MODEL_24cfefdb590d44f6a34ecfa13aff0570",
            "value": " 6.46k/? [00:00&lt;00:00, 276kB/s]"
          }
        },
        "895d25a0ede24aa981e8212000857556": {
          "model_module": "@jupyter-widgets/base",
          "model_name": "LayoutModel",
          "model_module_version": "1.2.0",
          "state": {
            "_model_module": "@jupyter-widgets/base",
            "_model_module_version": "1.2.0",
            "_model_name": "LayoutModel",
            "_view_count": null,
            "_view_module": "@jupyter-widgets/base",
            "_view_module_version": "1.2.0",
            "_view_name": "LayoutView",
            "align_content": null,
            "align_items": null,
            "align_self": null,
            "border": null,
            "bottom": null,
            "display": null,
            "flex": null,
            "flex_flow": null,
            "grid_area": null,
            "grid_auto_columns": null,
            "grid_auto_flow": null,
            "grid_auto_rows": null,
            "grid_column": null,
            "grid_gap": null,
            "grid_row": null,
            "grid_template_areas": null,
            "grid_template_columns": null,
            "grid_template_rows": null,
            "height": null,
            "justify_content": null,
            "justify_items": null,
            "left": null,
            "margin": null,
            "max_height": null,
            "max_width": null,
            "min_height": null,
            "min_width": null,
            "object_fit": null,
            "object_position": null,
            "order": null,
            "overflow": null,
            "overflow_x": null,
            "overflow_y": null,
            "padding": null,
            "right": null,
            "top": null,
            "visibility": null,
            "width": null
          }
        },
        "047d40d7ef9d4562b7689737977f6246": {
          "model_module": "@jupyter-widgets/base",
          "model_name": "LayoutModel",
          "model_module_version": "1.2.0",
          "state": {
            "_model_module": "@jupyter-widgets/base",
            "_model_module_version": "1.2.0",
            "_model_name": "LayoutModel",
            "_view_count": null,
            "_view_module": "@jupyter-widgets/base",
            "_view_module_version": "1.2.0",
            "_view_name": "LayoutView",
            "align_content": null,
            "align_items": null,
            "align_self": null,
            "border": null,
            "bottom": null,
            "display": null,
            "flex": null,
            "flex_flow": null,
            "grid_area": null,
            "grid_auto_columns": null,
            "grid_auto_flow": null,
            "grid_auto_rows": null,
            "grid_column": null,
            "grid_gap": null,
            "grid_row": null,
            "grid_template_areas": null,
            "grid_template_columns": null,
            "grid_template_rows": null,
            "height": null,
            "justify_content": null,
            "justify_items": null,
            "left": null,
            "margin": null,
            "max_height": null,
            "max_width": null,
            "min_height": null,
            "min_width": null,
            "object_fit": null,
            "object_position": null,
            "order": null,
            "overflow": null,
            "overflow_x": null,
            "overflow_y": null,
            "padding": null,
            "right": null,
            "top": null,
            "visibility": null,
            "width": null
          }
        },
        "d28465a098e9492baa92ce2bc941120e": {
          "model_module": "@jupyter-widgets/controls",
          "model_name": "DescriptionStyleModel",
          "model_module_version": "1.5.0",
          "state": {
            "_model_module": "@jupyter-widgets/controls",
            "_model_module_version": "1.5.0",
            "_model_name": "DescriptionStyleModel",
            "_view_count": null,
            "_view_module": "@jupyter-widgets/base",
            "_view_module_version": "1.2.0",
            "_view_name": "StyleView",
            "description_width": ""
          }
        },
        "b32610cfbbbf4628abe09527744af477": {
          "model_module": "@jupyter-widgets/base",
          "model_name": "LayoutModel",
          "model_module_version": "1.2.0",
          "state": {
            "_model_module": "@jupyter-widgets/base",
            "_model_module_version": "1.2.0",
            "_model_name": "LayoutModel",
            "_view_count": null,
            "_view_module": "@jupyter-widgets/base",
            "_view_module_version": "1.2.0",
            "_view_name": "LayoutView",
            "align_content": null,
            "align_items": null,
            "align_self": null,
            "border": null,
            "bottom": null,
            "display": null,
            "flex": null,
            "flex_flow": null,
            "grid_area": null,
            "grid_auto_columns": null,
            "grid_auto_flow": null,
            "grid_auto_rows": null,
            "grid_column": null,
            "grid_gap": null,
            "grid_row": null,
            "grid_template_areas": null,
            "grid_template_columns": null,
            "grid_template_rows": null,
            "height": null,
            "justify_content": null,
            "justify_items": null,
            "left": null,
            "margin": null,
            "max_height": null,
            "max_width": null,
            "min_height": null,
            "min_width": null,
            "object_fit": null,
            "object_position": null,
            "order": null,
            "overflow": null,
            "overflow_x": null,
            "overflow_y": null,
            "padding": null,
            "right": null,
            "top": null,
            "visibility": null,
            "width": null
          }
        },
        "d78305979f5a45d6979c3d370aee5782": {
          "model_module": "@jupyter-widgets/controls",
          "model_name": "ProgressStyleModel",
          "model_module_version": "1.5.0",
          "state": {
            "_model_module": "@jupyter-widgets/controls",
            "_model_module_version": "1.5.0",
            "_model_name": "ProgressStyleModel",
            "_view_count": null,
            "_view_module": "@jupyter-widgets/base",
            "_view_module_version": "1.2.0",
            "_view_name": "StyleView",
            "bar_color": null,
            "description_width": ""
          }
        },
        "9df8723a9ed84796b028b867f73b9340": {
          "model_module": "@jupyter-widgets/base",
          "model_name": "LayoutModel",
          "model_module_version": "1.2.0",
          "state": {
            "_model_module": "@jupyter-widgets/base",
            "_model_module_version": "1.2.0",
            "_model_name": "LayoutModel",
            "_view_count": null,
            "_view_module": "@jupyter-widgets/base",
            "_view_module_version": "1.2.0",
            "_view_name": "LayoutView",
            "align_content": null,
            "align_items": null,
            "align_self": null,
            "border": null,
            "bottom": null,
            "display": null,
            "flex": null,
            "flex_flow": null,
            "grid_area": null,
            "grid_auto_columns": null,
            "grid_auto_flow": null,
            "grid_auto_rows": null,
            "grid_column": null,
            "grid_gap": null,
            "grid_row": null,
            "grid_template_areas": null,
            "grid_template_columns": null,
            "grid_template_rows": null,
            "height": null,
            "justify_content": null,
            "justify_items": null,
            "left": null,
            "margin": null,
            "max_height": null,
            "max_width": null,
            "min_height": null,
            "min_width": null,
            "object_fit": null,
            "object_position": null,
            "order": null,
            "overflow": null,
            "overflow_x": null,
            "overflow_y": null,
            "padding": null,
            "right": null,
            "top": null,
            "visibility": null,
            "width": null
          }
        },
        "24cfefdb590d44f6a34ecfa13aff0570": {
          "model_module": "@jupyter-widgets/controls",
          "model_name": "DescriptionStyleModel",
          "model_module_version": "1.5.0",
          "state": {
            "_model_module": "@jupyter-widgets/controls",
            "_model_module_version": "1.5.0",
            "_model_name": "DescriptionStyleModel",
            "_view_count": null,
            "_view_module": "@jupyter-widgets/base",
            "_view_module_version": "1.2.0",
            "_view_name": "StyleView",
            "description_width": ""
          }
        },
        "a3eb5cdf6dfa4e67baaa88fdf7ccccb2": {
          "model_module": "@jupyter-widgets/controls",
          "model_name": "HBoxModel",
          "model_module_version": "1.5.0",
          "state": {
            "_dom_classes": [],
            "_model_module": "@jupyter-widgets/controls",
            "_model_module_version": "1.5.0",
            "_model_name": "HBoxModel",
            "_view_count": null,
            "_view_module": "@jupyter-widgets/controls",
            "_view_module_version": "1.5.0",
            "_view_name": "HBoxView",
            "box_style": "",
            "children": [
              "IPY_MODEL_e90ceb6ed12c45ff8308c08a4c702680",
              "IPY_MODEL_4301e09f9fa14e5faf4aa09fdfc60b7f",
              "IPY_MODEL_80a4b928e57e49d785856183c0b3411d"
            ],
            "layout": "IPY_MODEL_d52ba3d23c824c0292b0687fb6000af0"
          }
        },
        "e90ceb6ed12c45ff8308c08a4c702680": {
          "model_module": "@jupyter-widgets/controls",
          "model_name": "HTMLModel",
          "model_module_version": "1.5.0",
          "state": {
            "_dom_classes": [],
            "_model_module": "@jupyter-widgets/controls",
            "_model_module_version": "1.5.0",
            "_model_name": "HTMLModel",
            "_view_count": null,
            "_view_module": "@jupyter-widgets/controls",
            "_view_module_version": "1.5.0",
            "_view_name": "HTMLView",
            "description": "",
            "description_tooltip": null,
            "layout": "IPY_MODEL_04653a1056824191b9f3b0592db567b1",
            "placeholder": "​",
            "style": "IPY_MODEL_08f48131ad6c4a91a6b4c4abb8987e9a",
            "value": "Downloading extra modules: "
          }
        },
        "4301e09f9fa14e5faf4aa09fdfc60b7f": {
          "model_module": "@jupyter-widgets/controls",
          "model_name": "FloatProgressModel",
          "model_module_version": "1.5.0",
          "state": {
            "_dom_classes": [],
            "_model_module": "@jupyter-widgets/controls",
            "_model_module_version": "1.5.0",
            "_model_name": "FloatProgressModel",
            "_view_count": null,
            "_view_module": "@jupyter-widgets/controls",
            "_view_module_version": "1.5.0",
            "_view_name": "ProgressView",
            "bar_style": "success",
            "description": "",
            "description_tooltip": null,
            "layout": "IPY_MODEL_742cfc12d83745a8960d659290e235a2",
            "max": 3188,
            "min": 0,
            "orientation": "horizontal",
            "style": "IPY_MODEL_2a797fa80a804d1a87e6a948d3d9f098",
            "value": 3188
          }
        },
        "80a4b928e57e49d785856183c0b3411d": {
          "model_module": "@jupyter-widgets/controls",
          "model_name": "HTMLModel",
          "model_module_version": "1.5.0",
          "state": {
            "_dom_classes": [],
            "_model_module": "@jupyter-widgets/controls",
            "_model_module_version": "1.5.0",
            "_model_name": "HTMLModel",
            "_view_count": null,
            "_view_module": "@jupyter-widgets/controls",
            "_view_module_version": "1.5.0",
            "_view_name": "HTMLView",
            "description": "",
            "description_tooltip": null,
            "layout": "IPY_MODEL_cf6cd27b9a4e46ee965370d2f130bb8b",
            "placeholder": "​",
            "style": "IPY_MODEL_e764787ff2f24902a73f6d13c4004658",
            "value": " 11.3k/? [00:00&lt;00:00, 492kB/s]"
          }
        },
        "d52ba3d23c824c0292b0687fb6000af0": {
          "model_module": "@jupyter-widgets/base",
          "model_name": "LayoutModel",
          "model_module_version": "1.2.0",
          "state": {
            "_model_module": "@jupyter-widgets/base",
            "_model_module_version": "1.2.0",
            "_model_name": "LayoutModel",
            "_view_count": null,
            "_view_module": "@jupyter-widgets/base",
            "_view_module_version": "1.2.0",
            "_view_name": "LayoutView",
            "align_content": null,
            "align_items": null,
            "align_self": null,
            "border": null,
            "bottom": null,
            "display": null,
            "flex": null,
            "flex_flow": null,
            "grid_area": null,
            "grid_auto_columns": null,
            "grid_auto_flow": null,
            "grid_auto_rows": null,
            "grid_column": null,
            "grid_gap": null,
            "grid_row": null,
            "grid_template_areas": null,
            "grid_template_columns": null,
            "grid_template_rows": null,
            "height": null,
            "justify_content": null,
            "justify_items": null,
            "left": null,
            "margin": null,
            "max_height": null,
            "max_width": null,
            "min_height": null,
            "min_width": null,
            "object_fit": null,
            "object_position": null,
            "order": null,
            "overflow": null,
            "overflow_x": null,
            "overflow_y": null,
            "padding": null,
            "right": null,
            "top": null,
            "visibility": null,
            "width": null
          }
        },
        "04653a1056824191b9f3b0592db567b1": {
          "model_module": "@jupyter-widgets/base",
          "model_name": "LayoutModel",
          "model_module_version": "1.2.0",
          "state": {
            "_model_module": "@jupyter-widgets/base",
            "_model_module_version": "1.2.0",
            "_model_name": "LayoutModel",
            "_view_count": null,
            "_view_module": "@jupyter-widgets/base",
            "_view_module_version": "1.2.0",
            "_view_name": "LayoutView",
            "align_content": null,
            "align_items": null,
            "align_self": null,
            "border": null,
            "bottom": null,
            "display": null,
            "flex": null,
            "flex_flow": null,
            "grid_area": null,
            "grid_auto_columns": null,
            "grid_auto_flow": null,
            "grid_auto_rows": null,
            "grid_column": null,
            "grid_gap": null,
            "grid_row": null,
            "grid_template_areas": null,
            "grid_template_columns": null,
            "grid_template_rows": null,
            "height": null,
            "justify_content": null,
            "justify_items": null,
            "left": null,
            "margin": null,
            "max_height": null,
            "max_width": null,
            "min_height": null,
            "min_width": null,
            "object_fit": null,
            "object_position": null,
            "order": null,
            "overflow": null,
            "overflow_x": null,
            "overflow_y": null,
            "padding": null,
            "right": null,
            "top": null,
            "visibility": null,
            "width": null
          }
        },
        "08f48131ad6c4a91a6b4c4abb8987e9a": {
          "model_module": "@jupyter-widgets/controls",
          "model_name": "DescriptionStyleModel",
          "model_module_version": "1.5.0",
          "state": {
            "_model_module": "@jupyter-widgets/controls",
            "_model_module_version": "1.5.0",
            "_model_name": "DescriptionStyleModel",
            "_view_count": null,
            "_view_module": "@jupyter-widgets/base",
            "_view_module_version": "1.2.0",
            "_view_name": "StyleView",
            "description_width": ""
          }
        },
        "742cfc12d83745a8960d659290e235a2": {
          "model_module": "@jupyter-widgets/base",
          "model_name": "LayoutModel",
          "model_module_version": "1.2.0",
          "state": {
            "_model_module": "@jupyter-widgets/base",
            "_model_module_version": "1.2.0",
            "_model_name": "LayoutModel",
            "_view_count": null,
            "_view_module": "@jupyter-widgets/base",
            "_view_module_version": "1.2.0",
            "_view_name": "LayoutView",
            "align_content": null,
            "align_items": null,
            "align_self": null,
            "border": null,
            "bottom": null,
            "display": null,
            "flex": null,
            "flex_flow": null,
            "grid_area": null,
            "grid_auto_columns": null,
            "grid_auto_flow": null,
            "grid_auto_rows": null,
            "grid_column": null,
            "grid_gap": null,
            "grid_row": null,
            "grid_template_areas": null,
            "grid_template_columns": null,
            "grid_template_rows": null,
            "height": null,
            "justify_content": null,
            "justify_items": null,
            "left": null,
            "margin": null,
            "max_height": null,
            "max_width": null,
            "min_height": null,
            "min_width": null,
            "object_fit": null,
            "object_position": null,
            "order": null,
            "overflow": null,
            "overflow_x": null,
            "overflow_y": null,
            "padding": null,
            "right": null,
            "top": null,
            "visibility": null,
            "width": null
          }
        },
        "2a797fa80a804d1a87e6a948d3d9f098": {
          "model_module": "@jupyter-widgets/controls",
          "model_name": "ProgressStyleModel",
          "model_module_version": "1.5.0",
          "state": {
            "_model_module": "@jupyter-widgets/controls",
            "_model_module_version": "1.5.0",
            "_model_name": "ProgressStyleModel",
            "_view_count": null,
            "_view_module": "@jupyter-widgets/base",
            "_view_module_version": "1.2.0",
            "_view_name": "StyleView",
            "bar_color": null,
            "description_width": ""
          }
        },
        "cf6cd27b9a4e46ee965370d2f130bb8b": {
          "model_module": "@jupyter-widgets/base",
          "model_name": "LayoutModel",
          "model_module_version": "1.2.0",
          "state": {
            "_model_module": "@jupyter-widgets/base",
            "_model_module_version": "1.2.0",
            "_model_name": "LayoutModel",
            "_view_count": null,
            "_view_module": "@jupyter-widgets/base",
            "_view_module_version": "1.2.0",
            "_view_name": "LayoutView",
            "align_content": null,
            "align_items": null,
            "align_self": null,
            "border": null,
            "bottom": null,
            "display": null,
            "flex": null,
            "flex_flow": null,
            "grid_area": null,
            "grid_auto_columns": null,
            "grid_auto_flow": null,
            "grid_auto_rows": null,
            "grid_column": null,
            "grid_gap": null,
            "grid_row": null,
            "grid_template_areas": null,
            "grid_template_columns": null,
            "grid_template_rows": null,
            "height": null,
            "justify_content": null,
            "justify_items": null,
            "left": null,
            "margin": null,
            "max_height": null,
            "max_width": null,
            "min_height": null,
            "min_width": null,
            "object_fit": null,
            "object_position": null,
            "order": null,
            "overflow": null,
            "overflow_x": null,
            "overflow_y": null,
            "padding": null,
            "right": null,
            "top": null,
            "visibility": null,
            "width": null
          }
        },
        "e764787ff2f24902a73f6d13c4004658": {
          "model_module": "@jupyter-widgets/controls",
          "model_name": "DescriptionStyleModel",
          "model_module_version": "1.5.0",
          "state": {
            "_model_module": "@jupyter-widgets/controls",
            "_model_module_version": "1.5.0",
            "_model_name": "DescriptionStyleModel",
            "_view_count": null,
            "_view_module": "@jupyter-widgets/base",
            "_view_module_version": "1.2.0",
            "_view_name": "StyleView",
            "description_width": ""
          }
        }
      }
    }
  },
  "nbformat": 4,
  "nbformat_minor": 5
}